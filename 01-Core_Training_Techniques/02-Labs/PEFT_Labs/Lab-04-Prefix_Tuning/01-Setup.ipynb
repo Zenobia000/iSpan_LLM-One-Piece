{
  "cells": [
    {
      "cell_type": "markdown",
      "metadata": {},
      "source": [
        "# Lab 4: Prefix Tuning - Fine-Tuning a GPT-2 Model for Generation\n",
        "\n",
        "**Goal:** This lab explores **Prefix Tuning**, a PEFT method similar to Prompt Tuning but more powerful. Instead of just a soft prompt at the input, Prefix Tuning learns a set of \"prefix\" vectors that are inserted into the hidden states of *every* transformer layer. This gives the adapter more expressive power to steer the model's behavior. We will fine-tune a **GPT-2** model for text generation.\n",
        "\n",
        "**You will learn to:**\n",
        "-   Load a pre-trained GPT-2 model and a text generation dataset.\n",
        "-   Understand and configure `PrefixTuningConfig` from the `peft` library.\n",
        "-   Apply prefixes to the GPT-2 model.\n",
        "-   Fine-tune the model by training *only* the prefix vectors.\n",
        "-   Perform inference using the fine-tuned model to generate text in a specific style.\n",
        "\n",
        "---\n",
        "## Notebook 1: Environment Setup\n",
        "\n",
        "This notebook will prepare your environment for the Prefix Tuning lab.\n"
      ]
    },
    {
      "cell_type": "markdown",
      "metadata": {},
      "source": [
        "### Step 1: Check for GPU\n"
      ]
    },
    {
      "cell_type": "code",
      "execution_count": null,
      "metadata": {},
      "outputs": [],
      "source": [
        "!nvidia-smi\n"
      ]
    },
    {
      "cell_type": "markdown",
      "metadata": {},
      "source": [
        "### Step 2: Install Core Libraries\n"
      ]
    },
    {
      "cell_type": "code",
      "execution_count": null,
      "metadata": {},
      "outputs": [],
      "source": [
        "%pip install -q transformers peft datasets accelerate\n"
      ]
    },
    {
      "cell_type": "markdown",
      "metadata": {},
      "source": [
        "### Step 3: Verify Installation\n"
      ]
    },
    {
      "cell_type": "code",
      "execution_count": null,
      "metadata": {},
      "outputs": [],
      "source": [
        "import torch\n",
        "import transformers\n",
        "import peft\n",
        "import datasets\n",
        "\n",
        "print(f\"PyTorch version: {torch.__version__}\")\n",
        "print(f\"Transformers version: {transformers.__version__}\")\n",
        "print(f\"PEFT version: {peft.__version__}\")\n",
        "print(f\"Datasets version: {datasets.__version__}\")\n",
        "\n",
        "print(\"\\n✅ Environment is set up correctly!\")\n"
      ]
    }
  ],
  "metadata": {
    "language_info": {
      "name": "python"
    }
  },
  "nbformat": 4,
  "nbformat_minor": 2
}
