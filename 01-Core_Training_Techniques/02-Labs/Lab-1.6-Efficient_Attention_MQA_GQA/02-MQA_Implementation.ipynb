{
 "cells": [
  {
   "cell_type": "markdown",
   "id": "cell-0",
   "metadata": {},
   "source": [
    "# Lab-1.6: Multi-Query Attention 實現\n",
    "## MQA Implementation and Analysis\n",
    "\n",
    "**學習目標**:\n",
    "- 實現 Multi-Query Attention (MQA)\n",
    "- 對比 MQA vs MHA 性能\n",
    "- 分析 KV Cache 記憶體節省\n",
    "- 評估模型質量影響"
   ]
  },
  {
   "cell_type": "code",
   "execution_count": null,
   "id": "cell-1",
   "metadata": {},
   "outputs": [],
   "source": [
    "import torch\n",
    "import torch.nn as nn\n",
    "import torch.nn.functional as F\n",
    "import math\n",
    "\n",
    "device = torch.device(\"cuda\" if torch.cuda.is_available() else \"cpu\")"
   ]
  },
  {
   "cell_type": "markdown",
   "id": "cell-2",
   "metadata": {},
   "source": [
    "## 1. MQA 實現"
   ]
  },
  {
   "cell_type": "code",
   "execution_count": null,
   "id": "cell-3",
   "metadata": {},
   "outputs": [],
   "source": [
    "class MultiQueryAttention(nn.Module):\n",
    "    \"\"\"Multi-Query Attention - 單個共享 K, V\"\"\"\n",
    "    def __init__(self, hidden_dim, num_heads, dropout=0.1):\n",
    "        super().__init__()\n",
    "        self.num_heads = num_heads\n",
    "        self.head_dim = hidden_dim // num_heads\n",
    "        \n",
    "        self.q_proj = nn.Linear(hidden_dim, hidden_dim)  # num_heads 組 Q\n",
    "        self.k_proj = nn.Linear(hidden_dim, self.head_dim)  # 1 組 K (共享)\n",
    "        self.v_proj = nn.Linear(hidden_dim, self.head_dim)  # 1 組 V (共享)\n",
    "        self.out_proj = nn.Linear(hidden_dim, hidden_dim)\n",
    "        \n",
    "        self.dropout = nn.Dropout(dropout)\n",
    "        self.scale = math.sqrt(self.head_dim)\n",
    "    \n",
    "    def forward(self, x, past_kv=None, use_cache=False):\n",
    "        B, N, _ = x.size()\n",
    "        \n",
    "        # Q: [B, N, H, D]\n",
    "        Q = self.q_proj(x).view(B, N, self.num_heads, self.head_dim)\n",
    "        \n",
    "        # K, V: [B, N, 1, D] - 單個 head\n",
    "        K = self.k_proj(x).view(B, N, 1, self.head_dim)\n",
    "        V = self.v_proj(x).view(B, N, 1, self.head_dim)\n",
    "        \n",
    "        # KV Cache\n",
    "        if past_kv is not None:\n",
    "            past_k, past_v = past_kv\n",
    "            K = torch.cat([past_k, K], dim=1)\n",
    "            V = torch.cat([past_v, V], dim=1)\n",
    "        \n",
    "        # 擴展 K, V 到所有 heads (廣播)\n",
    "        K_expanded = K.expand(B, K.size(1), self.num_heads, self.head_dim)\n",
    "        V_expanded = V.expand(B, V.size(1), self.num_heads, self.head_dim)\n",
    "        \n",
    "        # Transpose\n",
    "        Q = Q.transpose(1, 2)  # [B, H, N, D]\n",
    "        K_expanded = K_expanded.transpose(1, 2)\n",
    "        V_expanded = V_expanded.transpose(1, 2)\n",
    "        \n",
    "        # Attention\n",
    "        scores = torch.matmul(Q, K_expanded.transpose(-2, -1)) / self.scale\n",
    "        attn_weights = F.softmax(scores, dim=-1)\n",
    "        attn_weights = self.dropout(attn_weights)\n",
    "        \n",
    "        output = torch.matmul(attn_weights, V_expanded)\n",
    "        output = output.transpose(1, 2).contiguous().view(B, N, -1)\n",
    "        output = self.out_proj(output)\n",
    "        \n",
    "        if use_cache:\n",
    "            return output, (K, V)  # 只存儲單個 K, V\n",
    "        return output\n",
    "\n",
    "# 測試\n",
    "mqa = MultiQueryAttention(768, 12).to(device)\n",
    "out = mqa(x)\n",
    "print(f\"✅ MQA 測試通過: {x.shape} → {out.shape}\")\n",
    "\n",
    "# 參數對比\n",
    "mha_params = sum(p.numel() for p in MultiHeadAttention(768, 12).parameters())\n",
    "mqa_params = sum(p.numel() for p in mqa.parameters())\n",
    "print(f\"\\nMHA 參數: {mha_params/1e6:.2f}M\")\n",
    "print(f\"MQA 參數: {mqa_params/1e6:.2f}M\")\n",
    "print(f\"參數減少: {(mha_params-mqa_params)/mha_params*100:.1f}%\")"
   ]
  },
  {
   "cell_type": "markdown",
   "id": "cell-4",
   "metadata": {},
   "source": [
    "## 2. 性能對比實驗\n",
    "\n",
    "測試 MHA vs MQA 的推理性能差異，驗證 KV Cache 優化效果。"
   ]
  }
 ],
 "metadata": {
  "kernelspec": {
   "display_name": "Python 3",
   "language": "python",
   "name": "python3"
  },
  "language_info": {
   "name": "python",
   "version": "3.10.0"
  }
 },
 "nbformat": 4,
 "nbformat_minor": 5
}
