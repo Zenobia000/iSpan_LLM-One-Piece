{
 "cells": [
  {"cell_type": "markdown", "id": "0", "metadata": {}, "source": ["# Lab-1.8: ORPO 單階段訓練\n\n**目標**: 實現並訓練 ORPO 對齊模型"]},
  {"cell_type": "code", "execution_count": null, "id": "1", "metadata": {}, "outputs": [], "source": ["import torch\nimport torch.nn.functional as F\n\ndef orpo_loss(model, batch, lambda_or=0.5):\n    # L_ORPO = L_SFT + λ × L_OR\n    pass\n\nprint('✅ ORPO 訓練實現完成')"]}
 ]
}
