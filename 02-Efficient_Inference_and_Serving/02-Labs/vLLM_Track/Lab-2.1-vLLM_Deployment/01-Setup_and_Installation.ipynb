{
 "cells": [
  {
   "cell_type": "markdown",
   "metadata": {},
   "source": [
    "# Lab-2.1 Part 1: vLLM Setup and Installation\n",
    "\n",
    "## Objectives\n",
    "- Verify environment (CUDA, GPU)\n",
    "- Install vLLM\n",
    "- Run basic inference test\n",
    "- Understand PagedAttention basics\n",
    "\n",
    "## Estimated Time: 30-60 minutes"
   ]
  },
  {
   "cell_type": "markdown",
   "metadata": {},
   "source": [
    "---\n",
    "## 1. Environment Verification"
   ]
  },
  {
   "cell_type": "code",
   "execution_count": 2,
   "metadata": {},
   "outputs": [
    {
     "name": "stdout",
     "output_type": "stream",
     "text": [
      "Python version: 3.10.12 (main, Aug 15 2025, 14:32:43) [GCC 11.4.0]\n",
      "PyTorch version: 2.8.0+cu128\n",
      "CUDA available: True\n",
      "CUDA version: 12.8\n",
      "Number of GPUs: 1\n",
      "\n",
      "GPU 0: NVIDIA RTX 2000 Ada Generation\n",
      "  Memory: 16.71 GB\n",
      "  Compute Capability: 8.9\n"
     ]
    }
   ],
   "source": [
    "# Check GPU availability\n",
    "import torch\n",
    "import sys\n",
    "\n",
    "print(f\"Python version: {sys.version}\")\n",
    "print(f\"PyTorch version: {torch.__version__}\")\n",
    "print(f\"CUDA available: {torch.cuda.is_available()}\")\n",
    "\n",
    "if torch.cuda.is_available():\n",
    "    print(f\"CUDA version: {torch.version.cuda}\")\n",
    "    print(f\"Number of GPUs: {torch.cuda.device_count()}\")\n",
    "    \n",
    "    for i in range(torch.cuda.device_count()):\n",
    "        print(f\"\\nGPU {i}: {torch.cuda.get_device_name(i)}\")\n",
    "        print(f\"  Memory: {torch.cuda.get_device_properties(i).total_memory / 1e9:.2f} GB\")\n",
    "        print(f\"  Compute Capability: {torch.cuda.get_device_properties(i).major}.{torch.cuda.get_device_properties(i).minor}\")\n",
    "else:\n",
    "    print(\"\\n⚠️ WARNING: No CUDA GPU detected!\")\n",
    "    print(\"vLLM requires a CUDA-compatible GPU to run efficiently.\")\n"
   ]
  },
  {
   "cell_type": "markdown",
   "metadata": {},
   "source": [
    "### Check GPU Memory"
   ]
  },
  {
   "cell_type": "code",
   "execution_count": 3,
   "metadata": {},
   "outputs": [
    {
     "name": "stdout",
     "output_type": "stream",
     "text": [
      "GPU 0:\n",
      "  Allocated: 0.00 GB\n",
      "  Reserved:  0.00 GB\n",
      "  Free:      16.71 GB\n",
      "  Total:     16.71 GB\n",
      "\n"
     ]
    }
   ],
   "source": [
    "# Detailed GPU memory check\n",
    "if torch.cuda.is_available():\n",
    "    torch.cuda.empty_cache()\n",
    "    \n",
    "    for i in range(torch.cuda.device_count()):\n",
    "        allocated = torch.cuda.memory_allocated(i) / 1e9\n",
    "        reserved = torch.cuda.memory_reserved(i) / 1e9\n",
    "        total = torch.cuda.get_device_properties(i).total_memory / 1e9\n",
    "        \n",
    "        print(f\"GPU {i}:\")\n",
    "        print(f\"  Allocated: {allocated:.2f} GB\")\n",
    "        print(f\"  Reserved:  {reserved:.2f} GB\")\n",
    "        print(f\"  Free:      {total - reserved:.2f} GB\")\n",
    "        print(f\"  Total:     {total:.2f} GB\")\n",
    "        print()"
   ]
  },
  {
   "cell_type": "markdown",
   "metadata": {},
   "source": [
    "---\n",
    "## 2. Install vLLM\n",
    "\n",
    "vLLM can be installed via pip. For CUDA 12.1+:"
   ]
  },
  {
   "cell_type": "code",
   "execution_count": 4,
   "metadata": {},
   "outputs": [
    {
     "name": "stdout",
     "output_type": "stream",
     "text": [
      "✅ vLLM is already installed: v0.11.0\n"
     ]
    }
   ],
   "source": [
    "# Check if vLLM is already installed\n",
    "try:\n",
    "    import vllm\n",
    "    print(f\"✅ vLLM is already installed: v{vllm.__version__}\")\n",
    "except ImportError:\n",
    "    print(\"❌ vLLM is not installed.\")\n",
    "    print(\"\\nTo fix this, please run the following commands in your terminal inside the poetry shell (`poetry shell`)\")\n",
    "    print(\"in the `00-Course_Setup` directory, and then restart the Jupyter kernel.\")\n",
    "    print(\"\\n---\")\n",
    "    print('pip install \"torch==2.3.0\" \"torchvision==0.18.0\" \"torchaudio==2.3.0\" --index-url https://download.pytorch.org/whl/cu121')\n",
    "    print('pip install \"vllm==0.4.1\"')\n",
    "    print(\"---\")\n"
   ]
  },
  {
   "cell_type": "markdown",
   "metadata": {},
   "source": [
    "### Installation Command\n",
    "\n",
    "If vLLM is not installed, run in terminal:\n",
    "\n",
    "```bash\n",
    "# Basic installation\n",
    "pip install vllm\n",
    "\n",
    "# Or specify CUDA version\n",
    "pip install vllm --extra-index-url https://download.pytorch.org/whl/cu121\n",
    "```"
   ]
  },
  {
   "cell_type": "markdown",
   "metadata": {},
   "source": [
    "---\n",
    "## 3. Basic Inference Test\n",
    "\n",
    "Let's test vLLM with a small model first."
   ]
  },
  {
   "cell_type": "code",
   "execution_count": 5,
   "metadata": {},
   "outputs": [
    {
     "name": "stdout",
     "output_type": "stream",
     "text": [
      "INFO 10-23 18:37:09 [__init__.py:216] Automatically detected platform cuda.\n",
      "✅ vLLM imported successfully!\n",
      "Version: 0.11.0\n"
     ]
    }
   ],
   "source": [
    "# Import vLLM\n",
    "from vllm import LLM, SamplingParams\n",
    "import time\n",
    "\n",
    "print(\"✅ vLLM imported successfully!\")\n",
    "print(f\"Version: {vllm.__version__}\")"
   ]
  },
  {
   "cell_type": "markdown",
   "metadata": {},
   "source": [
    "### Load a Small Model\n",
    "\n",
    "We'll use GPT-2 for quick testing (124M parameters)."
   ]
  },
  {
   "cell_type": "code",
   "execution_count": 8,
   "metadata": {},
   "outputs": [
    {
     "name": "stdout",
     "output_type": "stream",
     "text": [
      "Loading GPT-2 model...\n",
      "INFO 10-23 18:37:46 [utils.py:233] non-default args: {'max_model_len': 512, 'disable_log_stats': True, 'model': 'gpt2'}\n",
      "INFO 10-23 18:37:47 [model.py:547] Resolved architecture: GPT2LMHeadModel\n",
      "INFO 10-23 18:37:47 [model.py:1730] Downcasting torch.float32 to torch.bfloat16.\n",
      "INFO 10-23 18:37:47 [model.py:1510] Using max model len 512\n",
      "INFO 10-23 18:37:47 [scheduler.py:205] Chunked prefill is enabled with max_num_batched_tokens=8192.\n",
      "INFO 10-23 18:37:51 [__init__.py:216] Automatically detected platform cuda.\n",
      "\u001b[1;36m(EngineCore_DP0 pid=498799)\u001b[0;0m INFO 10-23 18:37:51 [core.py:644] Waiting for init message from front-end.\n",
      "\u001b[1;36m(EngineCore_DP0 pid=498799)\u001b[0;0m INFO 10-23 18:37:51 [core.py:77] Initializing a V1 LLM engine (v0.11.0) with config: model='gpt2', speculative_config=None, tokenizer='gpt2', skip_tokenizer_init=False, tokenizer_mode=auto, revision=None, tokenizer_revision=None, trust_remote_code=False, dtype=torch.bfloat16, max_seq_len=512, download_dir=None, load_format=auto, tensor_parallel_size=1, pipeline_parallel_size=1, data_parallel_size=1, disable_custom_all_reduce=False, quantization=None, enforce_eager=False, kv_cache_dtype=auto, device_config=cuda, structured_outputs_config=StructuredOutputsConfig(backend='auto', disable_fallback=False, disable_any_whitespace=False, disable_additional_properties=False, reasoning_parser=''), observability_config=ObservabilityConfig(show_hidden_metrics_for_version=None, otlp_traces_endpoint=None, collect_detailed_traces=None), seed=0, served_model_name=gpt2, enable_prefix_caching=True, chunked_prefill_enabled=True, pooler_config=None, compilation_config={\"level\":3,\"debug_dump_path\":\"\",\"cache_dir\":\"\",\"backend\":\"\",\"custom_ops\":[],\"splitting_ops\":[\"vllm.unified_attention\",\"vllm.unified_attention_with_output\",\"vllm.mamba_mixer2\",\"vllm.mamba_mixer\",\"vllm.short_conv\",\"vllm.linear_attention\",\"vllm.plamo2_mamba_mixer\",\"vllm.gdn_attention\",\"vllm.sparse_attn_indexer\"],\"use_inductor\":true,\"compile_sizes\":[],\"inductor_compile_config\":{\"enable_auto_functionalized_v2\":false},\"inductor_passes\":{},\"cudagraph_mode\":[2,1],\"use_cudagraph\":true,\"cudagraph_num_of_warmups\":1,\"cudagraph_capture_sizes\":[512,504,496,488,480,472,464,456,448,440,432,424,416,408,400,392,384,376,368,360,352,344,336,328,320,312,304,296,288,280,272,264,256,248,240,232,224,216,208,200,192,184,176,168,160,152,144,136,128,120,112,104,96,88,80,72,64,56,48,40,32,24,16,8,4,2,1],\"cudagraph_copy_inputs\":false,\"full_cuda_graph\":false,\"use_inductor_graph_partition\":false,\"pass_config\":{},\"max_capture_size\":512,\"local_cache_dir\":null}\n",
      "[Gloo] Rank 0 is connected to 0 peer ranks. Expected number of connected peer ranks is : 0\n",
      "[Gloo] Rank 0 is connected to 0 peer ranks. Expected number of connected peer ranks is : 0\n",
      "[Gloo] Rank 0 is connected to 0 peer ranks. Expected number of connected peer ranks is : 0\n",
      "[Gloo] Rank 0 is connected to 0 peer ranks. Expected number of connected peer ranks is : 0\n",
      "[Gloo] Rank 0 is connected to 0 peer ranks. Expected number of connected peer ranks is : 0\n",
      "[Gloo] Rank 0 is connected to 0 peer ranks. Expected number of connected peer ranks is : 0\n",
      "\u001b[1;36m(EngineCore_DP0 pid=498799)\u001b[0;0m INFO 10-23 18:37:53 [parallel_state.py:1208] rank 0 in world size 1 is assigned as DP rank 0, PP rank 0, TP rank 0, EP rank 0\n",
      "\u001b[1;36m(EngineCore_DP0 pid=498799)\u001b[0;0m ERROR 10-23 18:37:53 [core.py:708] EngineCore failed to start.\n",
      "\u001b[1;36m(EngineCore_DP0 pid=498799)\u001b[0;0m ERROR 10-23 18:37:53 [core.py:708] Traceback (most recent call last):\n",
      "\u001b[1;36m(EngineCore_DP0 pid=498799)\u001b[0;0m ERROR 10-23 18:37:53 [core.py:708]   File \"/home/os-sunnie.gd.weng/.local/lib/python3.10/site-packages/vllm/v1/engine/core.py\", line 699, in run_engine_core\n",
      "\u001b[1;36m(EngineCore_DP0 pid=498799)\u001b[0;0m ERROR 10-23 18:37:53 [core.py:708]     engine_core = EngineCoreProc(*args, **kwargs)\n",
      "\u001b[1;36m(EngineCore_DP0 pid=498799)\u001b[0;0m ERROR 10-23 18:37:53 [core.py:708]   File \"/home/os-sunnie.gd.weng/.local/lib/python3.10/site-packages/vllm/v1/engine/core.py\", line 498, in __init__\n",
      "\u001b[1;36m(EngineCore_DP0 pid=498799)\u001b[0;0m ERROR 10-23 18:37:53 [core.py:708]     super().__init__(vllm_config, executor_class, log_stats,\n",
      "\u001b[1;36m(EngineCore_DP0 pid=498799)\u001b[0;0m ERROR 10-23 18:37:53 [core.py:708]   File \"/home/os-sunnie.gd.weng/.local/lib/python3.10/site-packages/vllm/v1/engine/core.py\", line 83, in __init__\n",
      "\u001b[1;36m(EngineCore_DP0 pid=498799)\u001b[0;0m ERROR 10-23 18:37:53 [core.py:708]     self.model_executor = executor_class(vllm_config)\n",
      "\u001b[1;36m(EngineCore_DP0 pid=498799)\u001b[0;0m ERROR 10-23 18:37:53 [core.py:708]   File \"/home/os-sunnie.gd.weng/.local/lib/python3.10/site-packages/vllm/executor/executor_base.py\", line 54, in __init__\n",
      "\u001b[1;36m(EngineCore_DP0 pid=498799)\u001b[0;0m ERROR 10-23 18:37:53 [core.py:708]     self._init_executor()\n",
      "\u001b[1;36m(EngineCore_DP0 pid=498799)\u001b[0;0m ERROR 10-23 18:37:53 [core.py:708]   File \"/home/os-sunnie.gd.weng/.local/lib/python3.10/site-packages/vllm/executor/uniproc_executor.py\", line 54, in _init_executor\n",
      "\u001b[1;36m(EngineCore_DP0 pid=498799)\u001b[0;0m ERROR 10-23 18:37:53 [core.py:708]     self.collective_rpc(\"init_device\")\n",
      "\u001b[1;36m(EngineCore_DP0 pid=498799)\u001b[0;0m ERROR 10-23 18:37:53 [core.py:708]   File \"/home/os-sunnie.gd.weng/.local/lib/python3.10/site-packages/vllm/executor/uniproc_executor.py\", line 83, in collective_rpc\n",
      "\u001b[1;36m(EngineCore_DP0 pid=498799)\u001b[0;0m ERROR 10-23 18:37:53 [core.py:708]     return [run_method(self.driver_worker, method, args, kwargs)]\n",
      "\u001b[1;36m(EngineCore_DP0 pid=498799)\u001b[0;0m ERROR 10-23 18:37:53 [core.py:708]   File \"/home/os-sunnie.gd.weng/.local/lib/python3.10/site-packages/vllm/utils/__init__.py\", line 3122, in run_method\n",
      "\u001b[1;36m(EngineCore_DP0 pid=498799)\u001b[0;0m ERROR 10-23 18:37:53 [core.py:708]     return func(*args, **kwargs)\n",
      "\u001b[1;36m(EngineCore_DP0 pid=498799)\u001b[0;0m ERROR 10-23 18:37:53 [core.py:708]   File \"/home/os-sunnie.gd.weng/.local/lib/python3.10/site-packages/vllm/worker/worker_base.py\", line 259, in init_device\n",
      "\u001b[1;36m(EngineCore_DP0 pid=498799)\u001b[0;0m ERROR 10-23 18:37:53 [core.py:708]     self.worker.init_device()  # type: ignore\n",
      "\u001b[1;36m(EngineCore_DP0 pid=498799)\u001b[0;0m ERROR 10-23 18:37:53 [core.py:708]   File \"/home/os-sunnie.gd.weng/.local/lib/python3.10/site-packages/vllm/v1/worker/gpu_worker.py\", line 187, in init_device\n",
      "\u001b[1;36m(EngineCore_DP0 pid=498799)\u001b[0;0m ERROR 10-23 18:37:53 [core.py:708]     raise ValueError(\n",
      "\u001b[1;36m(EngineCore_DP0 pid=498799)\u001b[0;0m ERROR 10-23 18:37:53 [core.py:708] ValueError: Free memory on device (7.55/15.57 GiB) on startup is less than desired GPU memory utilization (0.9, 14.01 GiB). Decrease GPU memory utilization or reduce GPU memory used by other processes.\n"
     ]
    },
    {
     "name": "stderr",
     "output_type": "stream",
     "text": [
      "\u001b[1;36m(EngineCore_DP0 pid=498799)\u001b[0;0m Process EngineCore_DP0:\n",
      "\u001b[1;36m(EngineCore_DP0 pid=498799)\u001b[0;0m Traceback (most recent call last):\n",
      "\u001b[1;36m(EngineCore_DP0 pid=498799)\u001b[0;0m   File \"/usr/lib/python3.10/multiprocessing/process.py\", line 314, in _bootstrap\n",
      "\u001b[1;36m(EngineCore_DP0 pid=498799)\u001b[0;0m     self.run()\n",
      "\u001b[1;36m(EngineCore_DP0 pid=498799)\u001b[0;0m   File \"/usr/lib/python3.10/multiprocessing/process.py\", line 108, in run\n",
      "\u001b[1;36m(EngineCore_DP0 pid=498799)\u001b[0;0m     self._target(*self._args, **self._kwargs)\n",
      "\u001b[1;36m(EngineCore_DP0 pid=498799)\u001b[0;0m   File \"/home/os-sunnie.gd.weng/.local/lib/python3.10/site-packages/vllm/v1/engine/core.py\", line 712, in run_engine_core\n",
      "\u001b[1;36m(EngineCore_DP0 pid=498799)\u001b[0;0m     raise e\n",
      "\u001b[1;36m(EngineCore_DP0 pid=498799)\u001b[0;0m   File \"/home/os-sunnie.gd.weng/.local/lib/python3.10/site-packages/vllm/v1/engine/core.py\", line 699, in run_engine_core\n",
      "\u001b[1;36m(EngineCore_DP0 pid=498799)\u001b[0;0m     engine_core = EngineCoreProc(*args, **kwargs)\n",
      "\u001b[1;36m(EngineCore_DP0 pid=498799)\u001b[0;0m   File \"/home/os-sunnie.gd.weng/.local/lib/python3.10/site-packages/vllm/v1/engine/core.py\", line 498, in __init__\n",
      "\u001b[1;36m(EngineCore_DP0 pid=498799)\u001b[0;0m     super().__init__(vllm_config, executor_class, log_stats,\n",
      "\u001b[1;36m(EngineCore_DP0 pid=498799)\u001b[0;0m   File \"/home/os-sunnie.gd.weng/.local/lib/python3.10/site-packages/vllm/v1/engine/core.py\", line 83, in __init__\n",
      "\u001b[1;36m(EngineCore_DP0 pid=498799)\u001b[0;0m     self.model_executor = executor_class(vllm_config)\n",
      "\u001b[1;36m(EngineCore_DP0 pid=498799)\u001b[0;0m   File \"/home/os-sunnie.gd.weng/.local/lib/python3.10/site-packages/vllm/executor/executor_base.py\", line 54, in __init__\n",
      "\u001b[1;36m(EngineCore_DP0 pid=498799)\u001b[0;0m     self._init_executor()\n",
      "\u001b[1;36m(EngineCore_DP0 pid=498799)\u001b[0;0m   File \"/home/os-sunnie.gd.weng/.local/lib/python3.10/site-packages/vllm/executor/uniproc_executor.py\", line 54, in _init_executor\n",
      "\u001b[1;36m(EngineCore_DP0 pid=498799)\u001b[0;0m     self.collective_rpc(\"init_device\")\n",
      "\u001b[1;36m(EngineCore_DP0 pid=498799)\u001b[0;0m   File \"/home/os-sunnie.gd.weng/.local/lib/python3.10/site-packages/vllm/executor/uniproc_executor.py\", line 83, in collective_rpc\n",
      "\u001b[1;36m(EngineCore_DP0 pid=498799)\u001b[0;0m     return [run_method(self.driver_worker, method, args, kwargs)]\n",
      "\u001b[1;36m(EngineCore_DP0 pid=498799)\u001b[0;0m   File \"/home/os-sunnie.gd.weng/.local/lib/python3.10/site-packages/vllm/utils/__init__.py\", line 3122, in run_method\n",
      "\u001b[1;36m(EngineCore_DP0 pid=498799)\u001b[0;0m     return func(*args, **kwargs)\n",
      "\u001b[1;36m(EngineCore_DP0 pid=498799)\u001b[0;0m   File \"/home/os-sunnie.gd.weng/.local/lib/python3.10/site-packages/vllm/worker/worker_base.py\", line 259, in init_device\n",
      "\u001b[1;36m(EngineCore_DP0 pid=498799)\u001b[0;0m     self.worker.init_device()  # type: ignore\n",
      "\u001b[1;36m(EngineCore_DP0 pid=498799)\u001b[0;0m   File \"/home/os-sunnie.gd.weng/.local/lib/python3.10/site-packages/vllm/v1/worker/gpu_worker.py\", line 187, in init_device\n",
      "\u001b[1;36m(EngineCore_DP0 pid=498799)\u001b[0;0m     raise ValueError(\n",
      "\u001b[1;36m(EngineCore_DP0 pid=498799)\u001b[0;0m ValueError: Free memory on device (7.55/15.57 GiB) on startup is less than desired GPU memory utilization (0.9, 14.01 GiB). Decrease GPU memory utilization or reduce GPU memory used by other processes.\n",
      "[rank0]:[W1023 18:37:53.193294059 ProcessGroupNCCL.cpp:1538] Warning: WARNING: destroy_process_group() was not called before program exit, which can leak resources. For more info, please see https://pytorch.org/docs/stable/distributed.html#shutdown (function operator())\n"
     ]
    },
    {
     "ename": "RuntimeError",
     "evalue": "Engine core initialization failed. See root cause above. Failed core proc(s): {}",
     "output_type": "error",
     "traceback": [
      "\u001b[0;31m---------------------------------------------------------------------------\u001b[0m",
      "\u001b[0;31mRuntimeError\u001b[0m                              Traceback (most recent call last)",
      "Cell \u001b[0;32mIn[8], line 5\u001b[0m\n\u001b[1;32m      2\u001b[0m \u001b[38;5;28mprint\u001b[39m(\u001b[38;5;124m\"\u001b[39m\u001b[38;5;124mLoading GPT-2 model...\u001b[39m\u001b[38;5;124m\"\u001b[39m)\n\u001b[1;32m      3\u001b[0m start_time \u001b[38;5;241m=\u001b[39m time\u001b[38;5;241m.\u001b[39mtime()\n\u001b[0;32m----> 5\u001b[0m llm \u001b[38;5;241m=\u001b[39m \u001b[43mLLM\u001b[49m\u001b[43m(\u001b[49m\n\u001b[1;32m      6\u001b[0m \u001b[43m    \u001b[49m\u001b[43mmodel\u001b[49m\u001b[38;5;241;43m=\u001b[39;49m\u001b[38;5;124;43m\"\u001b[39;49m\u001b[38;5;124;43mgpt2\u001b[39;49m\u001b[38;5;124;43m\"\u001b[39;49m\u001b[43m,\u001b[49m\n\u001b[1;32m      7\u001b[0m \u001b[43m    \u001b[49m\u001b[38;5;66;43;03m# gpu_memory_utilization=0.3,  # Use 30% GPU memory for testing\u001b[39;49;00m\n\u001b[1;32m      8\u001b[0m \u001b[43m    \u001b[49m\u001b[43mmax_model_len\u001b[49m\u001b[38;5;241;43m=\u001b[39;49m\u001b[38;5;241;43m512\u001b[39;49m\u001b[43m,\u001b[49m\u001b[43m           \u001b[49m\u001b[38;5;66;43;03m# Limit context length\u001b[39;49;00m\n\u001b[1;32m      9\u001b[0m \u001b[43m)\u001b[49m\n\u001b[1;32m     11\u001b[0m load_time \u001b[38;5;241m=\u001b[39m time\u001b[38;5;241m.\u001b[39mtime() \u001b[38;5;241m-\u001b[39m start_time\n\u001b[1;32m     12\u001b[0m \u001b[38;5;28mprint\u001b[39m(\u001b[38;5;124mf\u001b[39m\u001b[38;5;124m\"\u001b[39m\u001b[38;5;124m✅ Model loaded in \u001b[39m\u001b[38;5;132;01m{\u001b[39;00mload_time\u001b[38;5;132;01m:\u001b[39;00m\u001b[38;5;124m.2f\u001b[39m\u001b[38;5;132;01m}\u001b[39;00m\u001b[38;5;124m seconds\u001b[39m\u001b[38;5;124m\"\u001b[39m)\n",
      "File \u001b[0;32m~/.local/lib/python3.10/site-packages/vllm/entrypoints/llm.py:297\u001b[0m, in \u001b[0;36mLLM.__init__\u001b[0;34m(self, model, runner, convert, tokenizer, tokenizer_mode, skip_tokenizer_init, trust_remote_code, allowed_local_media_path, allowed_media_domains, tensor_parallel_size, dtype, quantization, revision, tokenizer_revision, seed, gpu_memory_utilization, swap_space, cpu_offload_gb, enforce_eager, disable_custom_all_reduce, hf_token, hf_overrides, mm_processor_kwargs, pooler_config, override_pooler_config, structured_outputs_config, kv_cache_memory_bytes, compilation_config, logits_processors, **kwargs)\u001b[0m\n\u001b[1;32m    294\u001b[0m log_non_default_args(engine_args)\n\u001b[1;32m    296\u001b[0m \u001b[38;5;66;03m# Create the Engine (autoselects V0 vs V1)\u001b[39;00m\n\u001b[0;32m--> 297\u001b[0m \u001b[38;5;28mself\u001b[39m\u001b[38;5;241m.\u001b[39mllm_engine \u001b[38;5;241m=\u001b[39m \u001b[43mLLMEngine\u001b[49m\u001b[38;5;241;43m.\u001b[39;49m\u001b[43mfrom_engine_args\u001b[49m\u001b[43m(\u001b[49m\n\u001b[1;32m    298\u001b[0m \u001b[43m    \u001b[49m\u001b[43mengine_args\u001b[49m\u001b[38;5;241;43m=\u001b[39;49m\u001b[43mengine_args\u001b[49m\u001b[43m,\u001b[49m\u001b[43m \u001b[49m\u001b[43musage_context\u001b[49m\u001b[38;5;241;43m=\u001b[39;49m\u001b[43mUsageContext\u001b[49m\u001b[38;5;241;43m.\u001b[39;49m\u001b[43mLLM_CLASS\u001b[49m\u001b[43m)\u001b[49m\n\u001b[1;32m    299\u001b[0m \u001b[38;5;28mself\u001b[39m\u001b[38;5;241m.\u001b[39mengine_class \u001b[38;5;241m=\u001b[39m \u001b[38;5;28mtype\u001b[39m(\u001b[38;5;28mself\u001b[39m\u001b[38;5;241m.\u001b[39mllm_engine)\n\u001b[1;32m    301\u001b[0m \u001b[38;5;28mself\u001b[39m\u001b[38;5;241m.\u001b[39mrequest_counter \u001b[38;5;241m=\u001b[39m Counter()\n",
      "File \u001b[0;32m~/.local/lib/python3.10/site-packages/vllm/v1/engine/llm_engine.py:177\u001b[0m, in \u001b[0;36mLLMEngine.from_engine_args\u001b[0;34m(cls, engine_args, usage_context, stat_loggers, enable_multiprocessing)\u001b[0m\n\u001b[1;32m    174\u001b[0m     enable_multiprocessing \u001b[38;5;241m=\u001b[39m \u001b[38;5;28;01mTrue\u001b[39;00m\n\u001b[1;32m    176\u001b[0m \u001b[38;5;66;03m# Create the LLMEngine.\u001b[39;00m\n\u001b[0;32m--> 177\u001b[0m \u001b[38;5;28;01mreturn\u001b[39;00m \u001b[38;5;28;43mcls\u001b[39;49m\u001b[43m(\u001b[49m\u001b[43mvllm_config\u001b[49m\u001b[38;5;241;43m=\u001b[39;49m\u001b[43mvllm_config\u001b[49m\u001b[43m,\u001b[49m\n\u001b[1;32m    178\u001b[0m \u001b[43m           \u001b[49m\u001b[43mexecutor_class\u001b[49m\u001b[38;5;241;43m=\u001b[39;49m\u001b[43mexecutor_class\u001b[49m\u001b[43m,\u001b[49m\n\u001b[1;32m    179\u001b[0m \u001b[43m           \u001b[49m\u001b[43mlog_stats\u001b[49m\u001b[38;5;241;43m=\u001b[39;49m\u001b[38;5;129;43;01mnot\u001b[39;49;00m\u001b[43m \u001b[49m\u001b[43mengine_args\u001b[49m\u001b[38;5;241;43m.\u001b[39;49m\u001b[43mdisable_log_stats\u001b[49m\u001b[43m,\u001b[49m\n\u001b[1;32m    180\u001b[0m \u001b[43m           \u001b[49m\u001b[43musage_context\u001b[49m\u001b[38;5;241;43m=\u001b[39;49m\u001b[43musage_context\u001b[49m\u001b[43m,\u001b[49m\n\u001b[1;32m    181\u001b[0m \u001b[43m           \u001b[49m\u001b[43mstat_loggers\u001b[49m\u001b[38;5;241;43m=\u001b[39;49m\u001b[43mstat_loggers\u001b[49m\u001b[43m,\u001b[49m\n\u001b[1;32m    182\u001b[0m \u001b[43m           \u001b[49m\u001b[43mmultiprocess_mode\u001b[49m\u001b[38;5;241;43m=\u001b[39;49m\u001b[43menable_multiprocessing\u001b[49m\u001b[43m)\u001b[49m\n",
      "File \u001b[0;32m~/.local/lib/python3.10/site-packages/vllm/v1/engine/llm_engine.py:114\u001b[0m, in \u001b[0;36mLLMEngine.__init__\u001b[0;34m(self, vllm_config, executor_class, log_stats, usage_context, stat_loggers, mm_registry, use_cached_outputs, multiprocess_mode)\u001b[0m\n\u001b[1;32m    111\u001b[0m     \u001b[38;5;28mself\u001b[39m\u001b[38;5;241m.\u001b[39moutput_processor\u001b[38;5;241m.\u001b[39mtracer \u001b[38;5;241m=\u001b[39m tracer\n\u001b[1;32m    113\u001b[0m \u001b[38;5;66;03m# EngineCore (gets EngineCoreRequests and gives EngineCoreOutputs)\u001b[39;00m\n\u001b[0;32m--> 114\u001b[0m \u001b[38;5;28mself\u001b[39m\u001b[38;5;241m.\u001b[39mengine_core \u001b[38;5;241m=\u001b[39m \u001b[43mEngineCoreClient\u001b[49m\u001b[38;5;241;43m.\u001b[39;49m\u001b[43mmake_client\u001b[49m\u001b[43m(\u001b[49m\n\u001b[1;32m    115\u001b[0m \u001b[43m    \u001b[49m\u001b[43mmultiprocess_mode\u001b[49m\u001b[38;5;241;43m=\u001b[39;49m\u001b[43mmultiprocess_mode\u001b[49m\u001b[43m,\u001b[49m\n\u001b[1;32m    116\u001b[0m \u001b[43m    \u001b[49m\u001b[43masyncio_mode\u001b[49m\u001b[38;5;241;43m=\u001b[39;49m\u001b[38;5;28;43;01mFalse\u001b[39;49;00m\u001b[43m,\u001b[49m\n\u001b[1;32m    117\u001b[0m \u001b[43m    \u001b[49m\u001b[43mvllm_config\u001b[49m\u001b[38;5;241;43m=\u001b[39;49m\u001b[43mvllm_config\u001b[49m\u001b[43m,\u001b[49m\n\u001b[1;32m    118\u001b[0m \u001b[43m    \u001b[49m\u001b[43mexecutor_class\u001b[49m\u001b[38;5;241;43m=\u001b[39;49m\u001b[43mexecutor_class\u001b[49m\u001b[43m,\u001b[49m\n\u001b[1;32m    119\u001b[0m \u001b[43m    \u001b[49m\u001b[43mlog_stats\u001b[49m\u001b[38;5;241;43m=\u001b[39;49m\u001b[38;5;28;43mself\u001b[39;49m\u001b[38;5;241;43m.\u001b[39;49m\u001b[43mlog_stats\u001b[49m\u001b[43m,\u001b[49m\n\u001b[1;32m    120\u001b[0m \u001b[43m\u001b[49m\u001b[43m)\u001b[49m\n\u001b[1;32m    122\u001b[0m \u001b[38;5;28mself\u001b[39m\u001b[38;5;241m.\u001b[39mlogger_manager: Optional[StatLoggerManager] \u001b[38;5;241m=\u001b[39m \u001b[38;5;28;01mNone\u001b[39;00m\n\u001b[1;32m    123\u001b[0m \u001b[38;5;28;01mif\u001b[39;00m \u001b[38;5;28mself\u001b[39m\u001b[38;5;241m.\u001b[39mlog_stats:\n",
      "File \u001b[0;32m~/.local/lib/python3.10/site-packages/vllm/v1/engine/core_client.py:80\u001b[0m, in \u001b[0;36mEngineCoreClient.make_client\u001b[0;34m(multiprocess_mode, asyncio_mode, vllm_config, executor_class, log_stats)\u001b[0m\n\u001b[1;32m     76\u001b[0m     \u001b[38;5;28;01mreturn\u001b[39;00m EngineCoreClient\u001b[38;5;241m.\u001b[39mmake_async_mp_client(\n\u001b[1;32m     77\u001b[0m         vllm_config, executor_class, log_stats)\n\u001b[1;32m     79\u001b[0m \u001b[38;5;28;01mif\u001b[39;00m multiprocess_mode \u001b[38;5;129;01mand\u001b[39;00m \u001b[38;5;129;01mnot\u001b[39;00m asyncio_mode:\n\u001b[0;32m---> 80\u001b[0m     \u001b[38;5;28;01mreturn\u001b[39;00m \u001b[43mSyncMPClient\u001b[49m\u001b[43m(\u001b[49m\u001b[43mvllm_config\u001b[49m\u001b[43m,\u001b[49m\u001b[43m \u001b[49m\u001b[43mexecutor_class\u001b[49m\u001b[43m,\u001b[49m\u001b[43m \u001b[49m\u001b[43mlog_stats\u001b[49m\u001b[43m)\u001b[49m\n\u001b[1;32m     82\u001b[0m \u001b[38;5;28;01mreturn\u001b[39;00m InprocClient(vllm_config, executor_class, log_stats)\n",
      "File \u001b[0;32m~/.local/lib/python3.10/site-packages/vllm/v1/engine/core_client.py:602\u001b[0m, in \u001b[0;36mSyncMPClient.__init__\u001b[0;34m(self, vllm_config, executor_class, log_stats)\u001b[0m\n\u001b[1;32m    600\u001b[0m \u001b[38;5;28;01mdef\u001b[39;00m\u001b[38;5;250m \u001b[39m\u001b[38;5;21m__init__\u001b[39m(\u001b[38;5;28mself\u001b[39m, vllm_config: VllmConfig, executor_class: \u001b[38;5;28mtype\u001b[39m[Executor],\n\u001b[1;32m    601\u001b[0m              log_stats: \u001b[38;5;28mbool\u001b[39m):\n\u001b[0;32m--> 602\u001b[0m     \u001b[38;5;28;43msuper\u001b[39;49m\u001b[43m(\u001b[49m\u001b[43m)\u001b[49m\u001b[38;5;241;43m.\u001b[39;49m\u001b[38;5;21;43m__init__\u001b[39;49m\u001b[43m(\u001b[49m\n\u001b[1;32m    603\u001b[0m \u001b[43m        \u001b[49m\u001b[43masyncio_mode\u001b[49m\u001b[38;5;241;43m=\u001b[39;49m\u001b[38;5;28;43;01mFalse\u001b[39;49;00m\u001b[43m,\u001b[49m\n\u001b[1;32m    604\u001b[0m \u001b[43m        \u001b[49m\u001b[43mvllm_config\u001b[49m\u001b[38;5;241;43m=\u001b[39;49m\u001b[43mvllm_config\u001b[49m\u001b[43m,\u001b[49m\n\u001b[1;32m    605\u001b[0m \u001b[43m        \u001b[49m\u001b[43mexecutor_class\u001b[49m\u001b[38;5;241;43m=\u001b[39;49m\u001b[43mexecutor_class\u001b[49m\u001b[43m,\u001b[49m\n\u001b[1;32m    606\u001b[0m \u001b[43m        \u001b[49m\u001b[43mlog_stats\u001b[49m\u001b[38;5;241;43m=\u001b[39;49m\u001b[43mlog_stats\u001b[49m\u001b[43m,\u001b[49m\n\u001b[1;32m    607\u001b[0m \u001b[43m    \u001b[49m\u001b[43m)\u001b[49m\n\u001b[1;32m    609\u001b[0m     \u001b[38;5;28mself\u001b[39m\u001b[38;5;241m.\u001b[39mis_dp \u001b[38;5;241m=\u001b[39m \u001b[38;5;28mself\u001b[39m\u001b[38;5;241m.\u001b[39mvllm_config\u001b[38;5;241m.\u001b[39mparallel_config\u001b[38;5;241m.\u001b[39mdata_parallel_size \u001b[38;5;241m>\u001b[39m \u001b[38;5;241m1\u001b[39m\n\u001b[1;32m    610\u001b[0m     \u001b[38;5;28mself\u001b[39m\u001b[38;5;241m.\u001b[39moutputs_queue \u001b[38;5;241m=\u001b[39m queue\u001b[38;5;241m.\u001b[39mQueue[Union[EngineCoreOutputs, \u001b[38;5;167;01mException\u001b[39;00m]]()\n",
      "File \u001b[0;32m~/.local/lib/python3.10/site-packages/vllm/v1/engine/core_client.py:448\u001b[0m, in \u001b[0;36mMPClient.__init__\u001b[0;34m(self, asyncio_mode, vllm_config, executor_class, log_stats, client_addresses)\u001b[0m\n\u001b[1;32m    444\u001b[0m     \u001b[38;5;28mself\u001b[39m\u001b[38;5;241m.\u001b[39mstats_update_address \u001b[38;5;241m=\u001b[39m client_addresses\u001b[38;5;241m.\u001b[39mget(\n\u001b[1;32m    445\u001b[0m         \u001b[38;5;124m\"\u001b[39m\u001b[38;5;124mstats_update_address\u001b[39m\u001b[38;5;124m\"\u001b[39m)\n\u001b[1;32m    446\u001b[0m \u001b[38;5;28;01melse\u001b[39;00m:\n\u001b[1;32m    447\u001b[0m     \u001b[38;5;66;03m# Engines are managed by this client.\u001b[39;00m\n\u001b[0;32m--> 448\u001b[0m     \u001b[38;5;28;01mwith\u001b[39;00m launch_core_engines(vllm_config, executor_class,\n\u001b[1;32m    449\u001b[0m                              log_stats) \u001b[38;5;28;01mas\u001b[39;00m (engine_manager,\n\u001b[1;32m    450\u001b[0m                                             coordinator,\n\u001b[1;32m    451\u001b[0m                                             addresses):\n\u001b[1;32m    452\u001b[0m         \u001b[38;5;28mself\u001b[39m\u001b[38;5;241m.\u001b[39mresources\u001b[38;5;241m.\u001b[39mcoordinator \u001b[38;5;241m=\u001b[39m coordinator\n\u001b[1;32m    453\u001b[0m         \u001b[38;5;28mself\u001b[39m\u001b[38;5;241m.\u001b[39mresources\u001b[38;5;241m.\u001b[39mengine_manager \u001b[38;5;241m=\u001b[39m engine_manager\n",
      "File \u001b[0;32m/usr/lib/python3.10/contextlib.py:142\u001b[0m, in \u001b[0;36m_GeneratorContextManager.__exit__\u001b[0;34m(self, typ, value, traceback)\u001b[0m\n\u001b[1;32m    140\u001b[0m \u001b[38;5;28;01mif\u001b[39;00m typ \u001b[38;5;129;01mis\u001b[39;00m \u001b[38;5;28;01mNone\u001b[39;00m:\n\u001b[1;32m    141\u001b[0m     \u001b[38;5;28;01mtry\u001b[39;00m:\n\u001b[0;32m--> 142\u001b[0m         \u001b[38;5;28;43mnext\u001b[39;49m\u001b[43m(\u001b[49m\u001b[38;5;28;43mself\u001b[39;49m\u001b[38;5;241;43m.\u001b[39;49m\u001b[43mgen\u001b[49m\u001b[43m)\u001b[49m\n\u001b[1;32m    143\u001b[0m     \u001b[38;5;28;01mexcept\u001b[39;00m \u001b[38;5;167;01mStopIteration\u001b[39;00m:\n\u001b[1;32m    144\u001b[0m         \u001b[38;5;28;01mreturn\u001b[39;00m \u001b[38;5;28;01mFalse\u001b[39;00m\n",
      "File \u001b[0;32m~/.local/lib/python3.10/site-packages/vllm/v1/engine/utils.py:732\u001b[0m, in \u001b[0;36mlaunch_core_engines\u001b[0;34m(vllm_config, executor_class, log_stats, num_api_servers)\u001b[0m\n\u001b[1;32m    729\u001b[0m \u001b[38;5;28;01myield\u001b[39;00m local_engine_manager, coordinator, addresses\n\u001b[1;32m    731\u001b[0m \u001b[38;5;66;03m# Now wait for engines to start.\u001b[39;00m\n\u001b[0;32m--> 732\u001b[0m \u001b[43mwait_for_engine_startup\u001b[49m\u001b[43m(\u001b[49m\n\u001b[1;32m    733\u001b[0m \u001b[43m    \u001b[49m\u001b[43mhandshake_socket\u001b[49m\u001b[43m,\u001b[49m\n\u001b[1;32m    734\u001b[0m \u001b[43m    \u001b[49m\u001b[43maddresses\u001b[49m\u001b[43m,\u001b[49m\n\u001b[1;32m    735\u001b[0m \u001b[43m    \u001b[49m\u001b[43mengines_to_handshake\u001b[49m\u001b[43m,\u001b[49m\n\u001b[1;32m    736\u001b[0m \u001b[43m    \u001b[49m\u001b[43mparallel_config\u001b[49m\u001b[43m,\u001b[49m\n\u001b[1;32m    737\u001b[0m \u001b[43m    \u001b[49m\u001b[43mvllm_config\u001b[49m\u001b[38;5;241;43m.\u001b[39;49m\u001b[43mcache_config\u001b[49m\u001b[43m,\u001b[49m\n\u001b[1;32m    738\u001b[0m \u001b[43m    \u001b[49m\u001b[43mlocal_engine_manager\u001b[49m\u001b[43m,\u001b[49m\n\u001b[1;32m    739\u001b[0m \u001b[43m    \u001b[49m\u001b[43mcoordinator\u001b[49m\u001b[38;5;241;43m.\u001b[39;49m\u001b[43mproc\u001b[49m\u001b[43m \u001b[49m\u001b[38;5;28;43;01mif\u001b[39;49;00m\u001b[43m \u001b[49m\u001b[43mcoordinator\u001b[49m\u001b[43m \u001b[49m\u001b[38;5;28;43;01melse\u001b[39;49;00m\u001b[43m \u001b[49m\u001b[38;5;28;43;01mNone\u001b[39;49;00m\u001b[43m,\u001b[49m\n\u001b[1;32m    740\u001b[0m \u001b[43m\u001b[49m\u001b[43m)\u001b[49m\n",
      "File \u001b[0;32m~/.local/lib/python3.10/site-packages/vllm/v1/engine/utils.py:785\u001b[0m, in \u001b[0;36mwait_for_engine_startup\u001b[0;34m(handshake_socket, addresses, core_engines, parallel_config, cache_config, proc_manager, coord_process)\u001b[0m\n\u001b[1;32m    783\u001b[0m     \u001b[38;5;28;01mif\u001b[39;00m coord_process \u001b[38;5;129;01mis\u001b[39;00m \u001b[38;5;129;01mnot\u001b[39;00m \u001b[38;5;28;01mNone\u001b[39;00m \u001b[38;5;129;01mand\u001b[39;00m coord_process\u001b[38;5;241m.\u001b[39mexitcode \u001b[38;5;129;01mis\u001b[39;00m \u001b[38;5;129;01mnot\u001b[39;00m \u001b[38;5;28;01mNone\u001b[39;00m:\n\u001b[1;32m    784\u001b[0m         finished[coord_process\u001b[38;5;241m.\u001b[39mname] \u001b[38;5;241m=\u001b[39m coord_process\u001b[38;5;241m.\u001b[39mexitcode\n\u001b[0;32m--> 785\u001b[0m     \u001b[38;5;28;01mraise\u001b[39;00m \u001b[38;5;167;01mRuntimeError\u001b[39;00m(\u001b[38;5;124m\"\u001b[39m\u001b[38;5;124mEngine core initialization failed. \u001b[39m\u001b[38;5;124m\"\u001b[39m\n\u001b[1;32m    786\u001b[0m                        \u001b[38;5;124m\"\u001b[39m\u001b[38;5;124mSee root cause above. \u001b[39m\u001b[38;5;124m\"\u001b[39m\n\u001b[1;32m    787\u001b[0m                        \u001b[38;5;124mf\u001b[39m\u001b[38;5;124m\"\u001b[39m\u001b[38;5;124mFailed core proc(s): \u001b[39m\u001b[38;5;132;01m{\u001b[39;00mfinished\u001b[38;5;132;01m}\u001b[39;00m\u001b[38;5;124m\"\u001b[39m)\n\u001b[1;32m    789\u001b[0m \u001b[38;5;66;03m# Receive HELLO and READY messages from the input socket.\u001b[39;00m\n\u001b[1;32m    790\u001b[0m eng_identity, ready_msg_bytes \u001b[38;5;241m=\u001b[39m handshake_socket\u001b[38;5;241m.\u001b[39mrecv_multipart()\n",
      "\u001b[0;31mRuntimeError\u001b[0m: Engine core initialization failed. See root cause above. Failed core proc(s): {}"
     ]
    }
   ],
   "source": [
    "# Initialize vLLM with GPT-2\n",
    "print(\"Loading GPT-2 model...\")\n",
    "start_time = time.time()\n",
    "\n",
    "llm = LLM(\n",
    "    model=\"gpt2\",\n",
    "    # gpu_memory_utilization=0.3,  # Use 30% GPU memory for testing\n",
    "    max_model_len=512,           # Limit context length\n",
    ")\n",
    "\n",
    "load_time = time.time() - start_time\n",
    "print(f\"✅ Model loaded in {load_time:.2f} seconds\")"
   ]
  },
  {
   "cell_type": "markdown",
   "metadata": {},
   "source": [
    "### Generate Text"
   ]
  },
  {
   "cell_type": "code",
   "execution_count": 7,
   "metadata": {},
   "outputs": [
    {
     "name": "stdout",
     "output_type": "stream",
     "text": [
      "Generating text...\n",
      "\n"
     ]
    },
    {
     "ename": "NameError",
     "evalue": "name 'llm' is not defined",
     "output_type": "error",
     "traceback": [
      "\u001b[0;31m---------------------------------------------------------------------------\u001b[0m",
      "\u001b[0;31mNameError\u001b[0m                                 Traceback (most recent call last)",
      "Cell \u001b[0;32mIn[7], line 18\u001b[0m\n\u001b[1;32m     15\u001b[0m \u001b[38;5;28mprint\u001b[39m(\u001b[38;5;124m\"\u001b[39m\u001b[38;5;124mGenerating text...\u001b[39m\u001b[38;5;130;01m\\n\u001b[39;00m\u001b[38;5;124m\"\u001b[39m)\n\u001b[1;32m     16\u001b[0m start_time \u001b[38;5;241m=\u001b[39m time\u001b[38;5;241m.\u001b[39mtime()\n\u001b[0;32m---> 18\u001b[0m outputs \u001b[38;5;241m=\u001b[39m \u001b[43mllm\u001b[49m\u001b[38;5;241m.\u001b[39mgenerate(prompts, sampling_params)\n\u001b[1;32m     20\u001b[0m generation_time \u001b[38;5;241m=\u001b[39m time\u001b[38;5;241m.\u001b[39mtime() \u001b[38;5;241m-\u001b[39m start_time\n\u001b[1;32m     22\u001b[0m \u001b[38;5;66;03m# Display results\u001b[39;00m\n",
      "\u001b[0;31mNameError\u001b[0m: name 'llm' is not defined"
     ]
    }
   ],
   "source": [
    "# Define sampling parameters\n",
    "sampling_params = SamplingParams(\n",
    "    temperature=0.8,\n",
    "    top_p=0.95,\n",
    "    max_tokens=50,\n",
    ")\n",
    "\n",
    "# Test prompts\n",
    "prompts = [\n",
    "    \"Once upon a time in a distant land,\",\n",
    "    \"The future of artificial intelligence is\",\n",
    "    \"Python is a programming language that\",\n",
    "]\n",
    "\n",
    "print(\"Generating text...\\n\")\n",
    "start_time = time.time()\n",
    "\n",
    "outputs = llm.generate(prompts, sampling_params)\n",
    "\n",
    "generation_time = time.time() - start_time\n",
    "\n",
    "# Display results\n",
    "for i, output in enumerate(outputs):\n",
    "    prompt = output.prompt\n",
    "    generated_text = output.outputs[0].text\n",
    "    print(f\"Prompt {i+1}: {prompt}\")\n",
    "    print(f\"Generated: {generated_text}\")\n",
    "    print(\"-\" * 80)\n",
    "\n",
    "print(f\"\\n⏱️  Total generation time: {generation_time:.2f} seconds\")\n",
    "print(f\"⏱️  Average time per prompt: {generation_time/len(prompts):.2f} seconds\")"
   ]
  },
  {
   "cell_type": "markdown",
   "metadata": {},
   "source": [
    "---\n",
    "## 4. PagedAttention Overview\n",
    "\n",
    "PagedAttention is vLLM's key innovation for efficient KV cache management."
   ]
  },
  {
   "cell_type": "markdown",
   "metadata": {},
   "source": [
    "### Traditional KV Cache Problem\n",
    "\n",
    "Traditional approach allocates contiguous memory:\n",
    "\n",
    "```\n",
    "Request 1 (len=1024): ████████░░░░░░░░ (allocated 2048, used 1024)\n",
    "Request 2 (len=512):  ████░░░░░░░░░░░░ (allocated 2048, used 512)\n",
    "\n",
    "Memory waste: ~60%\n",
    "```"
   ]
  },
  {
   "cell_type": "markdown",
   "metadata": {},
   "source": [
    "### PagedAttention Solution\n",
    "\n",
    "PagedAttention uses paging (like virtual memory):\n",
    "\n",
    "```\n",
    "Physical blocks: [P0][P1][P2][P3][P4][P5]...\n",
    "\n",
    "Request 1: P0 → P1 → P2 → P3 (1024 tokens, 4 blocks)\n",
    "Request 2: P4 → P5           (512 tokens, 2 blocks)\n",
    "\n",
    "Memory waste: ~0%\n",
    "```"
   ]
  },
  {
   "cell_type": "code",
   "execution_count": null,
   "metadata": {},
   "outputs": [
    {
     "name": "stderr",
     "output_type": "stream",
     "text": [
      "findfont: Generic family 'sans-serif' not found because none of the following families were found: Noto Sans CJK TC\\naxes.unicode_minus : False\n",
      "findfont: Generic family 'sans-serif' not found because none of the following families were found: Noto Sans CJK TC\\naxes.unicode_minus : False\n",
      "findfont: Generic family 'sans-serif' not found because none of the following families were found: Noto Sans CJK TC\\naxes.unicode_minus : False\n",
      "findfont: Generic family 'sans-serif' not found because none of the following families were found: Noto Sans CJK TC\\naxes.unicode_minus : False\n",
      "findfont: Generic family 'sans-serif' not found because none of the following families were found: Noto Sans CJK TC\\naxes.unicode_minus : False\n",
      "findfont: Generic family 'sans-serif' not found because none of the following families were found: Noto Sans CJK TC\\naxes.unicode_minus : False\n",
      "findfont: Generic family 'sans-serif' not found because none of the following families were found: Noto Sans CJK TC\\naxes.unicode_minus : False\n",
      "findfont: Generic family 'sans-serif' not found because none of the following families were found: Noto Sans CJK TC\\naxes.unicode_minus : False\n",
      "findfont: Generic family 'sans-serif' not found because none of the following families were found: Noto Sans CJK TC\\naxes.unicode_minus : False\n",
      "findfont: Generic family 'sans-serif' not found because none of the following families were found: Noto Sans CJK TC\\naxes.unicode_minus : False\n",
      "findfont: Generic family 'sans-serif' not found because none of the following families were found: Noto Sans CJK TC\\naxes.unicode_minus : False\n",
      "findfont: Generic family 'sans-serif' not found because none of the following families were found: Noto Sans CJK TC\\naxes.unicode_minus : False\n",
      "findfont: Generic family 'sans-serif' not found because none of the following families were found: Noto Sans CJK TC\\naxes.unicode_minus : False\n",
      "findfont: Generic family 'sans-serif' not found because none of the following families were found: Noto Sans CJK TC\\naxes.unicode_minus : False\n",
      "findfont: Generic family 'sans-serif' not found because none of the following families were found: Noto Sans CJK TC\\naxes.unicode_minus : False\n",
      "findfont: Generic family 'sans-serif' not found because none of the following families were found: Noto Sans CJK TC\\naxes.unicode_minus : False\n",
      "findfont: Generic family 'sans-serif' not found because none of the following families were found: Noto Sans CJK TC\\naxes.unicode_minus : False\n",
      "findfont: Generic family 'sans-serif' not found because none of the following families were found: Noto Sans CJK TC\\naxes.unicode_minus : False\n",
      "findfont: Generic family 'sans-serif' not found because none of the following families were found: Noto Sans CJK TC\\naxes.unicode_minus : False\n",
      "findfont: Generic family 'sans-serif' not found because none of the following families were found: Noto Sans CJK TC\\naxes.unicode_minus : False\n",
      "findfont: Generic family 'sans-serif' not found because none of the following families were found: Noto Sans CJK TC\\naxes.unicode_minus : False\n",
      "findfont: Generic family 'sans-serif' not found because none of the following families were found: Noto Sans CJK TC\\naxes.unicode_minus : False\n",
      "findfont: Generic family 'sans-serif' not found because none of the following families were found: Noto Sans CJK TC\\naxes.unicode_minus : False\n",
      "findfont: Generic family 'sans-serif' not found because none of the following families were found: Noto Sans CJK TC\\naxes.unicode_minus : False\n",
      "findfont: Generic family 'sans-serif' not found because none of the following families were found: Noto Sans CJK TC\\naxes.unicode_minus : False\n",
      "findfont: Generic family 'sans-serif' not found because none of the following families were found: Noto Sans CJK TC\\naxes.unicode_minus : False\n",
      "findfont: Generic family 'sans-serif' not found because none of the following families were found: Noto Sans CJK TC\\naxes.unicode_minus : False\n",
      "findfont: Generic family 'sans-serif' not found because none of the following families were found: Noto Sans CJK TC\\naxes.unicode_minus : False\n",
      "findfont: Generic family 'sans-serif' not found because none of the following families were found: Noto Sans CJK TC\\naxes.unicode_minus : False\n",
      "findfont: Generic family 'sans-serif' not found because none of the following families were found: Noto Sans CJK TC\\naxes.unicode_minus : False\n",
      "findfont: Generic family 'sans-serif' not found because none of the following families were found: Noto Sans CJK TC\\naxes.unicode_minus : False\n",
      "findfont: Generic family 'sans-serif' not found because none of the following families were found: Noto Sans CJK TC\\naxes.unicode_minus : False\n",
      "findfont: Generic family 'sans-serif' not found because none of the following families were found: Noto Sans CJK TC\\naxes.unicode_minus : False\n",
      "findfont: Generic family 'sans-serif' not found because none of the following families were found: Noto Sans CJK TC\\naxes.unicode_minus : False\n",
      "findfont: Generic family 'sans-serif' not found because none of the following families were found: Noto Sans CJK TC\\naxes.unicode_minus : False\n",
      "findfont: Generic family 'sans-serif' not found because none of the following families were found: Noto Sans CJK TC\\naxes.unicode_minus : False\n",
      "findfont: Generic family 'sans-serif' not found because none of the following families were found: Noto Sans CJK TC\\naxes.unicode_minus : False\n",
      "findfont: Generic family 'sans-serif' not found because none of the following families were found: Noto Sans CJK TC\\naxes.unicode_minus : False\n",
      "findfont: Generic family 'sans-serif' not found because none of the following families were found: Noto Sans CJK TC\\naxes.unicode_minus : False\n",
      "findfont: Generic family 'sans-serif' not found because none of the following families were found: Noto Sans CJK TC\\naxes.unicode_minus : False\n",
      "findfont: Generic family 'sans-serif' not found because none of the following families were found: Noto Sans CJK TC\\naxes.unicode_minus : False\n",
      "findfont: Generic family 'sans-serif' not found because none of the following families were found: Noto Sans CJK TC\\naxes.unicode_minus : False\n",
      "findfont: Generic family 'sans-serif' not found because none of the following families were found: Noto Sans CJK TC\\naxes.unicode_minus : False\n",
      "findfont: Generic family 'sans-serif' not found because none of the following families were found: Noto Sans CJK TC\\naxes.unicode_minus : False\n",
      "findfont: Generic family 'sans-serif' not found because none of the following families were found: Noto Sans CJK TC\\naxes.unicode_minus : False\n",
      "findfont: Generic family 'sans-serif' not found because none of the following families were found: Noto Sans CJK TC\\naxes.unicode_minus : False\n",
      "findfont: Generic family 'sans-serif' not found because none of the following families were found: Noto Sans CJK TC\\naxes.unicode_minus : False\n",
      "findfont: Generic family 'sans-serif' not found because none of the following families were found: Noto Sans CJK TC\\naxes.unicode_minus : False\n",
      "findfont: Generic family 'sans-serif' not found because none of the following families were found: Noto Sans CJK TC\\naxes.unicode_minus : False\n",
      "findfont: Generic family 'sans-serif' not found because none of the following families were found: Noto Sans CJK TC\\naxes.unicode_minus : False\n",
      "findfont: Generic family 'sans-serif' not found because none of the following families were found: Noto Sans CJK TC\\naxes.unicode_minus : False\n",
      "findfont: Generic family 'sans-serif' not found because none of the following families were found: Noto Sans CJK TC\\naxes.unicode_minus : False\n",
      "findfont: Generic family 'sans-serif' not found because none of the following families were found: Noto Sans CJK TC\\naxes.unicode_minus : False\n",
      "findfont: Generic family 'sans-serif' not found because none of the following families were found: Noto Sans CJK TC\\naxes.unicode_minus : False\n",
      "findfont: Generic family 'sans-serif' not found because none of the following families were found: Noto Sans CJK TC\\naxes.unicode_minus : False\n",
      "findfont: Generic family 'sans-serif' not found because none of the following families were found: Noto Sans CJK TC\\naxes.unicode_minus : False\n",
      "findfont: Generic family 'sans-serif' not found because none of the following families were found: Noto Sans CJK TC\\naxes.unicode_minus : False\n",
      "findfont: Generic family 'sans-serif' not found because none of the following families were found: Noto Sans CJK TC\\naxes.unicode_minus : False\n",
      "findfont: Generic family 'sans-serif' not found because none of the following families were found: Noto Sans CJK TC\\naxes.unicode_minus : False\n",
      "findfont: Generic family 'sans-serif' not found because none of the following families were found: Noto Sans CJK TC\\naxes.unicode_minus : False\n",
      "findfont: Generic family 'sans-serif' not found because none of the following families were found: Noto Sans CJK TC\\naxes.unicode_minus : False\n",
      "findfont: Generic family 'sans-serif' not found because none of the following families were found: Noto Sans CJK TC\\naxes.unicode_minus : False\n"
     ]
    },
    {
     "data": {
      "image/png": "[encoded data removed]",
      "text/plain": [
       "<Figure size 1200x500 with 2 Axes>"
      ]
     },
     "metadata": {},
     "output_type": "display_data"
    },
    {
     "name": "stdout",
     "output_type": "stream",
     "text": [
      "\n",
      "📊 PagedAttention improves memory utilization from 40% to 95%!\n"
     ]
    }
   ],
   "source": [
    "# Visualize memory efficiency\n",
    "import numpy as np\n",
    "import matplotlib.pyplot as plt\n",
    "\n",
    "# Simulated data\n",
    "approaches = ['Traditional', 'PagedAttention']\n",
    "memory_used = [40, 95]  # Percentage\n",
    "memory_wasted = [60, 5]\n",
    "\n",
    "fig, (ax1, ax2) = plt.subplots(1, 2, figsize=(12, 5))\n",
    "\n",
    "# Memory utilization\n",
    "ax1.bar(approaches, memory_used, color=['#ff6b6b', '#51cf66'])\n",
    "ax1.set_ylabel('Memory Utilization (%)')\n",
    "ax1.set_title('Memory Utilization Comparison')\n",
    "ax1.set_ylim(0, 100)\n",
    "for i, v in enumerate(memory_used):\n",
    "    ax1.text(i, v + 2, f\"{v}%\", ha='center', fontweight='bold')\n",
    "\n",
    "# Memory waste\n",
    "ax2.bar(approaches, memory_wasted, color=['#ff6b6b', '#51cf66'])\n",
    "ax2.set_ylabel('Memory Waste (%)')\n",
    "ax2.set_title('Memory Waste Comparison')\n",
    "ax2.set_ylim(0, 100)\n",
    "for i, v in enumerate(memory_wasted):\n",
    "    ax2.text(i, v + 2, f\"{v}%\", ha='center', fontweight='bold')\n",
    "\n",
    "plt.tight_layout()\n",
    "plt.show()\n",
    "\n",
    "print(\"\\n📊 PagedAttention improves memory utilization from 40% to 95%!\")"
   ]
  },
  {
   "cell_type": "markdown",
   "metadata": {},
   "source": [
    "---\n",
    "## 5. Compare with HuggingFace\n",
    "\n",
    "Let's compare vLLM with standard HuggingFace inference."
   ]
  },
  {
   "cell_type": "code",
   "execution_count": null,
   "metadata": {},
   "outputs": [
    {
     "name": "stdout",
     "output_type": "stream",
     "text": [
      "Loading HuggingFace GPT-2...\n",
      "✅ HuggingFace model loaded\n"
     ]
    }
   ],
   "source": [
    "# HuggingFace baseline\n",
    "from transformers import AutoModelForCausalLM, AutoTokenizer\n",
    "import torch\n",
    "\n",
    "print(\"Loading HuggingFace GPT-2...\")\n",
    "hf_model = AutoModelForCausalLM.from_pretrained(\"gpt2\").to(\"cuda\")\n",
    "hf_tokenizer = AutoTokenizer.from_pretrained(\"gpt2\")\n",
    "hf_tokenizer.pad_token = hf_tokenizer.eos_token\n",
    "\n",
    "print(\"✅ HuggingFace model loaded\")"
   ]
  },
  {
   "cell_type": "code",
   "execution_count": null,
   "metadata": {},
   "outputs": [
    {
     "name": "stderr",
     "output_type": "stream",
     "text": [
      "Setting `pad_token_id` to `eos_token_id`:50256 for open-end generation.\n"
     ]
    },
    {
     "name": "stdout",
     "output_type": "stream",
     "text": [
      "Testing HuggingFace...\n",
      "HuggingFace output: The future of artificial intelligence is in its infancy. While artificial intelligence could eventually reach an advanced state of automation, that's not really a reason to invest much time in AI. The potential uses for AI in healthcare could be greatly expanded in the near future. AI could be a major\n",
      "Time: 0.467s\n"
     ]
    }
   ],
   "source": [
    "# HuggingFace generation\n",
    "test_prompt = \"The future of artificial intelligence is\"\n",
    "\n",
    "print(\"Testing HuggingFace...\")\n",
    "inputs = hf_tokenizer(test_prompt, return_tensors=\"pt\").to(\"cuda\")\n",
    "\n",
    "start_time = time.time()\n",
    "with torch.no_grad():\n",
    "    hf_outputs = hf_model.generate(\n",
    "        **inputs,\n",
    "        max_new_tokens=50,\n",
    "        temperature=0.8,\n",
    "        top_p=0.95,\n",
    "        do_sample=True,\n",
    "    )\n",
    "hf_time = time.time() - start_time\n",
    "\n",
    "hf_text = hf_tokenizer.decode(hf_outputs[0], skip_special_tokens=True)\n",
    "print(f\"HuggingFace output: {hf_text}\")\n",
    "print(f\"Time: {hf_time:.3f}s\")"
   ]
  },
  {
   "cell_type": "code",
   "execution_count": null,
   "metadata": {},
   "outputs": [
    {
     "name": "stdout",
     "output_type": "stream",
     "text": [
      "\n",
      "Testing vLLM...\n"
     ]
    },
    {
     "data": {
      "application/vnd.jupyter.widget-view+json": {
       "model_id": "b432cddf4f9948c291cd8c19fd347f7e",
       "version_major": 2,
       "version_minor": 0
      },
      "text/plain": [
       "Adding requests:   0%|          | 0/1 [00:00<?, ?it/s]"
      ]
     },
     "metadata": {},
     "output_type": "display_data"
    },
    {
     "data": {
      "application/vnd.jupyter.widget-view+json": {
       "model_id": "19c0f31a4b1747b083747999319d79d7",
       "version_major": 2,
       "version_minor": 0
      },
      "text/plain": [
       "Processed prompts:   0%|          | 0/1 [00:00<?, ?it/s, est. speed input: 0.00 toks/s, output: 0.00 toks/s]"
      ]
     },
     "metadata": {},
     "output_type": "display_data"
    },
    {
     "name": "stdout",
     "output_type": "stream",
     "text": [
      "vLLM output: The future of artificial intelligence is now more complicated than ever.\n",
      "\n",
      "The smartest people are smarter than the average person. They are smarter than the average person in some ways. But, for the average person, the human mind is a vast, vast machine. They are the best\n",
      "Time: 0.117s\n"
     ]
    }
   ],
   "source": [
    "# vLLM generation (same prompt)\n",
    "print(\"\\nTesting vLLM...\")\n",
    "start_time = time.time()\n",
    "vllm_outputs = llm.generate([test_prompt], sampling_params)\n",
    "vllm_time = time.time() - start_time\n",
    "\n",
    "vllm_text = vllm_outputs[0].outputs[0].text\n",
    "print(f\"vLLM output: {test_prompt}{vllm_text}\")\n",
    "print(f\"Time: {vllm_time:.3f}s\")"
   ]
  },
  {
   "cell_type": "code",
   "execution_count": null,
   "metadata": {},
   "outputs": [
    {
     "name": "stdout",
     "output_type": "stream",
     "text": [
      "\n",
      "================================================================================\n",
      "PERFORMANCE COMPARISON\n",
      "================================================================================\n",
      "HuggingFace:  0.467s\n",
      "vLLM:         0.117s\n",
      "Speedup:      3.98x faster ⚡\n",
      "================================================================================\n"
     ]
    }
   ],
   "source": [
    "# Performance comparison\n",
    "speedup = hf_time / vllm_time\n",
    "\n",
    "print(\"\\n\" + \"=\"*80)\n",
    "print(\"PERFORMANCE COMPARISON\")\n",
    "print(\"=\"*80)\n",
    "print(f\"HuggingFace:  {hf_time:.3f}s\")\n",
    "print(f\"vLLM:         {vllm_time:.3f}s\")\n",
    "print(f\"Speedup:      {speedup:.2f}x faster ⚡\")\n",
    "print(\"=\"*80)\n"
   ]
  },
  {
   "cell_type": "markdown",
   "metadata": {},
   "source": [
    "---\n",
    "## 6. Check vLLM Configuration"
   ]
  },
  {
   "cell_type": "code",
   "execution_count": null,
   "metadata": {},
   "outputs": [
    {
     "name": "stdout",
     "output_type": "stream",
     "text": [
      "vLLM Engine Configuration:\n",
      "  Model: gpt2\n",
      "  Max model length: 512\n",
      "  GPU memory utilization: 0.9\n",
      "  Block size: 16\n"
     ]
    }
   ],
   "source": [
    "# Inspect vLLM engine configuration\n",
    "print(\"vLLM Engine Configuration:\")\n",
    "print(f\"  Model: {llm.llm_engine.model_config.model}\")\n",
    "print(f\"  Max model length: {llm.llm_engine.model_config.max_model_len}\")\n",
    "print(f\"  GPU memory utilization: {llm.llm_engine.cache_config.gpu_memory_utilization}\")\n",
    "print(f\"  Block size: {llm.llm_engine.cache_config.block_size}\")\n"
   ]
  },
  {
   "cell_type": "markdown",
   "metadata": {},
   "source": [
    "---\n",
    "## Summary\n",
    "\n",
    "✅ **Completed**:\n",
    "1. Verified CUDA and GPU environment\n",
    "2. Installed vLLM\n",
    "3. Ran basic inference test\n",
    "4. Understood PagedAttention benefits\n",
    "5. Compared vLLM vs HuggingFace\n",
    "\n",
    "📊 **Key Findings**:\n",
    "- vLLM provides significant speedup over HuggingFace\n",
    "- PagedAttention improves memory utilization from ~40% to ~95%\n",
    "- Simple API similar to HuggingFace\n",
    "\n",
    "➡️ **Next**: In `02-Basic_Inference.ipynb`, we'll explore:\n",
    "- Batch inference\n",
    "- Advanced sampling strategies\n",
    "- Memory profiling\n",
    "- Throughput optimization"
   ]
  },
  {
   "cell_type": "markdown",
   "metadata": {},
   "source": [
    "---\n",
    "## Exercises\n",
    "\n",
    "1. **Try different models**: Replace GPT-2 with other models (e.g., `facebook/opt-125m`)\n",
    "2. **Adjust parameters**: Experiment with `gpu_memory_utilization` and `max_model_len`\n",
    "3. **Measure memory**: Use `nvidia-smi` to monitor GPU memory usage\n",
    "4. **Batch size**: Test with different numbers of prompts (1, 4, 8, 16)"
   ]
  },
  {
   "cell_type": "code",
   "execution_count": null,
   "metadata": {},
   "outputs": [
    {
     "name": "stderr",
     "output_type": "stream",
     "text": [
      "[rank0]:[W1021 21:20:53.293578239 ProcessGroupNCCL.cpp:1538] Warning: WARNING: destroy_process_group() was not called before program exit, which can leak resources. For more info, please see https://pytorch.org/docs/stable/distributed.html#shutdown (function operator())\n"
     ]
    },
    {
     "name": "stdout",
     "output_type": "stream",
     "text": [
      "✅ Cleaned up GPU memory\n"
     ]
    }
   ],
   "source": [
    "# Clean up\n",
    "import gc\n",
    "\n",
    "del llm\n",
    "del hf_model\n",
    "torch.cuda.empty_cache()\n",
    "gc.collect()\n",
    "\n",
    "print(\"✅ Cleaned up GPU memory\")"
   ]
  }
 ],
 "metadata": {
  "kernelspec": {
   "display_name": "LLM Engineering Course (Poetry)",
   "language": "python",
   "name": "llm-engineering-course"
  },
  "language_info": {
   "codemirror_mode": {
    "name": "ipython",
    "version": 3
   },
   "file_extension": ".py",
   "mimetype": "text/x-python",
   "name": "python",
   "nbconvert_exporter": "python",
   "pygments_lexer": "ipython3",
   "version": "3.10.12"
  }
 },
 "nbformat": 4,
 "nbformat_minor": 4
}
