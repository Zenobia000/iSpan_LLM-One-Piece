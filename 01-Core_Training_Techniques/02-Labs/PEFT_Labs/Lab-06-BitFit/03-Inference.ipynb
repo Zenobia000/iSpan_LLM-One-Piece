{
  "cells": [
    {
      "cell_type": "markdown",
      "metadata": {},
      "source": [
        "# Lab 6: BitFit - Fine-Tuning a BERT Model by Only Training Bias Terms\n",
        "---\n",
        "## Notebook 3: Inference\n",
        "\n",
        "**Goal:** In this notebook, you will load the fine-tuned BERT model from the BitFit training process and use it to make predictions.\n",
        "\n",
        "**You will learn to:**\n",
        "-   Load a standard `transformers` model directly from a training checkpoint.\n",
        "-   Perform inference on new data.\n"
      ]
    },
    {
      "cell_type": "markdown",
      "metadata": {},
      "source": [
        "### Step 1: Reload Model from Checkpoint\n",
        "\n",
        "Because BitFit doesn't use a separate adapter model, the fine-tuned parameters (the biases and classifier weights) are saved as part of the main model checkpoints. Therefore, we can load the model directly using `AutoModelForSequenceClassification.from_pretrained` and point it to the best checkpoint saved by the `Trainer`. We do **not** need the `peft` library for inference.\n"
      ]
    },
    {
      "cell_type": "code",
      "execution_count": null,
      "metadata": {},
      "outputs": [],
      "source": [
        "from transformers import AutoModelForSequenceClassification, AutoTokenizer\n",
        "import torch\n",
        "import os\n",
        "\n",
        "# --- Path to the best checkpoint ---\n",
        "output_dir = \"./bert-bitfit-mrpc\"\n",
        "latest_checkpoint = max(\n",
        "    [os.path.join(output_dir, d) for d in os.listdir(output_dir) if d.startswith(\"checkpoint-\")],\n",
        "    key=os.path.getmtime\n",
        ")\n",
        "print(f\"Loading model from: {latest_checkpoint}\")\n",
        "\n",
        "# --- Load Fine-tuned Model and Tokenizer ---\n",
        "inference_model = AutoModelForSequenceClassification.from_pretrained(latest_checkpoint)\n",
        "tokenizer = AutoTokenizer.from_pretrained(latest_checkpoint)\n",
        "\n",
        "# Move model to GPU if available\n",
        "device = torch.device(\"cuda\" if torch.cuda.is_available() else \"cpu\")\n",
        "inference_model.to(device)\n",
        "inference_model.eval()\n",
        "\n",
        "print(\"✅ BitFit fine-tuned model loaded successfully!\")\n"
      ]
    },
    {
      "cell_type": "markdown",
      "metadata": {},
      "source": [
        "### Step 2: Perform Inference\n",
        "\n",
        "The inference process is identical to that of a fully fine-tuned model. We will use the same prediction function from the Adapter Layers lab.\n"
      ]
    },
    {
      "cell_type": "code",
      "execution_count": null,
      "metadata": {},
      "outputs": [],
      "source": [
        "import torch.nn.functional as F\n",
        "\n",
        "# Define the labels\n",
        "id2label = {0: \"Not a Paraphrase\", 1: \"Is a Paraphrase\"}\n",
        "\n",
        "def predict_paraphrase(sentence1, sentence2):\n",
        "    inputs = tokenizer(sentence1, sentence2, return_tensors=\"pt\", truncation=True, padding=True)\n",
        "    inputs = {k: v.to(device) for k, v in inputs.items()}\n",
        "    \n",
        "    with torch.no_grad():\n",
        "        outputs = inference_model(**inputs)\n",
        "    \n",
        "    logits = outputs.logits\n",
        "    probabilities = F.softmax(logits, dim=1).cpu().numpy()[0]\n",
        "    prediction = torch.argmax(logits, dim=-1).cpu().item()\n",
        "    \n",
        "    print(f\"Sentence 1: '{sentence1}'\")\n",
        "    print(f\"Sentence 2: '{sentence2}'\")\n",
        "    print(f\"Prediction: {id2label[prediction]}\")\n",
        "    print(f\"Probabilities:\")\n",
        "    print(f\"  - {id2label[0]}: {probabilities[0]:.4f}\")\n",
        "    print(f\"  - {id2label[1]}: {probabilities[1]:.4f}\")\n",
        "\n",
        "# --- Test Cases ---\n",
        "print(\"--- Test Case 1 (Should be a paraphrase) ---\")\n",
        "predict_paraphrase(\n",
        "    \"The company said the merger was subject to the approval of its shareholders.\",\n",
        "    \"The company said the deal was subject to the approval of its shareholders.\"\n",
        ")\n",
        "\n",
        "print(\"\\n--- Test Case 2 (Should NOT be a paraphrase) ---\")\n",
        "predict_paraphrase(\n",
        "    \"The cat sat on the mat.\",\n",
        "    \"The dog played in the garden.\"\n",
        ")\n"
      ]
    },
    {
      "cell_type": "markdown",
      "metadata": {},
      "source": [
        "---\n",
        "### Lab Conclusion\n",
        "\n",
        "This concludes the BitFit lab. You have successfully implemented a PEFT method manually by controlling the `requires_grad` status of model parameters. This approach highlights the flexibility of libraries like `transformers` and provides a deeper understanding of what PEFT methods are accomplishing under the hood.\n",
        "\n",
        "**All planned PEFT labs are now complete!**\n"
      ]
    }
  ],
  "metadata": {
    "language_info": {
      "name": "python"
    }
  },
  "nbformat": 4,
  "nbformat_minor": 2
}
