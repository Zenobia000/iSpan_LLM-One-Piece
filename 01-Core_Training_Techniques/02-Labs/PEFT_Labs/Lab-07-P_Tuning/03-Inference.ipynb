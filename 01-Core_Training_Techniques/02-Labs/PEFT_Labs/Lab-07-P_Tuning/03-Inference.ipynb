{
  "cells": [
    {
      "cell_type": "markdown",
      "metadata": {},
      "source": [
        "# Lab 7: P-Tuning - Fine-Tuning a BERT Model for NLU Tasks\n",
        "---\n",
        "## Notebook 3: Inference\n",
        "\n",
        "**Goal:** In this notebook, you will load the trained P-Tuning adapter and use the fine-tuned BERT model to perform sentiment classification.\n",
        "\n",
        "**You will learn to:**\n",
        "-   Reload the base BERT model and tokenizer.\n",
        "-   Load the trained P-Tuning adapter from a checkpoint.\n",
        "-   Perform sentiment classification on new sentences.\n"
      ]
    },
    {
      "cell_type": "markdown",
      "metadata": {},
      "source": [
        "### Step 1: Reload Model and Adapter\n",
        "\n",
        "We will load the base BERT model and then apply our trained P-Tuning weights on top of it.\n"
      ]
    },
    {
      "cell_type": "code",
      "execution_count": null,
      "metadata": {},
      "outputs": [],
      "source": [
        "from transformers import AutoModelForSequenceClassification, AutoTokenizer\n",
        "from peft import PeftModel\n",
        "import torch\n",
        "import os\n",
        "\n",
        "# --- Load Base Model and Tokenizer ---\n",
        "model_checkpoint = \"bert-base-uncased\"\n",
        "base_model = AutoModelForSequenceClassification.from_pretrained(\n",
        "    model_checkpoint, \n",
        "    num_labels=2\n",
        ")\n",
        "tokenizer = AutoTokenizer.from_pretrained(model_checkpoint)\n",
        "\n",
        "# --- Load PEFT Adapter ---\n",
        "output_dir = \"./bert-ptuning-sst2\"\n",
        "latest_checkpoint = max(\n",
        "    [os.path.join(output_dir, d) for d in os.listdir(output_dir) if d.startswith(\"checkpoint-\")],\n",
        "    key=os.path.getmtime\n",
        ")\n",
        "print(f\"Loading adapter from: {latest_checkpoint}\")\n",
        "\n",
        "inference_model = PeftModel.from_pretrained(base_model, latest_checkpoint)\n",
        "\n",
        "# Move model to GPU if available\n",
        "device = torch.device(\"cuda\" if torch.cuda.is_available() else \"cpu\")\n",
        "inference_model.to(device)\n",
        "inference_model.eval()\n",
        "\n",
        "print(\"✅ P-Tuning fine-tuned model loaded successfully!\")\n"
      ]
    },
    {
      "cell_type": "markdown",
      "metadata": {},
      "source": [
        "### Step 2: Perform Sentiment Classification\n",
        "\n",
        "Now, let's test the model by performing sentiment classification on new sentences. We'll use the same prediction function approach as in other labs.\n"
      ]
    },
    {
      "cell_type": "code",
      "execution_count": null,
      "metadata": {},
      "outputs": [],
      "source": [
        "import torch.nn.functional as F\n",
        "\n",
        "# Define the labels\n",
        "id2label = {0: \"Negative\", 1: \"Positive\"}\n",
        "\n",
        "def predict_sentiment(text):\n",
        "    inputs = tokenizer(text, return_tensors=\"pt\", truncation=True, padding=True, max_length=128)\n",
        "    inputs = {k: v.to(device) for k, v in inputs.items()}\n",
        "    \n",
        "    with torch.no_grad():\n",
        "        outputs = inference_model(**inputs)\n",
        "    \n",
        "    logits = outputs.logits\n",
        "    probabilities = F.softmax(logits, dim=1).cpu().numpy()[0]\n",
        "    prediction = torch.argmax(logits, dim=-1).cpu().item()\n",
        "    \n",
        "    print(f\"Text: '{text}'\")\n",
        "    print(f\"Prediction: {id2label[prediction]}\")\n",
        "    print(f\"Probabilities:\")\n",
        "    print(f\"  - {id2label[0]}: {probabilities[0]:.4f}\")\n",
        "    print(f\"  - {id2label[1]}: {probabilities[1]:.4f}\")\n",
        "    print()\n",
        "\n",
        "# --- Test Cases ---\n",
        "test_sentences = [\n",
        "    \"This movie was absolutely fantastic! I loved every minute of it.\",\n",
        "    \"The film was boring and poorly made. I didn't enjoy it at all.\",\n",
        "    \"An average movie with some good moments.\",\n",
        "    \"Outstanding performance by the lead actor. Highly recommended!\",\n",
        "    \"Terrible plot and bad acting. Complete waste of time.\"\n",
        "]\n",
        "\n",
        "print(\"--- P-Tuning Sentiment Classification Results ---\")\n",
        "for sentence in test_sentences:\n",
        "    predict_sentiment(sentence)\n"
      ]
    }
  ],
  "metadata": {
    "language_info": {
      "name": "python"
    }
  },
  "nbformat": 4,
  "nbformat_minor": 2
}
