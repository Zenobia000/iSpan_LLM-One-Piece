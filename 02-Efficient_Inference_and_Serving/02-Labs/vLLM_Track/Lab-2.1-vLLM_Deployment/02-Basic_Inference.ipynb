{
 "cells": [
  {
   "cell_type": "markdown",
   "metadata": {},
   "source": [
    "# Lab-2.1 Part 2: Basic Inference with vLLM\n",
    "\n",
    "## Objectives\n",
    "- Master vLLM API usage\n",
    "- Implement batch inference\n",
    "- Measure performance metrics\n",
    "- Analyze memory usage\n",
    "\n",
    "## Estimated Time: 60-90 minutes"
   ]
  },
  {
   "cell_type": "markdown",
   "metadata": {},
   "source": [
    "---\n",
    "## 1. Setup and Model Loading"
   ]
  },
  {
   "cell_type": "code",
   "execution_count": 1,
   "metadata": {},
   "outputs": [
    {
     "ename": "ImportError",
     "evalue": "/home/os-sunnie.gd.weng/.local/lib/python3.10/site-packages/torch/lib/libcusparseLt-294d6944.so.0: cannot read file data",
     "output_type": "error",
     "traceback": [
      "\u001b[0;31m---------------------------------------------------------------------------\u001b[0m",
      "\u001b[0;31mImportError\u001b[0m                               Traceback (most recent call last)",
      "Cell \u001b[0;32mIn[1], line 2\u001b[0m\n\u001b[1;32m      1\u001b[0m \u001b[38;5;66;03m# Imports\u001b[39;00m\n\u001b[0;32m----> 2\u001b[0m \u001b[38;5;28;01mfrom\u001b[39;00m\u001b[38;5;250m \u001b[39m\u001b[38;5;21;01mvllm\u001b[39;00m\u001b[38;5;250m \u001b[39m\u001b[38;5;28;01mimport\u001b[39;00m LLM, SamplingParams\n\u001b[1;32m      3\u001b[0m \u001b[38;5;28;01mimport\u001b[39;00m\u001b[38;5;250m \u001b[39m\u001b[38;5;21;01mvllm\u001b[39;00m\n\u001b[1;32m      4\u001b[0m \u001b[38;5;28;01mimport\u001b[39;00m\u001b[38;5;250m \u001b[39m\u001b[38;5;21;01mtorch\u001b[39;00m\n",
      "File \u001b[0;32m~/.local/lib/python3.10/site-packages/vllm/__init__.py:14\u001b[0m\n\u001b[1;32m      9\u001b[0m \u001b[38;5;28;01mimport\u001b[39;00m\u001b[38;5;250m \u001b[39m\u001b[38;5;21;01mtyping\u001b[39;00m\n\u001b[1;32m     11\u001b[0m \u001b[38;5;66;03m# The environment variables override should be imported before any other\u001b[39;00m\n\u001b[1;32m     12\u001b[0m \u001b[38;5;66;03m# modules to ensure that the environment variables are set before any\u001b[39;00m\n\u001b[1;32m     13\u001b[0m \u001b[38;5;66;03m# other modules are imported.\u001b[39;00m\n\u001b[0;32m---> 14\u001b[0m \u001b[38;5;28;01mimport\u001b[39;00m\u001b[38;5;250m \u001b[39m\u001b[38;5;21;01mvllm\u001b[39;00m\u001b[38;5;21;01m.\u001b[39;00m\u001b[38;5;21;01menv_override\u001b[39;00m  \u001b[38;5;66;03m# noqa: F401\u001b[39;00m\n\u001b[1;32m     16\u001b[0m MODULE_ATTRS \u001b[38;5;241m=\u001b[39m {\n\u001b[1;32m     17\u001b[0m     \u001b[38;5;124m\"\u001b[39m\u001b[38;5;124mbc_linter_skip\u001b[39m\u001b[38;5;124m\"\u001b[39m: \u001b[38;5;124m\"\u001b[39m\u001b[38;5;124m._bc_linter:bc_linter_skip\u001b[39m\u001b[38;5;124m\"\u001b[39m,\n\u001b[1;32m     18\u001b[0m     \u001b[38;5;124m\"\u001b[39m\u001b[38;5;124mbc_linter_include\u001b[39m\u001b[38;5;124m\"\u001b[39m: \u001b[38;5;124m\"\u001b[39m\u001b[38;5;124m._bc_linter:bc_linter_include\u001b[39m\u001b[38;5;124m\"\u001b[39m,\n\u001b[0;32m   (...)\u001b[0m\n\u001b[1;32m     40\u001b[0m     \u001b[38;5;124m\"\u001b[39m\u001b[38;5;124mScoringRequestOutput\u001b[39m\u001b[38;5;124m\"\u001b[39m: \u001b[38;5;124m\"\u001b[39m\u001b[38;5;124m.outputs:ScoringRequestOutput\u001b[39m\u001b[38;5;124m\"\u001b[39m,\n\u001b[1;32m     41\u001b[0m }\n\u001b[1;32m     43\u001b[0m \u001b[38;5;28;01mif\u001b[39;00m typing\u001b[38;5;241m.\u001b[39mTYPE_CHECKING:\n",
      "File \u001b[0;32m~/.local/lib/python3.10/site-packages/vllm/env_override.py:5\u001b[0m\n\u001b[1;32m      1\u001b[0m \u001b[38;5;66;03m# SPDX-License-Identifier: Apache-2.0\u001b[39;00m\n\u001b[1;32m      2\u001b[0m \u001b[38;5;66;03m# SPDX-FileCopyrightText: Copyright contributors to the vLLM project\u001b[39;00m\n\u001b[1;32m      3\u001b[0m \u001b[38;5;28;01mimport\u001b[39;00m\u001b[38;5;250m \u001b[39m\u001b[38;5;21;01mos\u001b[39;00m\n\u001b[0;32m----> 5\u001b[0m \u001b[38;5;28;01mimport\u001b[39;00m\u001b[38;5;250m \u001b[39m\u001b[38;5;21;01mtorch\u001b[39;00m\n\u001b[1;32m      7\u001b[0m \u001b[38;5;28;01mfrom\u001b[39;00m\u001b[38;5;250m \u001b[39m\u001b[38;5;21;01mvllm\u001b[39;00m\u001b[38;5;21;01m.\u001b[39;00m\u001b[38;5;21;01mlogger\u001b[39;00m\u001b[38;5;250m \u001b[39m\u001b[38;5;28;01mimport\u001b[39;00m init_logger\n\u001b[1;32m      9\u001b[0m logger \u001b[38;5;241m=\u001b[39m init_logger(\u001b[38;5;18m__name__\u001b[39m)\n",
      "File \u001b[0;32m~/.local/lib/python3.10/site-packages/torch/__init__.py:367\u001b[0m\n\u001b[1;32m    365\u001b[0m     \u001b[38;5;28;01mif\u001b[39;00m USE_GLOBAL_DEPS:\n\u001b[1;32m    366\u001b[0m         _load_global_deps()\n\u001b[0;32m--> 367\u001b[0m     \u001b[38;5;28;01mfrom\u001b[39;00m\u001b[38;5;250m \u001b[39m\u001b[38;5;21;01mtorch\u001b[39;00m\u001b[38;5;21;01m.\u001b[39;00m\u001b[38;5;21;01m_C\u001b[39;00m\u001b[38;5;250m \u001b[39m\u001b[38;5;28;01mimport\u001b[39;00m \u001b[38;5;241m*\u001b[39m  \u001b[38;5;66;03m# noqa: F403\u001b[39;00m\n\u001b[1;32m    370\u001b[0m \u001b[38;5;28;01mclass\u001b[39;00m\u001b[38;5;250m \u001b[39m\u001b[38;5;21;01mSymInt\u001b[39;00m:\n\u001b[1;32m    371\u001b[0m \u001b[38;5;250m    \u001b[39m\u001b[38;5;124;03m\"\"\"\u001b[39;00m\n\u001b[1;32m    372\u001b[0m \u001b[38;5;124;03m    Like an int (including magic methods), but redirects all operations on the\u001b[39;00m\n\u001b[1;32m    373\u001b[0m \u001b[38;5;124;03m    wrapped node. This is used in particular to symbolically record operations\u001b[39;00m\n\u001b[1;32m    374\u001b[0m \u001b[38;5;124;03m    in the symbolic shape workflow.\u001b[39;00m\n\u001b[1;32m    375\u001b[0m \u001b[38;5;124;03m    \"\"\"\u001b[39;00m\n",
      "\u001b[0;31mImportError\u001b[0m: /home/os-sunnie.gd.weng/.local/lib/python3.10/site-packages/torch/lib/libcusparseLt-294d6944.so.0: cannot read file data"
     ]
    }
   ],
   "source": [
    "# Imports\n",
    "from vllm import LLM, SamplingParams\n",
    "import vllm\n",
    "import torch\n",
    "import time\n",
    "import numpy as np\n",
    "import matplotlib.pyplot as plt\n",
    "from typing import List\n",
    "\n",
    "print(f\"PyTorch: {torch.__version__}\")\n",
    "print(f\"vLLM: {vllm.__version__}\")\n",
    "print(f\"CUDA available: {torch.cuda.is_available()}\")"
   ]
  },
  {
   "cell_type": "markdown",
   "metadata": {},
   "source": [
    "### Load Llama-2-7B Model\n",
    "\n",
    "We'll use a 7B model for more realistic benchmarks.\n",
    "\n",
    "**Note**: This requires ~16GB GPU memory. If you don't have enough, use a smaller model like `facebook/opt-1.3b`."
   ]
  },
  {
   "cell_type": "code",
   "execution_count": 2,
   "metadata": {},
   "outputs": [
    {
     "name": "stdout",
     "output_type": "stream",
     "text": [
      "Loading facebook/opt-1.3b...\n"
     ]
    },
    {
     "name": "stderr",
     "output_type": "stream",
     "text": [
      "`torch_dtype` is deprecated! Use `dtype` instead!\n"
     ]
    },
    {
     "name": "stdout",
     "output_type": "stream",
     "text": [
      "INFO 10-15 14:45:30 [config.py:717] This model supports multiple tasks: {'embed', 'generate', 'classify', 'reward', 'score'}. Defaulting to 'generate'.\n",
      "INFO 10-15 14:45:30 [config.py:2003] Chunked prefill is enabled with max_num_batched_tokens=8192.\n",
      "INFO 10-15 14:45:31 [core.py:58] Initializing a V1 LLM engine (v0.8.5.post1) with config: model='facebook/opt-1.3b', speculative_config=None, tokenizer='facebook/opt-1.3b', skip_tokenizer_init=False, tokenizer_mode=auto, revision=None, override_neuron_config=None, tokenizer_revision=None, trust_remote_code=True, dtype=torch.float16, max_seq_len=1024, download_dir=None, load_format=auto, tensor_parallel_size=1, pipeline_parallel_size=1, disable_custom_all_reduce=False, quantization=None, enforce_eager=False, kv_cache_dtype=auto,  device_config=cuda, decoding_config=DecodingConfig(guided_decoding_backend='auto', reasoning_backend=None), observability_config=ObservabilityConfig(show_hidden_metrics=False, otlp_traces_endpoint=None, collect_model_forward_time=False, collect_model_execute_time=False), seed=None, served_model_name=facebook/opt-1.3b, num_scheduler_steps=1, multi_step_stream_outputs=True, enable_prefix_caching=True, chunked_prefill_enabled=True, use_async_output_proc=True, disable_mm_preprocessor_cache=False, mm_processor_kwargs=None, pooler_config=None, compilation_config={\"level\":3,\"custom_ops\":[\"none\"],\"splitting_ops\":[\"vllm.unified_attention\",\"vllm.unified_attention_with_output\"],\"use_inductor\":true,\"compile_sizes\":[],\"use_cudagraph\":true,\"cudagraph_num_of_warmups\":1,\"cudagraph_capture_sizes\":[512,504,496,488,480,472,464,456,448,440,432,424,416,408,400,392,384,376,368,360,352,344,336,328,320,312,304,296,288,280,272,264,256,248,240,232,224,216,208,200,192,184,176,168,160,152,144,136,128,120,112,104,96,88,80,72,64,56,48,40,32,24,16,8,4,2,1],\"max_capture_size\":512}\n",
      "WARNING 10-15 14:45:32 [utils.py:2522] Methods determine_num_available_blocks,device_config,get_cache_block_size_bytes,initialize_cache not implemented in <vllm.v1.worker.gpu_worker.Worker object at 0x714bd7804b50>\n",
      "INFO 10-15 14:45:32 [parallel_state.py:1004] rank 0 in world size 1 is assigned as DP rank 0, PP rank 0, TP rank 0\n",
      "INFO 10-15 14:45:32 [cuda.py:221] Using Flash Attention backend on V1 engine.\n",
      "WARNING 10-15 14:45:32 [topk_topp_sampler.py:69] FlashInfer is not available. Falling back to the PyTorch-native implementation of top-p & top-k sampling. For the best performance, please install FlashInfer.\n",
      "INFO 10-15 14:45:32 [gpu_model_runner.py:1329] Starting to load model facebook/opt-1.3b...\n",
      "INFO 10-15 14:45:33 [weight_utils.py:265] Using model weights format ['*.bin']\n"
     ]
    },
    {
     "data": {
      "application/vnd.jupyter.widget-view+json": {
       "model_id": "5bd48a65f5f240778cbe0bdd28c2bc19",
       "version_major": 2,
       "version_minor": 0
      },
      "text/plain": [
       "Loading pt checkpoint shards:   0% Completed | 0/1 [00:00<?, ?it/s]\n"
      ]
     },
     "metadata": {},
     "output_type": "display_data"
    },
    {
     "name": "stdout",
     "output_type": "stream",
     "text": [
      "INFO 10-15 14:45:35 [loader.py:458] Loading weights took 1.32 seconds\n",
      "INFO 10-15 14:45:35 [gpu_model_runner.py:1347] Model loading took 2.4510 GiB and 2.505463 seconds\n",
      "INFO 10-15 14:45:41 [backends.py:420] Using cache directory: /home/os-sunnie.gd.weng/.cache/vllm/torch_compile_cache/95a1b63690/rank_0_0 for vLLM's torch.compile\n",
      "INFO 10-15 14:45:41 [backends.py:430] Dynamo bytecode transform time: 5.72 s\n",
      "INFO 10-15 14:45:44 [backends.py:118] Directly load the compiled graph(s) for shape None from the cache, took 2.548 s\n",
      "INFO 10-15 14:45:44 [monitor.py:33] torch.compile takes 5.72 s in total\n",
      "INFO 10-15 14:45:45 [kv_cache_utils.py:634] GPU KV cache size: 30,816 tokens\n",
      "INFO 10-15 14:45:45 [kv_cache_utils.py:637] Maximum concurrency for 1,024 tokens per request: 30.09x\n",
      "INFO 10-15 14:46:04 [gpu_model_runner.py:1686] Graph capturing finished in 19 secs, took 0.34 GiB\n",
      "INFO 10-15 14:46:04 [core.py:159] init engine (profile, create kv cache, warmup model) took 29.00 seconds\n",
      "INFO 10-15 14:46:04 [core_client.py:439] Core engine process 0 ready.\n",
      "✅ Model loaded in 42.81 seconds\n"
     ]
    }
   ],
   "source": [
    "# Configuration\n",
    "# MODEL_NAME = \"TheBloke/Llama-2-7B-GPTQ\"  # Change if needed\n",
    "MODEL_NAME = \"facebook/opt-1.3b\"  # Alternative for smaller GPUs\n",
    "\n",
    "print(f\"Loading {MODEL_NAME}...\")\n",
    "start_time = time.time()\n",
    "\n",
    "llm = LLM(\n",
    "    model=MODEL_NAME,\n",
    "    tensor_parallel_size=1,      # Single GPU\n",
    "    gpu_memory_utilization=0.9,  # Use 90% of GPU memory\n",
    "    max_model_len=1024,          # Context length\n",
    "    trust_remote_code=True,\n",
    ")\n",
    "\n",
    "load_time = time.time() - start_time\n",
    "print(f\"✅ Model loaded in {load_time:.2f} seconds\")"
   ]
  },
  {
   "cell_type": "code",
   "execution_count": 3,
   "metadata": {},
   "outputs": [
    {
     "name": "stdout",
     "output_type": "stream",
     "text": [
      "\n",
      "GPU Memory Usage:\n",
      "  Model size:  0.00 GB\n",
      "  Reserved:    0.00 GB\n",
      "  Available:   16.71 GB\n",
      "  Total:       16.71 GB\n",
      "  Utilization: 0.0%\n"
     ]
    }
   ],
   "source": [
    "# Check GPU memory after loading\n",
    "if torch.cuda.is_available():\n",
    "    allocated = torch.cuda.memory_allocated(0) / 1e9\n",
    "    reserved = torch.cuda.memory_reserved(0) / 1e9\n",
    "    total = torch.cuda.get_device_properties(0).total_memory / 1e9\n",
    "    \n",
    "    print(f\"\\nGPU Memory Usage:\")\n",
    "    print(f\"  Model size:  {allocated:.2f} GB\")\n",
    "    print(f\"  Reserved:    {reserved:.2f} GB\")\n",
    "    print(f\"  Available:   {total - reserved:.2f} GB\")\n",
    "    print(f\"  Total:       {total:.2f} GB\")\n",
    "    print(f\"  Utilization: {reserved/total*100:.1f}%\")"
   ]
  },
  {
   "cell_type": "markdown",
   "metadata": {},
   "source": [
    "---\n",
    "## 2. Single Request Inference"
   ]
  },
  {
   "cell_type": "code",
   "execution_count": 4,
   "metadata": {},
   "outputs": [
    {
     "name": "stdout",
     "output_type": "stream",
     "text": [
      "Generating...\n"
     ]
    },
    {
     "data": {
      "application/vnd.jupyter.widget-view+json": {
       "model_id": "495140f8da114fab842adbb83cbead8a",
       "version_major": 2,
       "version_minor": 0
      },
      "text/plain": [
       "Processed prompts:   0%|          | 0/1 [00:00<?, ?it/s, est. speed input: 0.00 toks/s, output: 0.00 toks/s]"
      ]
     },
     "metadata": {},
     "output_type": "display_data"
    },
    {
     "name": "stdout",
     "output_type": "stream",
     "text": [
      "\n",
      "Prompt: Explain the concept of machine learning in simple terms:\n",
      "Generated:  You watch a bunch of videos, and then create a program that predicts if the video is new or old, based on the data.\n",
      "\n",
      "⏱️  Time: 0.41s\n",
      "📊 Tokens: 29\n",
      "⚡ Throughput: 70.0 tokens/s\n"
     ]
    }
   ],
   "source": [
    "# Define sampling parameters\n",
    "sampling_params = SamplingParams(\n",
    "    temperature=0.8,\n",
    "    top_p=0.95,\n",
    "    max_tokens=2000,\n",
    "    stop=[\"\\n\\n\"],  # Stop at double newline\n",
    ")\n",
    "\n",
    "# Single prompt\n",
    "prompt = \"Explain the concept of machine learning in simple terms:\"\n",
    "\n",
    "print(\"Generating...\")\n",
    "start_time = time.time()\n",
    "\n",
    "outputs = llm.generate([prompt], sampling_params)\n",
    "\n",
    "inference_time = time.time() - start_time\n",
    "\n",
    "# Display result\n",
    "generated_text = outputs[0].outputs[0].text\n",
    "num_tokens = len(outputs[0].outputs[0].token_ids)\n",
    "\n",
    "print(f\"\\nPrompt: {prompt}\")\n",
    "print(f\"Generated: {generated_text}\")\n",
    "print(f\"\\n⏱️  Time: {inference_time:.2f}s\")\n",
    "print(f\"📊 Tokens: {num_tokens}\")\n",
    "print(f\"⚡ Throughput: {num_tokens/inference_time:.1f} tokens/s\")"
   ]
  },
  {
   "cell_type": "markdown",
   "metadata": {},
   "source": [
    "---\n",
    "## 3. Batch Inference\n",
    "\n",
    "vLLM excels at batch processing with dynamic batching."
   ]
  },
  {
   "cell_type": "code",
   "execution_count": 5,
   "metadata": {},
   "outputs": [
    {
     "name": "stdout",
     "output_type": "stream",
     "text": [
      "Processing 8 prompts...\n"
     ]
    },
    {
     "data": {
      "application/vnd.jupyter.widget-view+json": {
       "model_id": "18e255acc7844bd6b4430b0997de9e1b",
       "version_major": 2,
       "version_minor": 0
      },
      "text/plain": [
       "Processed prompts:   0%|          | 0/8 [00:00<?, ?it/s, est. speed input: 0.00 toks/s, output: 0.00 toks/s]"
      ]
     },
     "metadata": {},
     "output_type": "display_data"
    },
    {
     "name": "stdout",
     "output_type": "stream",
     "text": [
      "\n",
      "✅ Batch processing complete!\n",
      "⏱️  Total time: 3.42s\n",
      "⏱️  Time per prompt: 0.43s\n",
      "📊 Total tokens: 317\n",
      "📊 Avg tokens/prompt: 39.6\n",
      "⚡ Throughput: 92.8 tokens/s\n"
     ]
    }
   ],
   "source": [
    "# Create multiple prompts\n",
    "prompts = [\n",
    "    \"What is Python programming language?\",\n",
    "    \"Explain quantum computing in simple terms:\",\n",
    "    \"What are the benefits of electric vehicles?\",\n",
    "    \"How does blockchain technology work?\",\n",
    "    \"What is the difference between AI and machine learning?\",\n",
    "    \"Explain the concept of cloud computing:\",\n",
    "    \"What is the purpose of cryptocurrency?\",\n",
    "    \"How do neural networks learn?\",\n",
    "]\n",
    "\n",
    "print(f\"Processing {len(prompts)} prompts...\")\n",
    "start_time = time.time()\n",
    "\n",
    "outputs = llm.generate(prompts, sampling_params)\n",
    "\n",
    "batch_time = time.time() - start_time\n",
    "\n",
    "# Analyze results\n",
    "total_tokens = sum(len(o.outputs[0].token_ids) for o in outputs)\n",
    "avg_tokens = total_tokens / len(outputs)\n",
    "\n",
    "print(f\"\\n✅ Batch processing complete!\")\n",
    "print(f\"⏱️  Total time: {batch_time:.2f}s\")\n",
    "print(f\"⏱️  Time per prompt: {batch_time/len(prompts):.2f}s\")\n",
    "print(f\"📊 Total tokens: {total_tokens}\")\n",
    "print(f\"📊 Avg tokens/prompt: {avg_tokens:.1f}\")\n",
    "print(f\"⚡ Throughput: {total_tokens/batch_time:.1f} tokens/s\")"
   ]
  },
  {
   "cell_type": "code",
   "execution_count": 6,
   "metadata": {},
   "outputs": [
    {
     "name": "stdout",
     "output_type": "stream",
     "text": [
      "\n",
      "================================================================================\n",
      "SAMPLE OUTPUTS\n",
      "================================================================================\n",
      "\n",
      "[1] Prompt: What is Python programming language?\n",
      "    Output: ...\n",
      "    Tokens: 2\n",
      "\n",
      "[2] Prompt: Explain quantum computing in simple terms:\n",
      "    Output:  a computer that can run a procedure millions of times faster than a human can....\n",
      "    Tokens: 18\n",
      "\n",
      "[3] Prompt: What are the benefits of electric vehicles?\n",
      "    Output: ...\n",
      "    Tokens: 2\n"
     ]
    }
   ],
   "source": [
    "# Display sample outputs\n",
    "print(\"\\n\" + \"=\"*80)\n",
    "print(\"SAMPLE OUTPUTS\")\n",
    "print(\"=\"*80)\n",
    "\n",
    "for i, output in enumerate(outputs[:3]):  # Show first 3\n",
    "    print(f\"\\n[{i+1}] Prompt: {output.prompt}\")\n",
    "    print(f\"    Output: {output.outputs[0].text[:150]}...\")\n",
    "    print(f\"    Tokens: {len(output.outputs[0].token_ids)}\")"
   ]
  },
  {
   "cell_type": "markdown",
   "metadata": {},
   "source": [
    "---\n",
    "## 4. Performance Comparison: Batch vs Sequential"
   ]
  },
  {
   "cell_type": "code",
   "execution_count": 7,
   "metadata": {},
   "outputs": [
    {
     "name": "stdout",
     "output_type": "stream",
     "text": [
      "Testing sequential processing...\n"
     ]
    },
    {
     "data": {
      "application/vnd.jupyter.widget-view+json": {
       "model_id": "a671a7789a0e43f7840fbcfc596ddb39",
       "version_major": 2,
       "version_minor": 0
      },
      "text/plain": [
       "Processed prompts:   0%|          | 0/1 [00:00<?, ?it/s, est. speed input: 0.00 toks/s, output: 0.00 toks/s]"
      ]
     },
     "metadata": {},
     "output_type": "display_data"
    },
    {
     "data": {
      "application/vnd.jupyter.widget-view+json": {
       "model_id": "0734867395384001bfab12d133e04a32",
       "version_major": 2,
       "version_minor": 0
      },
      "text/plain": [
       "Processed prompts:   0%|          | 0/1 [00:00<?, ?it/s, est. speed input: 0.00 toks/s, output: 0.00 toks/s]"
      ]
     },
     "metadata": {},
     "output_type": "display_data"
    },
    {
     "data": {
      "application/vnd.jupyter.widget-view+json": {
       "model_id": "ccfb8d7c3b734b90b83bd622099f65b6",
       "version_major": 2,
       "version_minor": 0
      },
      "text/plain": [
       "Processed prompts:   0%|          | 0/1 [00:00<?, ?it/s, est. speed input: 0.00 toks/s, output: 0.00 toks/s]"
      ]
     },
     "metadata": {},
     "output_type": "display_data"
    },
    {
     "data": {
      "application/vnd.jupyter.widget-view+json": {
       "model_id": "d63a5a6587b44084b7ce96a3cb50fce3",
       "version_major": 2,
       "version_minor": 0
      },
      "text/plain": [
       "Processed prompts:   0%|          | 0/1 [00:00<?, ?it/s, est. speed input: 0.00 toks/s, output: 0.00 toks/s]"
      ]
     },
     "metadata": {},
     "output_type": "display_data"
    },
    {
     "name": "stdout",
     "output_type": "stream",
     "text": [
      "Sequential total time: 0.39s\n"
     ]
    }
   ],
   "source": [
    "# Sequential processing (for comparison)\n",
    "print(\"Testing sequential processing...\")\n",
    "sequential_times = []\n",
    "\n",
    "for prompt in prompts[:4]:  # Test with 4 prompts\n",
    "    start = time.time()\n",
    "    _ = llm.generate([prompt], sampling_params)\n",
    "    sequential_times.append(time.time() - start)\n",
    "\n",
    "sequential_total = sum(sequential_times)\n",
    "print(f\"Sequential total time: {sequential_total:.2f}s\")"
   ]
  },
  {
   "cell_type": "code",
   "execution_count": 8,
   "metadata": {},
   "outputs": [
    {
     "name": "stdout",
     "output_type": "stream",
     "text": [
      "\n",
      "Testing batch processing...\n"
     ]
    },
    {
     "data": {
      "application/vnd.jupyter.widget-view+json": {
       "model_id": "1c69df0b100e471399e587fe89e1f2fd",
       "version_major": 2,
       "version_minor": 0
      },
      "text/plain": [
       "Processed prompts:   0%|          | 0/4 [00:00<?, ?it/s, est. speed input: 0.00 toks/s, output: 0.00 toks/s]"
      ]
     },
     "metadata": {},
     "output_type": "display_data"
    },
    {
     "name": "stdout",
     "output_type": "stream",
     "text": [
      "Batch total time: 8.02s\n"
     ]
    }
   ],
   "source": [
    "# Batch processing (same prompts)\n",
    "print(\"\\nTesting batch processing...\")\n",
    "start = time.time()\n",
    "_ = llm.generate(prompts[:4], sampling_params)\n",
    "batch_total = time.time() - start\n",
    "print(f\"Batch total time: {batch_total:.2f}s\")"
   ]
  },
  {
   "cell_type": "code",
   "execution_count": 9,
   "metadata": {},
   "outputs": [
    {
     "name": "stdout",
     "output_type": "stream",
     "text": [
      "\n",
      "================================================================================\n",
      "BATCH vs SEQUENTIAL COMPARISON\n",
      "================================================================================\n",
      "Sequential:  0.39s\n",
      "Batch:       8.02s\n",
      "Speedup:     0.05x faster ⚡\n",
      "================================================================================\n"
     ]
    },
    {
     "data": {
      "image/png": "[encoded data removed]",
      "text/plain": [
       "<Figure size 800x500 with 1 Axes>"
      ]
     },
     "metadata": {},
     "output_type": "display_data"
    }
   ],
   "source": [
    "# Comparison\n",
    "speedup = sequential_total / batch_total\n",
    "\n",
    "print(\"\\n\" + \"=\"*80)\n",
    "print(\"BATCH vs SEQUENTIAL COMPARISON\")\n",
    "print(\"=\"*80)\n",
    "print(f\"Sequential:  {sequential_total:.2f}s\")\n",
    "print(f\"Batch:       {batch_total:.2f}s\")\n",
    "print(f\"Speedup:     {speedup:.2f}x faster ⚡\")\n",
    "print(\"=\"*80)\n",
    "\n",
    "# Visualize\n",
    "fig, ax = plt.subplots(figsize=(8, 5))\n",
    "methods = ['Sequential', 'Batch']\n",
    "times = [sequential_total, batch_total]\n",
    "colors = ['#ff6b6b', '#51cf66']\n",
    "\n",
    "bars = ax.bar(methods, times, color=colors)\n",
    "ax.set_ylabel('Time (seconds)')\n",
    "ax.set_title('Sequential vs Batch Processing (4 prompts)')\n",
    "ax.set_ylim(0, max(times) * 1.2)\n",
    "\n",
    "for i, (bar, t) in enumerate(zip(bars, times)):\n",
    "    ax.text(bar.get_x() + bar.get_width()/2, bar.get_height() + 0.1,\n",
    "            f'{t:.2f}s', ha='center', fontweight='bold')\n",
    "\n",
    "plt.tight_layout()\n",
    "plt.show()"
   ]
  },
  {
   "cell_type": "markdown",
   "metadata": {},
   "source": [
    "---\n",
    "## 5. Throughput Scaling Test\n",
    "\n",
    "Test how throughput scales with batch size."
   ]
  },
  {
   "cell_type": "code",
   "execution_count": 10,
   "metadata": {},
   "outputs": [
    {
     "name": "stdout",
     "output_type": "stream",
     "text": [
      "Testing throughput scaling...\n",
      "\n"
     ]
    },
    {
     "data": {
      "application/vnd.jupyter.widget-view+json": {
       "model_id": "8bc06cbe66234b998f5a12721746e08b",
       "version_major": 2,
       "version_minor": 0
      },
      "text/plain": [
       "Processed prompts:   0%|          | 0/1 [00:00<?, ?it/s, est. speed input: 0.00 toks/s, output: 0.00 toks/s]"
      ]
     },
     "metadata": {},
     "output_type": "display_data"
    },
    {
     "name": "stdout",
     "output_type": "stream",
     "text": [
      "Batch  1:   72.5 tokens/s\n"
     ]
    },
    {
     "data": {
      "application/vnd.jupyter.widget-view+json": {
       "model_id": "b507e678f0ff4acea3af5ddf8bc3c331",
       "version_major": 2,
       "version_minor": 0
      },
      "text/plain": [
       "Processed prompts:   0%|          | 0/2 [00:00<?, ?it/s, est. speed input: 0.00 toks/s, output: 0.00 toks/s]"
      ]
     },
     "metadata": {},
     "output_type": "display_data"
    },
    {
     "name": "stdout",
     "output_type": "stream",
     "text": [
      "Batch  2:  139.8 tokens/s\n"
     ]
    },
    {
     "data": {
      "application/vnd.jupyter.widget-view+json": {
       "model_id": "02fa74a4ae4c4cf08e051a7426b83730",
       "version_major": 2,
       "version_minor": 0
      },
      "text/plain": [
       "Processed prompts:   0%|          | 0/4 [00:00<?, ?it/s, est. speed input: 0.00 toks/s, output: 0.00 toks/s]"
      ]
     },
     "metadata": {},
     "output_type": "display_data"
    },
    {
     "name": "stdout",
     "output_type": "stream",
     "text": [
      "Batch  4:  217.4 tokens/s\n"
     ]
    },
    {
     "data": {
      "application/vnd.jupyter.widget-view+json": {
       "model_id": "e0b78f73e50b4b56aa24d165a553e742",
       "version_major": 2,
       "version_minor": 0
      },
      "text/plain": [
       "Processed prompts:   0%|          | 0/8 [00:00<?, ?it/s, est. speed input: 0.00 toks/s, output: 0.00 toks/s]"
      ]
     },
     "metadata": {},
     "output_type": "display_data"
    },
    {
     "name": "stdout",
     "output_type": "stream",
     "text": [
      "Batch  8:  507.7 tokens/s\n"
     ]
    },
    {
     "data": {
      "application/vnd.jupyter.widget-view+json": {
       "model_id": "762c2cfe3bed44cdaf83e4fd0bfca4ec",
       "version_major": 2,
       "version_minor": 0
      },
      "text/plain": [
       "Processed prompts:   0%|          | 0/16 [00:00<?, ?it/s, est. speed input: 0.00 toks/s, output: 0.00 toks/s]"
      ]
     },
     "metadata": {},
     "output_type": "display_data"
    },
    {
     "name": "stdout",
     "output_type": "stream",
     "text": [
      "Batch 16:  802.9 tokens/s\n"
     ]
    },
    {
     "data": {
      "application/vnd.jupyter.widget-view+json": {
       "model_id": "183b16ab657f4f28b215509412a9b245",
       "version_major": 2,
       "version_minor": 0
      },
      "text/plain": [
       "Processed prompts:   0%|          | 0/32 [00:00<?, ?it/s, est. speed input: 0.00 toks/s, output: 0.00 toks/s]"
      ]
     },
     "metadata": {},
     "output_type": "display_data"
    },
    {
     "name": "stdout",
     "output_type": "stream",
     "text": [
      "Batch 32: 1522.5 tokens/s\n",
      "\n",
      "✅ Throughput scaling test complete!\n"
     ]
    }
   ],
   "source": [
    "# Generate test prompts\n",
    "test_prompts = [\n",
    "    f\"Write a short story about topic {i}: \"\n",
    "    for i in range(32)\n",
    "]\n",
    "\n",
    "# Shorter generation for faster testing\n",
    "test_params = SamplingParams(\n",
    "    temperature=0.8,\n",
    "    max_tokens=50,\n",
    ")\n",
    "\n",
    "# Test different batch sizes\n",
    "batch_sizes = [1, 2, 4, 8, 16, 32]\n",
    "throughputs = []\n",
    "\n",
    "print(\"Testing throughput scaling...\\n\")\n",
    "\n",
    "for batch_size in batch_sizes:\n",
    "    prompts_subset = test_prompts[:batch_size]\n",
    "    \n",
    "    start = time.time()\n",
    "    outputs = llm.generate(prompts_subset, test_params)\n",
    "    elapsed = time.time() - start\n",
    "    \n",
    "    total_tokens = sum(len(o.outputs[0].token_ids) for o in outputs)\n",
    "    throughput = total_tokens / elapsed\n",
    "    throughputs.append(throughput)\n",
    "    \n",
    "    print(f\"Batch {batch_size:2d}: {throughput:6.1f} tokens/s\")\n",
    "\n",
    "print(\"\\n✅ Throughput scaling test complete!\")"
   ]
  },
  {
   "cell_type": "code",
   "execution_count": 11,
   "metadata": {},
   "outputs": [
    {
     "data": {
      "image/png": "[encoded data removed]",
      "text/plain": [
       "<Figure size 1000x600 with 1 Axes>"
      ]
     },
     "metadata": {},
     "output_type": "display_data"
    },
    {
     "name": "stdout",
     "output_type": "stream",
     "text": [
      "\n",
      "📊 Throughput increased from 72 to 1522 tokens/s\n",
      "📊 Scaling factor: 21.0x\n"
     ]
    }
   ],
   "source": [
    "# Visualize throughput scaling\n",
    "fig, ax = plt.subplots(figsize=(10, 6))\n",
    "\n",
    "ax.plot(batch_sizes, throughputs, marker='o', linewidth=2, markersize=8)\n",
    "ax.set_xlabel('Batch Size')\n",
    "ax.set_ylabel('Throughput (tokens/s)')\n",
    "ax.set_title('vLLM Throughput Scaling')\n",
    "ax.grid(True, alpha=0.3)\n",
    "ax.set_xscale('log', base=2)\n",
    "\n",
    "# Annotate points\n",
    "for bs, tp in zip(batch_sizes, throughputs):\n",
    "    ax.annotate(f'{tp:.0f}', xy=(bs, tp), \n",
    "                textcoords=\"offset points\", xytext=(0,10), ha='center')\n",
    "\n",
    "plt.tight_layout()\n",
    "plt.show()\n",
    "\n",
    "print(f\"\\n📊 Throughput increased from {throughputs[0]:.0f} to {throughputs[-1]:.0f} tokens/s\")\n",
    "print(f\"📊 Scaling factor: {throughputs[-1]/throughputs[0]:.1f}x\")"
   ]
  },
  {
   "cell_type": "markdown",
   "metadata": {},
   "source": [
    "---\n",
    "## 6. Memory Profiling\n",
    "\n",
    "Analyze KV cache memory usage."
   ]
  },
  {
   "cell_type": "code",
   "execution_count": 12,
   "metadata": {},
   "outputs": [
    {
     "name": "stdout",
     "output_type": "stream",
     "text": [
      "KV Cache Size Estimation (Llama-2-7B):\n",
      "\n",
      "  Batch  1:  1.00 GB\n",
      "  Batch  4:  4.00 GB\n",
      "  Batch  8:  8.00 GB\n",
      "  Batch 16: 16.00 GB\n",
      "  Batch 32: 32.00 GB\n"
     ]
    }
   ],
   "source": [
    "# Calculate theoretical KV cache size\n",
    "def estimate_kv_cache_size(\n",
    "    num_layers=32,\n",
    "    num_heads=32,\n",
    "    head_dim=128,\n",
    "    batch_size=1,\n",
    "    seq_len=2048,\n",
    "    precision=2,  # FP16 = 2 bytes\n",
    "):\n",
    "    \"\"\"\n",
    "    KV Cache size = 2 (K+V) * batch * layers * heads * seq_len * head_dim * precision\n",
    "    \"\"\"\n",
    "    size_bytes = (\n",
    "        2 * batch_size * num_layers * num_heads * seq_len * head_dim * precision\n",
    "    )\n",
    "    size_gb = size_bytes / (1024 ** 3)\n",
    "    return size_gb\n",
    "\n",
    "# 為什麼要乘以 2？\n",
    "# 在計算 KV (Key-Value) cache 的總內存需求時，需要同時計算 Key 和 Value 兩種張量。\n",
    "# 每一個 token 在每一層、每個 head 都會有一份 Key 與一份 Value，兩者的儲存結構與大小完全相同。\n",
    "# 因此，總記憶體需求應為 Key 部分加上 Value 部分，即 2 倍單項（K 或 V）的容量。\n",
    "\n",
    "# For Llama-2-7B\n",
    "print(\"KV Cache Size Estimation (Llama-2-7B):\")\n",
    "print()\n",
    "\n",
    "for batch_size in [1, 4, 8, 16, 32]:\n",
    "    cache_size = estimate_kv_cache_size(\n",
    "        num_layers=32,\n",
    "        num_heads=32,\n",
    "        head_dim=128,\n",
    "        batch_size=batch_size,\n",
    "        seq_len=2048,\n",
    "    )\n",
    "    print(f\"  Batch {batch_size:2d}: {cache_size:5.2f} GB\")"
   ]
  },
  {
   "cell_type": "code",
   "execution_count": 13,
   "metadata": {},
   "outputs": [
    {
     "name": "stdout",
     "output_type": "stream",
     "text": [
      "Measuring GPU memory usage...\n",
      "\n"
     ]
    },
    {
     "data": {
      "application/vnd.jupyter.widget-view+json": {
       "model_id": "c60296a6cc7f4e9c8bbb054a84be0575",
       "version_major": 2,
       "version_minor": 0
      },
      "text/plain": [
       "Processed prompts:   0%|          | 0/4 [00:00<?, ?it/s, est. speed input: 0.00 toks/s, output: 0.00 toks/s]"
      ]
     },
     "metadata": {},
     "output_type": "display_data"
    },
    {
     "name": "stdout",
     "output_type": "stream",
     "text": [
      "Batch  1: Peak memory = 0.00 GB\n"
     ]
    },
    {
     "data": {
      "application/vnd.jupyter.widget-view+json": {
       "model_id": "58900581faaf48a698c7e56bc2dc4ac7",
       "version_major": 2,
       "version_minor": 0
      },
      "text/plain": [
       "Processed prompts:   0%|          | 0/4 [00:00<?, ?it/s, est. speed input: 0.00 toks/s, output: 0.00 toks/s]"
      ]
     },
     "metadata": {},
     "output_type": "display_data"
    },
    {
     "name": "stdout",
     "output_type": "stream",
     "text": [
      "Batch  4: Peak memory = 0.00 GB\n"
     ]
    },
    {
     "data": {
      "application/vnd.jupyter.widget-view+json": {
       "model_id": "bd74e730ce364874ae2ed8677eac1951",
       "version_major": 2,
       "version_minor": 0
      },
      "text/plain": [
       "Processed prompts:   0%|          | 0/4 [00:00<?, ?it/s, est. speed input: 0.00 toks/s, output: 0.00 toks/s]"
      ]
     },
     "metadata": {},
     "output_type": "display_data"
    },
    {
     "name": "stdout",
     "output_type": "stream",
     "text": [
      "Batch  8: Peak memory = 0.00 GB\n"
     ]
    },
    {
     "data": {
      "application/vnd.jupyter.widget-view+json": {
       "model_id": "fd889986ce8f4eb0aa6c88316d77f91e",
       "version_major": 2,
       "version_minor": 0
      },
      "text/plain": [
       "Processed prompts:   0%|          | 0/4 [00:00<?, ?it/s, est. speed input: 0.00 toks/s, output: 0.00 toks/s]"
      ]
     },
     "metadata": {},
     "output_type": "display_data"
    },
    {
     "name": "stdout",
     "output_type": "stream",
     "text": [
      "Batch 16: Peak memory = 0.00 GB\n",
      "\n",
      "✅ Memory profiling complete!\n"
     ]
    }
   ],
   "source": [
    "# Monitor actual GPU memory during inference\n",
    "import gc\n",
    "\n",
    "def measure_memory_usage(batch_size):\n",
    "    \"\"\"Measure GPU memory before and after inference\"\"\"\n",
    "    torch.cuda.reset_peak_memory_stats()\n",
    "    \n",
    "    # Before inference\n",
    "    torch.cuda.synchronize()\n",
    "    mem_before = torch.cuda.memory_allocated(0) / 1e9\n",
    "    \n",
    "    # Inference\n",
    "    test_prompts = [\n",
    "    \"The future of AI is\",\n",
    "    \"Machine learning enables\",\n",
    "    \"Deep learning networks\",\n",
    "    \"Natural language processing\",\n",
    "    ]\n",
    "\n",
    "    outputs = llm.generate(test_prompts, test_params)\n",
    "    # print(outputs)\n",
    "    \n",
    "    # After inference\n",
    "    torch.cuda.synchronize()\n",
    "    mem_after = torch.cuda.memory_allocated(0) / 1e9\n",
    "    mem_peak = torch.cuda.max_memory_allocated(0) / 1e9\n",
    "    \n",
    "    return {\n",
    "        'before': mem_before,\n",
    "        'after': mem_after,\n",
    "        'peak': mem_peak,\n",
    "        'used': mem_after - mem_before,\n",
    "    }\n",
    "\n",
    "print(\"Measuring GPU memory usage...\\n\")\n",
    "\n",
    "memory_stats = []\n",
    "test_batch_sizes = [1, 4, 8, 16]\n",
    "\n",
    "for bs in test_batch_sizes:\n",
    "    stats = measure_memory_usage(bs)\n",
    "    memory_stats.append(stats)\n",
    "    print(f\"Batch {bs:2d}: Peak memory = {stats['peak']:.2f} GB\")\n",
    "\n",
    "print(\"\\n✅ Memory profiling complete!\")"
   ]
  },
  {
   "cell_type": "code",
   "execution_count": 14,
   "metadata": {},
   "outputs": [
    {
     "data": {
      "image/png": "[encoded data removed]",
      "text/plain": [
       "<Figure size 1000x600 with 1 Axes>"
      ]
     },
     "metadata": {},
     "output_type": "display_data"
    }
   ],
   "source": [
    "# Visualize memory usage\n",
    "fig, ax = plt.subplots(figsize=(10, 6))\n",
    "\n",
    "peak_mems = [s['peak'] for s in memory_stats]\n",
    "\n",
    "ax.plot(test_batch_sizes, peak_mems, marker='o', linewidth=2, markersize=8, color='#ff6b6b')\n",
    "ax.set_xlabel('Batch Size')\n",
    "ax.set_ylabel('Peak GPU Memory (GB)')\n",
    "ax.set_title('GPU Memory Usage vs Batch Size')\n",
    "ax.grid(True, alpha=0.3)\n",
    "\n",
    "for bs, mem in zip(test_batch_sizes, peak_mems):\n",
    "    ax.annotate(f'{mem:.2f} GB', xy=(bs, mem), \n",
    "                textcoords=\"offset points\", xytext=(0,10), ha='center')\n",
    "\n",
    "plt.tight_layout()\n",
    "plt.show()"
   ]
  },
  {
   "cell_type": "markdown",
   "metadata": {},
   "source": [
    "---\n",
    "## 7. Compare with HuggingFace (Batch)\n",
    "\n",
    "Let's compare batch inference performance with HuggingFace."
   ]
  },
  {
   "cell_type": "code",
   "execution_count": 15,
   "metadata": {},
   "outputs": [
    {
     "name": "stdout",
     "output_type": "stream",
     "text": [
      "Loading HuggingFace facebook/opt-1.3b...\n"
     ]
    },
    {
     "ename": "OutOfMemoryError",
     "evalue": "CUDA out of memory. Tried to allocate 64.00 MiB. GPU 0 has a total capacity of 15.57 GiB of which 64.38 MiB is free. Process 536906 has 2.68 GiB memory in use. Process 3344502 has 130.00 MiB memory in use. Process 4130159 has 2.18 GiB memory in use. Process 766315 has 9.13 GiB memory in use. Including non-PyTorch memory, this process has 1.11 GiB memory in use. Of the allocated memory 1.02 GiB is allocated by PyTorch, and 4.87 MiB is reserved by PyTorch but unallocated. If reserved but unallocated memory is large try setting PYTORCH_CUDA_ALLOC_CONF=expandable_segments:True to avoid fragmentation.  See documentation for Memory Management  (https://pytorch.org/docs/stable/notes/cuda.html#environment-variables)",
     "output_type": "error",
     "traceback": [
      "\u001b[0;31m---------------------------------------------------------------------------\u001b[0m",
      "\u001b[0;31mOutOfMemoryError\u001b[0m                          Traceback (most recent call last)",
      "Cell \u001b[0;32mIn[15], line 7\u001b[0m\n\u001b[1;32m      4\u001b[0m HF_MODEL \u001b[38;5;241m=\u001b[39m \u001b[38;5;124m\"\u001b[39m\u001b[38;5;124mfacebook/opt-1.3b\u001b[39m\u001b[38;5;124m\"\u001b[39m  \u001b[38;5;66;03m# Smaller model for fair comparison\u001b[39;00m\n\u001b[1;32m      6\u001b[0m \u001b[38;5;28mprint\u001b[39m(\u001b[38;5;124mf\u001b[39m\u001b[38;5;124m\"\u001b[39m\u001b[38;5;124mLoading HuggingFace \u001b[39m\u001b[38;5;132;01m{\u001b[39;00mHF_MODEL\u001b[38;5;132;01m}\u001b[39;00m\u001b[38;5;124m...\u001b[39m\u001b[38;5;124m\"\u001b[39m)\n\u001b[0;32m----> 7\u001b[0m hf_model \u001b[38;5;241m=\u001b[39m \u001b[43mAutoModelForCausalLM\u001b[49m\u001b[38;5;241;43m.\u001b[39;49m\u001b[43mfrom_pretrained\u001b[49m\u001b[43m(\u001b[49m\u001b[43mHF_MODEL\u001b[49m\u001b[43m)\u001b[49m\u001b[38;5;241;43m.\u001b[39;49m\u001b[43mto\u001b[49m\u001b[43m(\u001b[49m\u001b[38;5;124;43m\"\u001b[39;49m\u001b[38;5;124;43mcuda\u001b[39;49m\u001b[38;5;124;43m\"\u001b[39;49m\u001b[43m)\u001b[49m\n\u001b[1;32m      8\u001b[0m hf_tokenizer \u001b[38;5;241m=\u001b[39m AutoTokenizer\u001b[38;5;241m.\u001b[39mfrom_pretrained(HF_MODEL)\n\u001b[1;32m      9\u001b[0m hf_tokenizer\u001b[38;5;241m.\u001b[39mpad_token \u001b[38;5;241m=\u001b[39m hf_tokenizer\u001b[38;5;241m.\u001b[39meos_token\n",
      "File \u001b[0;32m~/python_workstation/side-project/iSpan_LLM-One-Piece/00-Course_Setup/.venv/lib/python3.10/site-packages/transformers/modeling_utils.py:4347\u001b[0m, in \u001b[0;36mPreTrainedModel.to\u001b[0;34m(self, *args, **kwargs)\u001b[0m\n\u001b[1;32m   4342\u001b[0m     \u001b[38;5;28;01mif\u001b[39;00m dtype_present_in_args:\n\u001b[1;32m   4343\u001b[0m         \u001b[38;5;28;01mraise\u001b[39;00m \u001b[38;5;167;01mValueError\u001b[39;00m(\n\u001b[1;32m   4344\u001b[0m             \u001b[38;5;124m\"\u001b[39m\u001b[38;5;124mYou cannot cast a GPTQ model in a new `dtype`. Make sure to load the model using `from_pretrained` using the desired\u001b[39m\u001b[38;5;124m\"\u001b[39m\n\u001b[1;32m   4345\u001b[0m             \u001b[38;5;124m\"\u001b[39m\u001b[38;5;124m `dtype` by passing the correct `dtype` argument.\u001b[39m\u001b[38;5;124m\"\u001b[39m\n\u001b[1;32m   4346\u001b[0m         )\n\u001b[0;32m-> 4347\u001b[0m \u001b[38;5;28;01mreturn\u001b[39;00m \u001b[38;5;28;43msuper\u001b[39;49m\u001b[43m(\u001b[49m\u001b[43m)\u001b[49m\u001b[38;5;241;43m.\u001b[39;49m\u001b[43mto\u001b[49m\u001b[43m(\u001b[49m\u001b[38;5;241;43m*\u001b[39;49m\u001b[43margs\u001b[49m\u001b[43m,\u001b[49m\u001b[43m \u001b[49m\u001b[38;5;241;43m*\u001b[39;49m\u001b[38;5;241;43m*\u001b[39;49m\u001b[43mkwargs\u001b[49m\u001b[43m)\u001b[49m\n",
      "File \u001b[0;32m~/python_workstation/side-project/iSpan_LLM-One-Piece/00-Course_Setup/.venv/lib/python3.10/site-packages/torch/nn/modules/module.py:1343\u001b[0m, in \u001b[0;36mModule.to\u001b[0;34m(self, *args, **kwargs)\u001b[0m\n\u001b[1;32m   1340\u001b[0m         \u001b[38;5;28;01melse\u001b[39;00m:\n\u001b[1;32m   1341\u001b[0m             \u001b[38;5;28;01mraise\u001b[39;00m\n\u001b[0;32m-> 1343\u001b[0m \u001b[38;5;28;01mreturn\u001b[39;00m \u001b[38;5;28;43mself\u001b[39;49m\u001b[38;5;241;43m.\u001b[39;49m\u001b[43m_apply\u001b[49m\u001b[43m(\u001b[49m\u001b[43mconvert\u001b[49m\u001b[43m)\u001b[49m\n",
      "File \u001b[0;32m~/python_workstation/side-project/iSpan_LLM-One-Piece/00-Course_Setup/.venv/lib/python3.10/site-packages/torch/nn/modules/module.py:903\u001b[0m, in \u001b[0;36mModule._apply\u001b[0;34m(self, fn, recurse)\u001b[0m\n\u001b[1;32m    901\u001b[0m \u001b[38;5;28;01mif\u001b[39;00m recurse:\n\u001b[1;32m    902\u001b[0m     \u001b[38;5;28;01mfor\u001b[39;00m module \u001b[38;5;129;01min\u001b[39;00m \u001b[38;5;28mself\u001b[39m\u001b[38;5;241m.\u001b[39mchildren():\n\u001b[0;32m--> 903\u001b[0m         \u001b[43mmodule\u001b[49m\u001b[38;5;241;43m.\u001b[39;49m\u001b[43m_apply\u001b[49m\u001b[43m(\u001b[49m\u001b[43mfn\u001b[49m\u001b[43m)\u001b[49m\n\u001b[1;32m    905\u001b[0m \u001b[38;5;28;01mdef\u001b[39;00m\u001b[38;5;250m \u001b[39m\u001b[38;5;21mcompute_should_use_set_data\u001b[39m(tensor, tensor_applied):\n\u001b[1;32m    906\u001b[0m     \u001b[38;5;28;01mif\u001b[39;00m torch\u001b[38;5;241m.\u001b[39m_has_compatible_shallow_copy_type(tensor, tensor_applied):\n\u001b[1;32m    907\u001b[0m         \u001b[38;5;66;03m# If the new tensor has compatible tensor type as the existing tensor,\u001b[39;00m\n\u001b[1;32m    908\u001b[0m         \u001b[38;5;66;03m# the current behavior is to change the tensor in-place using `.data =`,\u001b[39;00m\n\u001b[0;32m   (...)\u001b[0m\n\u001b[1;32m    913\u001b[0m         \u001b[38;5;66;03m# global flag to let the user control whether they want the future\u001b[39;00m\n\u001b[1;32m    914\u001b[0m         \u001b[38;5;66;03m# behavior of overwriting the existing tensor or not.\u001b[39;00m\n",
      "File \u001b[0;32m~/python_workstation/side-project/iSpan_LLM-One-Piece/00-Course_Setup/.venv/lib/python3.10/site-packages/torch/nn/modules/module.py:903\u001b[0m, in \u001b[0;36mModule._apply\u001b[0;34m(self, fn, recurse)\u001b[0m\n\u001b[1;32m    901\u001b[0m \u001b[38;5;28;01mif\u001b[39;00m recurse:\n\u001b[1;32m    902\u001b[0m     \u001b[38;5;28;01mfor\u001b[39;00m module \u001b[38;5;129;01min\u001b[39;00m \u001b[38;5;28mself\u001b[39m\u001b[38;5;241m.\u001b[39mchildren():\n\u001b[0;32m--> 903\u001b[0m         \u001b[43mmodule\u001b[49m\u001b[38;5;241;43m.\u001b[39;49m\u001b[43m_apply\u001b[49m\u001b[43m(\u001b[49m\u001b[43mfn\u001b[49m\u001b[43m)\u001b[49m\n\u001b[1;32m    905\u001b[0m \u001b[38;5;28;01mdef\u001b[39;00m\u001b[38;5;250m \u001b[39m\u001b[38;5;21mcompute_should_use_set_data\u001b[39m(tensor, tensor_applied):\n\u001b[1;32m    906\u001b[0m     \u001b[38;5;28;01mif\u001b[39;00m torch\u001b[38;5;241m.\u001b[39m_has_compatible_shallow_copy_type(tensor, tensor_applied):\n\u001b[1;32m    907\u001b[0m         \u001b[38;5;66;03m# If the new tensor has compatible tensor type as the existing tensor,\u001b[39;00m\n\u001b[1;32m    908\u001b[0m         \u001b[38;5;66;03m# the current behavior is to change the tensor in-place using `.data =`,\u001b[39;00m\n\u001b[0;32m   (...)\u001b[0m\n\u001b[1;32m    913\u001b[0m         \u001b[38;5;66;03m# global flag to let the user control whether they want the future\u001b[39;00m\n\u001b[1;32m    914\u001b[0m         \u001b[38;5;66;03m# behavior of overwriting the existing tensor or not.\u001b[39;00m\n",
      "    \u001b[0;31m[... skipping similar frames: Module._apply at line 903 (2 times)]\u001b[0m\n",
      "File \u001b[0;32m~/python_workstation/side-project/iSpan_LLM-One-Piece/00-Course_Setup/.venv/lib/python3.10/site-packages/torch/nn/modules/module.py:903\u001b[0m, in \u001b[0;36mModule._apply\u001b[0;34m(self, fn, recurse)\u001b[0m\n\u001b[1;32m    901\u001b[0m \u001b[38;5;28;01mif\u001b[39;00m recurse:\n\u001b[1;32m    902\u001b[0m     \u001b[38;5;28;01mfor\u001b[39;00m module \u001b[38;5;129;01min\u001b[39;00m \u001b[38;5;28mself\u001b[39m\u001b[38;5;241m.\u001b[39mchildren():\n\u001b[0;32m--> 903\u001b[0m         \u001b[43mmodule\u001b[49m\u001b[38;5;241;43m.\u001b[39;49m\u001b[43m_apply\u001b[49m\u001b[43m(\u001b[49m\u001b[43mfn\u001b[49m\u001b[43m)\u001b[49m\n\u001b[1;32m    905\u001b[0m \u001b[38;5;28;01mdef\u001b[39;00m\u001b[38;5;250m \u001b[39m\u001b[38;5;21mcompute_should_use_set_data\u001b[39m(tensor, tensor_applied):\n\u001b[1;32m    906\u001b[0m     \u001b[38;5;28;01mif\u001b[39;00m torch\u001b[38;5;241m.\u001b[39m_has_compatible_shallow_copy_type(tensor, tensor_applied):\n\u001b[1;32m    907\u001b[0m         \u001b[38;5;66;03m# If the new tensor has compatible tensor type as the existing tensor,\u001b[39;00m\n\u001b[1;32m    908\u001b[0m         \u001b[38;5;66;03m# the current behavior is to change the tensor in-place using `.data =`,\u001b[39;00m\n\u001b[0;32m   (...)\u001b[0m\n\u001b[1;32m    913\u001b[0m         \u001b[38;5;66;03m# global flag to let the user control whether they want the future\u001b[39;00m\n\u001b[1;32m    914\u001b[0m         \u001b[38;5;66;03m# behavior of overwriting the existing tensor or not.\u001b[39;00m\n",
      "File \u001b[0;32m~/python_workstation/side-project/iSpan_LLM-One-Piece/00-Course_Setup/.venv/lib/python3.10/site-packages/torch/nn/modules/module.py:930\u001b[0m, in \u001b[0;36mModule._apply\u001b[0;34m(self, fn, recurse)\u001b[0m\n\u001b[1;32m    926\u001b[0m \u001b[38;5;66;03m# Tensors stored in modules are graph leaves, and we don't want to\u001b[39;00m\n\u001b[1;32m    927\u001b[0m \u001b[38;5;66;03m# track autograd history of `param_applied`, so we have to use\u001b[39;00m\n\u001b[1;32m    928\u001b[0m \u001b[38;5;66;03m# `with torch.no_grad():`\u001b[39;00m\n\u001b[1;32m    929\u001b[0m \u001b[38;5;28;01mwith\u001b[39;00m torch\u001b[38;5;241m.\u001b[39mno_grad():\n\u001b[0;32m--> 930\u001b[0m     param_applied \u001b[38;5;241m=\u001b[39m \u001b[43mfn\u001b[49m\u001b[43m(\u001b[49m\u001b[43mparam\u001b[49m\u001b[43m)\u001b[49m\n\u001b[1;32m    931\u001b[0m p_should_use_set_data \u001b[38;5;241m=\u001b[39m compute_should_use_set_data(param, param_applied)\n\u001b[1;32m    933\u001b[0m \u001b[38;5;66;03m# subclasses may have multiple child tensors so we need to use swap_tensors\u001b[39;00m\n",
      "File \u001b[0;32m~/python_workstation/side-project/iSpan_LLM-One-Piece/00-Course_Setup/.venv/lib/python3.10/site-packages/torch/nn/modules/module.py:1329\u001b[0m, in \u001b[0;36mModule.to.<locals>.convert\u001b[0;34m(t)\u001b[0m\n\u001b[1;32m   1322\u001b[0m     \u001b[38;5;28;01mif\u001b[39;00m convert_to_format \u001b[38;5;129;01mis\u001b[39;00m \u001b[38;5;129;01mnot\u001b[39;00m \u001b[38;5;28;01mNone\u001b[39;00m \u001b[38;5;129;01mand\u001b[39;00m t\u001b[38;5;241m.\u001b[39mdim() \u001b[38;5;129;01min\u001b[39;00m (\u001b[38;5;241m4\u001b[39m, \u001b[38;5;241m5\u001b[39m):\n\u001b[1;32m   1323\u001b[0m         \u001b[38;5;28;01mreturn\u001b[39;00m t\u001b[38;5;241m.\u001b[39mto(\n\u001b[1;32m   1324\u001b[0m             device,\n\u001b[1;32m   1325\u001b[0m             dtype \u001b[38;5;28;01mif\u001b[39;00m t\u001b[38;5;241m.\u001b[39mis_floating_point() \u001b[38;5;129;01mor\u001b[39;00m t\u001b[38;5;241m.\u001b[39mis_complex() \u001b[38;5;28;01melse\u001b[39;00m \u001b[38;5;28;01mNone\u001b[39;00m,\n\u001b[1;32m   1326\u001b[0m             non_blocking,\n\u001b[1;32m   1327\u001b[0m             memory_format\u001b[38;5;241m=\u001b[39mconvert_to_format,\n\u001b[1;32m   1328\u001b[0m         )\n\u001b[0;32m-> 1329\u001b[0m     \u001b[38;5;28;01mreturn\u001b[39;00m \u001b[43mt\u001b[49m\u001b[38;5;241;43m.\u001b[39;49m\u001b[43mto\u001b[49m\u001b[43m(\u001b[49m\n\u001b[1;32m   1330\u001b[0m \u001b[43m        \u001b[49m\u001b[43mdevice\u001b[49m\u001b[43m,\u001b[49m\n\u001b[1;32m   1331\u001b[0m \u001b[43m        \u001b[49m\u001b[43mdtype\u001b[49m\u001b[43m \u001b[49m\u001b[38;5;28;43;01mif\u001b[39;49;00m\u001b[43m \u001b[49m\u001b[43mt\u001b[49m\u001b[38;5;241;43m.\u001b[39;49m\u001b[43mis_floating_point\u001b[49m\u001b[43m(\u001b[49m\u001b[43m)\u001b[49m\u001b[43m \u001b[49m\u001b[38;5;129;43;01mor\u001b[39;49;00m\u001b[43m \u001b[49m\u001b[43mt\u001b[49m\u001b[38;5;241;43m.\u001b[39;49m\u001b[43mis_complex\u001b[49m\u001b[43m(\u001b[49m\u001b[43m)\u001b[49m\u001b[43m \u001b[49m\u001b[38;5;28;43;01melse\u001b[39;49;00m\u001b[43m \u001b[49m\u001b[38;5;28;43;01mNone\u001b[39;49;00m\u001b[43m,\u001b[49m\n\u001b[1;32m   1332\u001b[0m \u001b[43m        \u001b[49m\u001b[43mnon_blocking\u001b[49m\u001b[43m,\u001b[49m\n\u001b[1;32m   1333\u001b[0m \u001b[43m    \u001b[49m\u001b[43m)\u001b[49m\n\u001b[1;32m   1334\u001b[0m \u001b[38;5;28;01mexcept\u001b[39;00m \u001b[38;5;167;01mNotImplementedError\u001b[39;00m \u001b[38;5;28;01mas\u001b[39;00m e:\n\u001b[1;32m   1335\u001b[0m     \u001b[38;5;28;01mif\u001b[39;00m \u001b[38;5;28mstr\u001b[39m(e) \u001b[38;5;241m==\u001b[39m \u001b[38;5;124m\"\u001b[39m\u001b[38;5;124mCannot copy out of meta tensor; no data!\u001b[39m\u001b[38;5;124m\"\u001b[39m:\n",
      "\u001b[0;31mOutOfMemoryError\u001b[0m: CUDA out of memory. Tried to allocate 64.00 MiB. GPU 0 has a total capacity of 15.57 GiB of which 64.38 MiB is free. Process 536906 has 2.68 GiB memory in use. Process 3344502 has 130.00 MiB memory in use. Process 4130159 has 2.18 GiB memory in use. Process 766315 has 9.13 GiB memory in use. Including non-PyTorch memory, this process has 1.11 GiB memory in use. Of the allocated memory 1.02 GiB is allocated by PyTorch, and 4.87 MiB is reserved by PyTorch but unallocated. If reserved but unallocated memory is large try setting PYTORCH_CUDA_ALLOC_CONF=expandable_segments:True to avoid fragmentation.  See documentation for Memory Management  (https://pytorch.org/docs/stable/notes/cuda.html#environment-variables)"
     ]
    }
   ],
   "source": [
    "# Load HuggingFace model (use smaller model for memory)\n",
    "from transformers import AutoModelForCausalLM, AutoTokenizer\n",
    "\n",
    "HF_MODEL = \"facebook/opt-1.3b\"  # Smaller model for fair comparison\n",
    "\n",
    "print(f\"Loading HuggingFace {HF_MODEL}...\")\n",
    "hf_model = AutoModelForCausalLM.from_pretrained(HF_MODEL).to(\"cuda\")\n",
    "hf_tokenizer = AutoTokenizer.from_pretrained(HF_MODEL)\n",
    "hf_tokenizer.pad_token = hf_tokenizer.eos_token\n",
    "print(\"✅ HuggingFace model loaded\")"
   ]
  },
  {
   "cell_type": "code",
   "execution_count": null,
   "metadata": {},
   "outputs": [],
   "source": [
    "# Load vLLM with same model\n",
    "print(f\"\\nLoading vLLM {HF_MODEL}...\")\n",
    "vllm_model = LLM(\n",
    "    model=HF_MODEL,\n",
    "    gpu_memory_utilization=0.5,\n",
    "    max_model_len=512,\n",
    ")\n",
    "print(\"✅ vLLM model loaded\")"
   ]
  },
  {
   "cell_type": "code",
   "execution_count": null,
   "metadata": {},
   "outputs": [],
   "source": [
    "# Test prompts\n",
    "comparison_prompts = [\n",
    "    \"The future of AI is\",\n",
    "    \"Machine learning enables\",\n",
    "    \"Deep learning networks\",\n",
    "    \"Natural language processing\",\n",
    "]\n",
    "\n",
    "comparison_params = SamplingParams(\n",
    "    temperature=0.8,\n",
    "    max_tokens=30,\n",
    ")\n",
    "\n",
    "print(f\"Testing with {len(comparison_prompts)} prompts...\\n\")"
   ]
  },
  {
   "cell_type": "code",
   "execution_count": null,
   "metadata": {},
   "outputs": [],
   "source": [
    "# HuggingFace batch inference\n",
    "print(\"Testing HuggingFace...\")\n",
    "hf_inputs = hf_tokenizer(comparison_prompts, return_tensors=\"pt\", padding=True).to(\"cuda\")\n",
    "\n",
    "hf_start = time.time()\n",
    "with torch.no_grad():\n",
    "    hf_outputs = hf_model.generate(\n",
    "        **hf_inputs,\n",
    "        max_new_tokens=30,\n",
    "        temperature=0.8,\n",
    "        do_sample=True,\n",
    "        pad_token_id=hf_tokenizer.eos_token_id,\n",
    "    )\n",
    "hf_time = time.time() - hf_start\n",
    "\n",
    "hf_total_tokens = sum(len(ids) for ids in hf_outputs)\n",
    "print(f\"  Time: {hf_time:.3f}s\")\n",
    "print(f\"  Throughput: {hf_total_tokens/hf_time:.1f} tokens/s\")"
   ]
  },
  {
   "cell_type": "code",
   "execution_count": null,
   "metadata": {},
   "outputs": [],
   "source": [
    "# vLLM batch inference\n",
    "print(\"\\nTesting vLLM...\")\n",
    "vllm_start = time.time()\n",
    "vllm_outputs = vllm_model.generate(comparison_prompts, comparison_params)\n",
    "vllm_time = time.time() - vllm_start\n",
    "\n",
    "vllm_total_tokens = sum(len(o.outputs[0].token_ids) for o in vllm_outputs)\n",
    "print(f\"  Time: {vllm_time:.3f}s\")\n",
    "print(f\"  Throughput: {vllm_total_tokens/vllm_time:.1f} tokens/s\")"
   ]
  },
  {
   "cell_type": "code",
   "execution_count": null,
   "metadata": {},
   "outputs": [],
   "source": [
    "# Final comparison\n",
    "speedup = hf_time / vllm_time\n",
    "throughput_gain = (vllm_total_tokens/vllm_time) / (hf_total_tokens/hf_time)\n",
    "\n",
    "print(\"\\n\" + \"=\"*80)\n",
    "print(\"HUGGINGFACE vs vLLM COMPARISON\")\n",
    "print(\"=\"*80)\n",
    "print(f\"HuggingFace:\")\n",
    "print(f\"  Time:       {hf_time:.3f}s\")\n",
    "print(f\"  Throughput: {hf_total_tokens/hf_time:.1f} tokens/s\")\n",
    "print()\n",
    "print(f\"vLLM:\")\n",
    "print(f\"  Time:       {vllm_time:.3f}s\")\n",
    "print(f\"  Throughput: {vllm_total_tokens/vllm_time:.1f} tokens/s\")\n",
    "print()\n",
    "print(f\"Speedup:           {speedup:.2f}x faster ⚡\")\n",
    "print(f\"Throughput gain:   {throughput_gain:.2f}x higher 📊\")\n",
    "print(\"=\"*80)"
   ]
  },
  {
   "cell_type": "markdown",
   "metadata": {},
   "source": [
    "---\n",
    "## Summary\n",
    "\n",
    "✅ **Completed**:\n",
    "1. Loaded and tested Llama-2-7B with vLLM\n",
    "2. Implemented batch inference\n",
    "3. Measured throughput scaling\n",
    "4. Profiled GPU memory usage\n",
    "5. Compared with HuggingFace baseline\n",
    "\n",
    "📊 **Key Findings**:\n",
    "- Batch processing provides 2-3x speedup vs sequential\n",
    "- Throughput scales well with batch size\n",
    "- vLLM is 5-15x faster than HuggingFace\n",
    "- Memory usage grows linearly with batch size\n",
    "\n",
    "➡️ **Next**: In `03-Advanced_Features.ipynb`, we'll explore:\n",
    "- Continuous Batching\n",
    "- Advanced sampling strategies\n",
    "- Long context handling\n",
    "- Multi-model management"
   ]
  },
  {
   "cell_type": "code",
   "execution_count": null,
   "metadata": {},
   "outputs": [],
   "source": [
    "# Cleanup\n",
    "del llm, vllm_model, hf_model\n",
    "torch.cuda.empty_cache()\n",
    "gc.collect()\n",
    "print(\"✅ Memory cleaned up\")"
   ]
  }
 ],
 "metadata": {
  "kernelspec": {
   "display_name": "LLM Engineering Course (Poetry)",
   "language": "python",
   "name": "llm-engineering-course"
  },
  "language_info": {
   "codemirror_mode": {
    "name": "ipython",
    "version": 3
   },
   "file_extension": ".py",
   "mimetype": "text/x-python",
   "name": "python",
   "nbconvert_exporter": "python",
   "pygments_lexer": "ipython3",
   "version": "3.10.12"
  }
 },
 "nbformat": 4,
 "nbformat_minor": 4
}
