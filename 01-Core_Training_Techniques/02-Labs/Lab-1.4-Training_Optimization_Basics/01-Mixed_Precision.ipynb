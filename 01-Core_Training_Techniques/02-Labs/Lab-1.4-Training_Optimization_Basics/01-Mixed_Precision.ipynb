{
 "cells": [
  {
   "cell_type": "markdown",
   "metadata": {},
   "source": [
    "# Lab-1.4: 混合精度訓練 (Mixed Precision Training)\n",
    "\n",
    "**學習目標**:\n",
    "- 理解 FP32, FP16, BF16 精度差異\n",
    "- 掌握 PyTorch AMP (Automatic Mixed Precision) 使用\n",
    "- 實現動態損失縮放防止梯度下溢\n",
    "- 對比不同精度的訓練效果與性能\n",
    "\n",
    "**預計時間**: 60-90分鐘"
   ]
  },
  {
   "cell_type": "markdown",
   "metadata": {},
   "source": [
    "## 1. 環境設置與依賴導入"
   ]
  },
  {
   "cell_type": "code",
   "execution_count": 18,
   "metadata": {},
   "outputs": [
    {
     "name": "stdout",
     "output_type": "stream",
     "text": [
      "PyTorch Version: 2.6.0+cu124\n",
      "CUDA Available: True\n",
      "CUDA Version: 12.4\n",
      "GPU Device: NVIDIA RTX 2000 Ada Generation\n",
      "GPU Memory: 16.71 GB\n"
     ]
    }
   ],
   "source": [
    "import torch\n",
    "import torch.nn as nn\n",
    "from torch.amp import autocast, GradScaler\n",
    "from transformers import GPT2LMHeadModel, GPT2Tokenizer, GPT2Config\n",
    "from torch.utils.data import Dataset, DataLoader\n",
    "import time\n",
    "import matplotlib.pyplot as plt\n",
    "import numpy as np\n",
    "from tqdm.auto import tqdm\n",
    "import gc\n",
    "\n",
    "print(f\"PyTorch Version: {torch.__version__}\")\n",
    "print(f\"CUDA Available: {torch.cuda.is_available()}\")\n",
    "if torch.cuda.is_available():\n",
    "    print(f\"CUDA Version: {torch.version.cuda}\")\n",
    "    print(f\"GPU Device: {torch.cuda.get_device_name(0)}\")\n",
    "    print(f\"GPU Memory: {torch.cuda.get_device_properties(0).total_memory / 1e9:.2f} GB\")\n",
    "\n",
    "import matplotlib\n",
    "matplotlib.rcParams['font.sans-serif'] = ['Noto Sans CJK TC']\n",
    "matplotlib.rcParams['axes.unicode_minus'] = False\n"
   ]
  },
  {
   "cell_type": "markdown",
   "metadata": {},
   "source": [
    "## 2. 理論背景\n",
    "\n",
    "### 2.1 浮點數精度格式\n",
    "\n",
    "| 格式 | 位元結構 | 範圍 | 精度 | 特性 |\n",
    "|------|---------|------|------|------|\n",
    "| **FP32** | 1+8+23 | ±3.4×10³⁸ | ~7位 | 標準精度 |\n",
    "| **FP16** | 1+5+10 | ±6.5×10⁴ | ~3位 | 高速推理 |\n",
    "| **BF16** | 1+8+7 | ±3.4×10³⁸ | ~2位 | 訓練友好 |\n",
    "\n",
    "### 2.2 混合精度訓練原理\n",
    "\n",
    "1. **前向傳播**: 使用 FP16 計算 (節省記憶體)\n",
    "2. **損失計算**: FP16 → FP32 損失\n",
    "3. **反向傳播**: FP16 梯度計算\n",
    "4. **損失縮放**: 防止 FP16 梯度下溢\n",
    "5. **參數更新**: FP32 主副本更新\n",
    "6. **參數複製**: FP32 → FP16 供下次迭代\n",
    "\n",
    "心法內化（五歲也懂）\n",
    "\n",
    "`「小杯子（FP16）裝得快但容易灑；先把湯（損失/梯度）舉高（縮放）就不會灑；最後用大碗（FP32）收湯（更新），再倒回小杯子繼續端。」`\n",
    "\n",
    "口訣記憶（3 點）\n",
    "\n",
    "- 快用半、準用單（FP16算、FP32累加/更新）。\n",
    "\n",
    "- 先放大、再還原（Loss Scaling 防下溢）。\n",
    "\n",
    "- 主權重要 32（FP32 master weights 不可少）。"
   ]
  },
  {
   "cell_type": "markdown",
   "metadata": {},
   "source": [
    "\n",
    "### 混合精度訓練六步驟逐點拆解\n",
    "\n",
    "1. **前向傳播：用 FP16 計算（省顯存與時間）**\n",
    "\n",
    "   - **內容**：大多數算子（如 GEMM、Conv、激活）會在 `autocast` 區塊內自動以 FP16/BF16 執行。\n",
    "   - **動機**：這些運算對相對誤差不敏感，而且 FP16 可以用 Tensor Core 加速，節省記憶體和計算時間。\n",
    "   - **但**：像 softmax、log、exp、reduction、BN 等對數值敏感的算子，PyTorch 會自動回退 FP32 計算，兼顧穩定性。\n",
    "\n",
    "2. **損失計算：在 FP32 求 Loss**\n",
    "\n",
    "   - **內容**：最終 scalar 損失會以 FP32 計算與保存。\n",
    "   - **動機**：因為 Loss 是整條反向傳播的起點，如果留在 FP16，可能因微小值下溢，使梯度品質大幅惡化甚至為 0。\n",
    "\n",
    "3. **反向傳播：以 FP16 跑大部分梯度流**\n",
    "\n",
    "   - **內容**：反向階段自動判斷數值敏感度，多數張量保持 FP16，部分自動回退 FP32。\n",
    "   - **動機**：延續前向的加速與省記憶體，但梯度容易過小下溢，下一步須用 scaling 處理。\n",
    "\n",
    "4. **損失縮放（Loss Scaling）：避免 FP16 梯度下溢**\n",
    "\n",
    "   - **機制**：將損失放大 s 倍（例如 s=2^10~2^20），梯度也跟著放大：$\\hat{L} = s L，\\quad \\hat{g} = s g$\n",
    "   - **再處理**：反向傳播後，在參數更新前將梯度除回 s，即 $g_{true} = \\hat{g}/s$\n",
    "   - **動機**：FP16 最小規範化數約 $6.10 \\times 10^{-5}$，很多梯度遠比它小。如果不放大直接被截斷為 0。PyTorch 的 `GradScaler` 會自動調整 s，並在溢出時自動回退。\n",
    "\n",
    "5. **參數更新：用 FP32「主權重」更新**\n",
    "\n",
    "   - **機制**：模型的主權重以 FP32 儲存與更新，更新規則為 $\\theta_{fp32} \\gets \\theta_{fp32} - \\eta \\cdot g_{fp32}$\n",
    "   - **動機**：梯度累加與參數微調時，FP32 保留小幅調整。如果只用 FP16，細小的更新會直接被量化吃掉，無法有效「微調」權重。\n",
    "\n",
    "6. **參數複製：把 FP32 主權重 cast 回 FP16 供下輪前/反向**\n",
    "\n",
    "   - **機制**：完成參數更新後，將 FP32 的主權重轉換（cast）為 FP16，供接下來一輪的高效前向與反向運算使用。\n",
    "   - **動機**：仍要靠 FP16 提供加速與省記憶體的優勢。\n",
    "\n",
    "**小結**：計算多用 FP16、關鍵步驟用 FP32、損失縮放防下溢——三件事缺一不可！\n"
   ]
  },
  {
   "cell_type": "markdown",
   "metadata": {},
   "source": [
    "## 3. 數據準備"
   ]
  },
  {
   "cell_type": "code",
   "execution_count": 2,
   "metadata": {},
   "outputs": [
    {
     "name": "stdout",
     "output_type": "stream",
     "text": [
      "載入 GPT-2 Tokenizer...\n",
      "訓練數據集大小: 500\n",
      "批次數量: 125\n"
     ]
    }
   ],
   "source": [
    "# 簡單的文本數據集\n",
    "class SimpleTextDataset(Dataset):\n",
    "    \"\"\"簡單的文本生成數據集\"\"\"\n",
    "    def __init__(self, tokenizer, num_samples=1000, seq_length=128):\n",
    "        self.tokenizer = tokenizer\n",
    "        self.num_samples = num_samples\n",
    "        self.seq_length = seq_length\n",
    "        \n",
    "        # 生成簡單的訓練文本\n",
    "        self.texts = [f\"The quick brown fox jumps over the lazy dog. \" * 10 for _ in range(num_samples)]\n",
    "    \n",
    "    def __len__(self):\n",
    "        return self.num_samples\n",
    "    \n",
    "    def __getitem__(self, idx):\n",
    "        text = self.texts[idx]\n",
    "        encodings = self.tokenizer(\n",
    "            text,\n",
    "            max_length=self.seq_length,\n",
    "            truncation=True,\n",
    "            padding=\"max_length\",\n",
    "            return_tensors=\"pt\"\n",
    "        )\n",
    "        \n",
    "        input_ids = encodings[\"input_ids\"].squeeze()\n",
    "        attention_mask = encodings[\"attention_mask\"].squeeze()\n",
    "        \n",
    "        return {\n",
    "            \"input_ids\": input_ids,\n",
    "            \"attention_mask\": attention_mask,\n",
    "            \"labels\": input_ids.clone()  # 語言模型任務\n",
    "        }\n",
    "\n",
    "# 初始化 tokenizer\n",
    "print(\"載入 GPT-2 Tokenizer...\")\n",
    "tokenizer = GPT2Tokenizer.from_pretrained(\"gpt2\")\n",
    "tokenizer.pad_token = tokenizer.eos_token\n",
    "\n",
    "# 創建數據集\n",
    "train_dataset = SimpleTextDataset(tokenizer, num_samples=500, seq_length=128)\n",
    "print(f\"訓練數據集大小: {len(train_dataset)}\")\n",
    "\n",
    "# 創建 DataLoader\n",
    "train_loader = DataLoader(train_dataset, batch_size=4, shuffle=True)\n",
    "print(f\"批次數量: {len(train_loader)}\")"
   ]
  },
  {
   "cell_type": "markdown",
   "metadata": {},
   "source": [
    "## 4. 記憶體監控工具"
   ]
  },
  {
   "cell_type": "code",
   "execution_count": 17,
   "metadata": {},
   "outputs": [
    {
     "name": "stdout",
     "output_type": "stream",
     "text": [
      "初始記憶體 - 已分配: 0.02GB, 已保留: 0.04GB, 峰值: 0.02GB\n"
     ]
    },
    {
     "data": {
      "text/plain": [
       "{'allocated': 0.01704448, 'reserved': 0.044040192, 'peak': 0.01704448}"
      ]
     },
     "execution_count": 17,
     "metadata": {},
     "output_type": "execute_result"
    }
   ],
   "source": [
    "class MemoryTracker:\n",
    "    \"\"\"GPU 記憶體追蹤工具\"\"\"\n",
    "    def __init__(self):\n",
    "        self.reset()\n",
    "    \n",
    "    def reset(self):\n",
    "        if torch.cuda.is_available():\n",
    "            torch.cuda.reset_peak_memory_stats()\n",
    "            torch.cuda.empty_cache()\n",
    "            gc.collect()\n",
    "    \n",
    "    def get_memory_stats(self):\n",
    "        if not torch.cuda.is_available():\n",
    "            return {\"allocated\": 0, \"reserved\": 0, \"peak\": 0}\n",
    "        \n",
    "        return {\n",
    "            \"allocated\": torch.cuda.memory_allocated() / 1e9,  # GB\n",
    "            \"reserved\": torch.cuda.memory_reserved() / 1e9,    # GB\n",
    "            \"peak\": torch.cuda.max_memory_allocated() / 1e9   # GB\n",
    "        }\n",
    "    \n",
    "    def print_memory(self, prefix=\"\"):\n",
    "        stats = self.get_memory_stats()\n",
    "        print(f\"{prefix}記憶體 - 已分配: {stats['allocated']:.2f}GB, \"\n",
    "              f\"已保留: {stats['reserved']:.2f}GB, \"\n",
    "              f\"峰值: {stats['peak']:.2f}GB\")\n",
    "        return stats\n",
    "\n",
    "memory_tracker = MemoryTracker()\n",
    "memory_tracker.print_memory(\"初始\")"
   ]
  },
  {
   "cell_type": "markdown",
   "metadata": {},
   "source": [
    "## 5. 實驗 1: FP32 標準訓練 (基準測試)"
   ]
  },
  {
   "cell_type": "code",
   "execution_count": 4,
   "metadata": {},
   "outputs": [],
   "source": [
    "def train_model(model, dataloader, optimizer, device, num_steps=100, use_amp=False, dtype=None):\n",
    "    \"\"\"\n",
    "    通用訓練函數\n",
    "    \n",
    "    Args:\n",
    "        model: 待訓練模型\n",
    "        dataloader: 數據載入器\n",
    "        optimizer: 優化器\n",
    "        device: 設備 (cuda/cpu)\n",
    "        num_steps: 訓練步數\n",
    "        use_amp: 是否使用混合精度\n",
    "        dtype: autocast 的數據類型 (torch.float16 或 torch.bfloat16)\n",
    "    \n",
    "    Returns:\n",
    "        dict: 訓練統計信息\n",
    "    \"\"\"\n",
    "    model.train()\n",
    "    scaler = GradScaler() if use_amp else None\n",
    "    \n",
    "    # 記憶體追蹤\n",
    "    memory_tracker.reset()\n",
    "    \n",
    "    # 訓練統計\n",
    "    losses = []\n",
    "    start_time = time.time()\n",
    "    \n",
    "    dataloader_iter = iter(dataloader)\n",
    "    \n",
    "    pbar = tqdm(range(num_steps), desc=\"Training\")\n",
    "    for step in pbar:\n",
    "        try:\n",
    "            batch = next(dataloader_iter)\n",
    "        except StopIteration:\n",
    "            dataloader_iter = iter(dataloader)\n",
    "            batch = next(dataloader_iter)\n",
    "        \n",
    "        # 將數據移到設備\n",
    "        batch = {k: v.to(device) for k, v in batch.items()}\n",
    "        \n",
    "        optimizer.zero_grad()\n",
    "        \n",
    "        # 前向傳播\n",
    "        if use_amp:\n",
    "            with autocast(dtype=dtype if dtype else torch.float16):\n",
    "                outputs = model(**batch)\n",
    "                loss = outputs.loss\n",
    "            \n",
    "            # 反向傳播 (with gradient scaling)\n",
    "            scaler.scale(loss).backward()\n",
    "            scaler.step(optimizer)\n",
    "            scaler.update()\n",
    "        else:\n",
    "            outputs = model(**batch)\n",
    "            loss = outputs.loss\n",
    "            loss.backward()\n",
    "            optimizer.step()\n",
    "        \n",
    "        losses.append(loss.item())\n",
    "        pbar.set_postfix({\"loss\": f\"{loss.item():.4f}\"})\n",
    "    \n",
    "    # 計算統計\n",
    "    training_time = time.time() - start_time\n",
    "    memory_stats = memory_tracker.get_memory_stats()\n",
    "    \n",
    "    return {\n",
    "        \"losses\": losses,\n",
    "        \"avg_loss\": np.mean(losses),\n",
    "        \"final_loss\": losses[-1],\n",
    "        \"training_time\": training_time,\n",
    "        \"steps_per_sec\": num_steps / training_time,\n",
    "        \"peak_memory_gb\": memory_stats[\"peak\"]\n",
    "    }"
   ]
  },
  {
   "cell_type": "code",
   "execution_count": 5,
   "metadata": {},
   "outputs": [
    {
     "name": "stdout",
     "output_type": "stream",
     "text": [
      "============================================================\n",
      "實驗 1: FP32 標準訓練\n",
      "============================================================\n",
      "\n",
      "載入 GPT-2 Small (124M 參數)...\n",
      "模型參數量: 124.4M\n",
      "模型設備: cuda:0\n",
      "模型精度: torch.float32\n",
      "\n",
      "開始訓練...\n"
     ]
    },
    {
     "data": {
      "application/vnd.jupyter.widget-view+json": {
       "model_id": "a58bf958e4d0468aac68555f7caaa3b9",
       "version_major": 2,
       "version_minor": 0
      },
      "text/plain": [
       "Training:   0%|          | 0/100 [00:00<?, ?it/s]"
      ]
     },
     "metadata": {},
     "output_type": "display_data"
    },
    {
     "name": "stderr",
     "output_type": "stream",
     "text": [
      "`loss_type=None` was set in the config but it is unrecognized. Using the default loss: `ForCausalLMLoss`.\n"
     ]
    },
    {
     "name": "stdout",
     "output_type": "stream",
     "text": [
      "\n",
      "============================================================\n",
      "FP32 訓練結果\n",
      "============================================================\n",
      "平均 Loss: 0.0951\n",
      "最終 Loss: 0.0180\n",
      "訓練時間: 13.49 秒\n",
      "訓練速度: 7.41 steps/sec\n",
      "峰值記憶體: 2.66 GB\n"
     ]
    }
   ],
   "source": [
    "# FP32 基準測試\n",
    "print(\"=\" * 60)\n",
    "print(\"實驗 1: FP32 標準訓練\")\n",
    "print(\"=\" * 60)\n",
    "\n",
    "# 載入模型\n",
    "print(\"\\n載入 GPT-2 Small (124M 參數)...\")\n",
    "model_fp32 = GPT2LMHeadModel.from_pretrained(\"gpt2\")\n",
    "device = torch.device(\"cuda\" if torch.cuda.is_available() else \"cpu\")\n",
    "model_fp32 = model_fp32.to(device)\n",
    "\n",
    "print(f\"模型參數量: {sum(p.numel() for p in model_fp32.parameters()) / 1e6:.1f}M\")\n",
    "print(f\"模型設備: {next(model_fp32.parameters()).device}\")\n",
    "print(f\"模型精度: {next(model_fp32.parameters()).dtype}\")\n",
    "\n",
    "# 初始化優化器\n",
    "optimizer_fp32 = torch.optim.AdamW(model_fp32.parameters(), lr=5e-5)\n",
    "\n",
    "# 訓練\n",
    "print(\"\\n開始訓練...\")\n",
    "results_fp32 = train_model(\n",
    "    model=model_fp32,\n",
    "    dataloader=train_loader,\n",
    "    optimizer=optimizer_fp32,\n",
    "    device=device,\n",
    "    num_steps=100,\n",
    "    use_amp=False\n",
    ")\n",
    "\n",
    "# 顯示結果\n",
    "print(\"\\n\" + \"=\" * 60)\n",
    "print(\"FP32 訓練結果\")\n",
    "print(\"=\" * 60)\n",
    "print(f\"平均 Loss: {results_fp32['avg_loss']:.4f}\")\n",
    "print(f\"最終 Loss: {results_fp32['final_loss']:.4f}\")\n",
    "print(f\"訓練時間: {results_fp32['training_time']:.2f} 秒\")\n",
    "print(f\"訓練速度: {results_fp32['steps_per_sec']:.2f} steps/sec\")\n",
    "print(f\"峰值記憶體: {results_fp32['peak_memory_gb']:.2f} GB\")\n",
    "\n",
    "# 清理記憶體\n",
    "del model_fp32, optimizer_fp32\n",
    "memory_tracker.reset()"
   ]
  },
  {
   "cell_type": "markdown",
   "metadata": {},
   "source": [
    "## 6. 實驗 2: FP16 混合精度訓練"
   ]
  },
  {
   "cell_type": "code",
   "execution_count": 6,
   "metadata": {},
   "outputs": [
    {
     "name": "stdout",
     "output_type": "stream",
     "text": [
      "============================================================\n",
      "實驗 2: FP16 混合精度訓練\n",
      "============================================================\n",
      "\n",
      "載入 GPT-2 Small (124M 參數)...\n",
      "\n",
      "開始 FP16 混合精度訓練...\n",
      "⚡ 使用 torch.cuda.amp.autocast(dtype=torch.float16)\n"
     ]
    },
    {
     "name": "stderr",
     "output_type": "stream",
     "text": [
      "/tmp/ipykernel_3623308/3381723327.py:18: FutureWarning: `torch.cuda.amp.GradScaler(args...)` is deprecated. Please use `torch.amp.GradScaler('cuda', args...)` instead.\n",
      "  scaler = GradScaler() if use_amp else None\n"
     ]
    },
    {
     "data": {
      "application/vnd.jupyter.widget-view+json": {
       "model_id": "8b80e0b1848b4372b43e7264e825902a",
       "version_major": 2,
       "version_minor": 0
      },
      "text/plain": [
       "Training:   0%|          | 0/100 [00:00<?, ?it/s]"
      ]
     },
     "metadata": {},
     "output_type": "display_data"
    },
    {
     "name": "stderr",
     "output_type": "stream",
     "text": [
      "/tmp/ipykernel_3623308/3381723327.py:44: FutureWarning: `torch.cuda.amp.autocast(args...)` is deprecated. Please use `torch.amp.autocast('cuda', args...)` instead.\n",
      "  with autocast(dtype=dtype if dtype else torch.float16):\n"
     ]
    },
    {
     "name": "stdout",
     "output_type": "stream",
     "text": [
      "\n",
      "============================================================\n",
      "FP16 訓練結果\n",
      "============================================================\n",
      "平均 Loss: 0.2088\n",
      "最終 Loss: 0.0213\n",
      "訓練時間: 11.09 秒\n",
      "訓練速度: 9.02 steps/sec\n",
      "峰值記憶體: 2.59 GB\n"
     ]
    }
   ],
   "source": [
    "print(\"=\" * 60)\n",
    "print(\"實驗 2: FP16 混合精度訓練\")\n",
    "print(\"=\" * 60)\n",
    "\n",
    "# 載入新模型\n",
    "print(\"\\n載入 GPT-2 Small (124M 參數)...\")\n",
    "model_fp16 = GPT2LMHeadModel.from_pretrained(\"gpt2\")\n",
    "model_fp16 = model_fp16.to(device)\n",
    "\n",
    "# 初始化優化器\n",
    "optimizer_fp16 = torch.optim.AdamW(model_fp16.parameters(), lr=5e-5)\n",
    "\n",
    "# 訓練 (使用 AMP)\n",
    "print(\"\\n開始 FP16 混合精度訓練...\")\n",
    "print(\"⚡ 使用 torch.cuda.amp.autocast(dtype=torch.float16)\")\n",
    "results_fp16 = train_model(\n",
    "    model=model_fp16,\n",
    "    dataloader=train_loader,\n",
    "    optimizer=optimizer_fp16,\n",
    "    device=device,\n",
    "    num_steps=100,\n",
    "    use_amp=True,\n",
    "    dtype=torch.float16\n",
    ")\n",
    "\n",
    "# 顯示結果\n",
    "print(\"\\n\" + \"=\" * 60)\n",
    "print(\"FP16 訓練結果\")\n",
    "print(\"=\" * 60)\n",
    "print(f\"平均 Loss: {results_fp16['avg_loss']:.4f}\")\n",
    "print(f\"最終 Loss: {results_fp16['final_loss']:.4f}\")\n",
    "print(f\"訓練時間: {results_fp16['training_time']:.2f} 秒\")\n",
    "print(f\"訓練速度: {results_fp16['steps_per_sec']:.2f} steps/sec\")\n",
    "print(f\"峰值記憶體: {results_fp16['peak_memory_gb']:.2f} GB\")\n",
    "\n",
    "# 清理記憶體\n",
    "del model_fp16, optimizer_fp16\n",
    "memory_tracker.reset()"
   ]
  },
  {
   "cell_type": "markdown",
   "metadata": {},
   "source": [
    "## 7. 實驗 3: BF16 混合精度訓練 (可選)"
   ]
  },
  {
   "cell_type": "code",
   "execution_count": 7,
   "metadata": {},
   "outputs": [
    {
     "name": "stdout",
     "output_type": "stream",
     "text": [
      "============================================================\n",
      "實驗 3: BF16 混合精度訓練\n",
      "============================================================\n",
      "\n",
      "載入 GPT-2 Small (124M 參數)...\n",
      "\n",
      "開始 BF16 混合精度訓練...\n",
      "⚡ 使用 torch.cuda.amp.autocast(dtype=torch.bfloat16)\n"
     ]
    },
    {
     "name": "stderr",
     "output_type": "stream",
     "text": [
      "/tmp/ipykernel_3623308/3381723327.py:18: FutureWarning: `torch.cuda.amp.GradScaler(args...)` is deprecated. Please use `torch.amp.GradScaler('cuda', args...)` instead.\n",
      "  scaler = GradScaler() if use_amp else None\n"
     ]
    },
    {
     "data": {
      "application/vnd.jupyter.widget-view+json": {
       "model_id": "d485be2584da44989afb8ca20af89a14",
       "version_major": 2,
       "version_minor": 0
      },
      "text/plain": [
       "Training:   0%|          | 0/100 [00:00<?, ?it/s]"
      ]
     },
     "metadata": {},
     "output_type": "display_data"
    },
    {
     "name": "stderr",
     "output_type": "stream",
     "text": [
      "/tmp/ipykernel_3623308/3381723327.py:44: FutureWarning: `torch.cuda.amp.autocast(args...)` is deprecated. Please use `torch.amp.autocast('cuda', args...)` instead.\n",
      "  with autocast(dtype=dtype if dtype else torch.float16):\n"
     ]
    },
    {
     "name": "stdout",
     "output_type": "stream",
     "text": [
      "\n",
      "============================================================\n",
      "BF16 訓練結果\n",
      "============================================================\n",
      "平均 Loss: 0.0956\n",
      "最終 Loss: 0.0236\n",
      "訓練時間: 10.97 秒\n",
      "訓練速度: 9.11 steps/sec\n",
      "峰值記憶體: 2.59 GB\n"
     ]
    }
   ],
   "source": [
    "# 檢查 GPU 是否支持 BF16\n",
    "bf16_supported = torch.cuda.is_available() and torch.cuda.is_bf16_supported()\n",
    "\n",
    "if bf16_supported:\n",
    "    print(\"=\" * 60)\n",
    "    print(\"實驗 3: BF16 混合精度訓練\")\n",
    "    print(\"=\" * 60)\n",
    "    \n",
    "    # 載入新模型\n",
    "    print(\"\\n載入 GPT-2 Small (124M 參數)...\")\n",
    "    model_bf16 = GPT2LMHeadModel.from_pretrained(\"gpt2\")\n",
    "    model_bf16 = model_bf16.to(device)\n",
    "    \n",
    "    # 初始化優化器\n",
    "    optimizer_bf16 = torch.optim.AdamW(model_bf16.parameters(), lr=5e-5)\n",
    "    \n",
    "    # 訓練 (使用 BF16 AMP)\n",
    "    print(\"\\n開始 BF16 混合精度訓練...\")\n",
    "    print(\"⚡ 使用 torch.cuda.amp.autocast(dtype=torch.bfloat16)\")\n",
    "    results_bf16 = train_model(\n",
    "        model=model_bf16,\n",
    "        dataloader=train_loader,\n",
    "        optimizer=optimizer_bf16,\n",
    "        device=device,\n",
    "        num_steps=100,\n",
    "        use_amp=True,\n",
    "        dtype=torch.bfloat16\n",
    "    )\n",
    "    \n",
    "    # 顯示結果\n",
    "    print(\"\\n\" + \"=\" * 60)\n",
    "    print(\"BF16 訓練結果\")\n",
    "    print(\"=\" * 60)\n",
    "    print(f\"平均 Loss: {results_bf16['avg_loss']:.4f}\")\n",
    "    print(f\"最終 Loss: {results_bf16['final_loss']:.4f}\")\n",
    "    print(f\"訓練時間: {results_bf16['training_time']:.2f} 秒\")\n",
    "    print(f\"訓練速度: {results_bf16['steps_per_sec']:.2f} steps/sec\")\n",
    "    print(f\"峰值記憶體: {results_bf16['peak_memory_gb']:.2f} GB\")\n",
    "    \n",
    "    # 清理記憶體\n",
    "    del model_bf16, optimizer_bf16\n",
    "    memory_tracker.reset()\n",
    "else:\n",
    "    print(\"⚠️ 當前 GPU 不支持 BF16, 跳過 BF16 實驗\")\n",
    "    results_bf16 = None"
   ]
  },
  {
   "cell_type": "markdown",
   "metadata": {},
   "source": [
    "## 8. 性能對比分析"
   ]
  },
  {
   "cell_type": "code",
   "execution_count": 8,
   "metadata": {},
   "outputs": [
    {
     "name": "stdout",
     "output_type": "stream",
     "text": [
      "\n",
      "================================================================================\n",
      "性能對比總結\n",
      "================================================================================\n",
      "Precision    Avg Loss     Time (s)     Speed           Memory (GB) \n",
      "--------------------------------------------------------------------------------\n",
      "FP32         0.0951       13.49        7.41            2.66        \n",
      "FP16         0.2088       11.09        9.02            2.59        \n",
      "BF16         0.0956       10.97        9.11            2.59        \n",
      "\n",
      "================================================================================\n",
      "相對於 FP32 的提升\n",
      "================================================================================\n",
      "FP16: 速度提升 1.22x, 記憶體節省 2.6%\n",
      "BF16: 速度提升 1.23x, 記憶體節省 2.6%\n"
     ]
    }
   ],
   "source": [
    "# 整理結果\n",
    "comparison_data = {\n",
    "    \"Precision\": [\"FP32\", \"FP16\"],\n",
    "    \"Avg Loss\": [results_fp32[\"avg_loss\"], results_fp16[\"avg_loss\"]],\n",
    "    \"Training Time (s)\": [results_fp32[\"training_time\"], results_fp16[\"training_time\"]],\n",
    "    \"Speed (steps/s)\": [results_fp32[\"steps_per_sec\"], results_fp16[\"steps_per_sec\"]],\n",
    "    \"Peak Memory (GB)\": [results_fp32[\"peak_memory_gb\"], results_fp16[\"peak_memory_gb\"]]\n",
    "}\n",
    "\n",
    "if results_bf16:\n",
    "    comparison_data[\"Precision\"].append(\"BF16\")\n",
    "    comparison_data[\"Avg Loss\"].append(results_bf16[\"avg_loss\"])\n",
    "    comparison_data[\"Training Time (s)\"].append(results_bf16[\"training_time\"])\n",
    "    comparison_data[\"Speed (steps/s)\"].append(results_bf16[\"steps_per_sec\"])\n",
    "    comparison_data[\"Peak Memory (GB)\"].append(results_bf16[\"peak_memory_gb\"])\n",
    "\n",
    "# 打印對比表格\n",
    "print(\"\\n\" + \"=\" * 80)\n",
    "print(\"性能對比總結\")\n",
    "print(\"=\" * 80)\n",
    "print(f\"{'Precision':<12} {'Avg Loss':<12} {'Time (s)':<12} {'Speed':<15} {'Memory (GB)':<12}\")\n",
    "print(\"-\" * 80)\n",
    "for i in range(len(comparison_data[\"Precision\"])):\n",
    "    print(f\"{comparison_data['Precision'][i]:<12} \"\n",
    "          f\"{comparison_data['Avg Loss'][i]:<12.4f} \"\n",
    "          f\"{comparison_data['Training Time (s)'][i]:<12.2f} \"\n",
    "          f\"{comparison_data['Speed (steps/s)'][i]:<15.2f} \"\n",
    "          f\"{comparison_data['Peak Memory (GB)'][i]:<12.2f}\")\n",
    "\n",
    "# 計算提升百分比 (相對於 FP32)\n",
    "print(\"\\n\" + \"=\" * 80)\n",
    "print(\"相對於 FP32 的提升\")\n",
    "print(\"=\" * 80)\n",
    "\n",
    "fp32_time = results_fp32[\"training_time\"]\n",
    "fp32_memory = results_fp32[\"peak_memory_gb\"]\n",
    "\n",
    "for i, prec in enumerate(comparison_data[\"Precision\"]):\n",
    "    if prec != \"FP32\":\n",
    "        time_speedup = (fp32_time / comparison_data[\"Training Time (s)\"][i])\n",
    "        memory_saving = ((fp32_memory - comparison_data[\"Peak Memory (GB)\"][i]) / fp32_memory * 100)\n",
    "        print(f\"{prec}: 速度提升 {time_speedup:.2f}x, 記憶體節省 {memory_saving:.1f}%\")"
   ]
  },
  {
   "cell_type": "markdown",
   "metadata": {},
   "source": [
    "## 9. 視覺化對比"
   ]
  },
  {
   "cell_type": "code",
   "execution_count": 21,
   "metadata": {},
   "outputs": [
    {
     "name": "stdout",
     "output_type": "stream",
     "text": [
      "['DejaVu Sans', 'cmb10', 'STIXGeneral', 'cmss10', 'DejaVu Serif', 'DejaVu Sans Display', 'cmmi10', 'STIXSizeThreeSym', 'DejaVu Sans', 'STIXNonUnicode', 'STIXSizeOneSym', 'STIXGeneral', 'STIXGeneral', 'cmr10', 'DejaVu Sans Mono', 'DejaVu Sans Mono', 'STIXSizeOneSym', 'DejaVu Serif', 'DejaVu Serif Display', 'STIXNonUnicode', 'STIXSizeThreeSym', 'STIXGeneral', 'DejaVu Sans Mono', 'DejaVu Sans', 'STIXNonUnicode', 'DejaVu Sans', 'DejaVu Serif', 'STIXSizeFiveSym', 'cmex10', 'STIXSizeTwoSym', 'cmtt10', 'STIXSizeFourSym', 'STIXSizeTwoSym', 'DejaVu Sans Mono', 'DejaVu Serif', 'STIXSizeFourSym', 'cmsy10', 'STIXNonUnicode', 'Jamrul', 'Saab', 'DejaVu Serif', 'Tlwg Typewriter', 'Liberation Serif', 'Manjari', 'Ubuntu', 'Sarai', 'Keraleeyam', 'aakar', 'DejaVu Serif', 'Tlwg Mono', 'Lohit Odia', 'Liberation Mono', 'Samyak Malayalam', 'Vemana2000', 'Gubbi', 'Tlwg Typist', 'TenaliRamakrishna', 'Laksaman', 'FreeSerif', 'Suranna', 'DejaVu Sans', 'Noto Sans Mono', 'Ramabhadra', 'KacstTitleL', 'Sawasdee', 'Lohit Assamese', 'Gayathri', 'Samyak Gujarati', 'DejaVu Sans', 'Nimbus Sans Narrow', 'Lohit Bengali', 'C059', 'Tlwg Typewriter', 'URW Gothic', 'Yrsa', 'URW Bookman', 'KacstOne', 'Nimbus Roman', 'Waree', 'Rasa', 'Yrsa', 'FreeSerif', 'Liberation Serif', 'Ani', 'Timmana', 'Loma', 'Mukti', 'Z003', 'Yrsa', 'Lohit Gujarati', 'Khmer OS System', 'DejaVu Serif', 'OpenSymbol', 'DejaVu Sans', 'Lohit Malayalam', 'P052', 'Gargi', 'Norasi', 'Garuda', 'Ubuntu', 'Umpush', 'NTR', 'Umpush', 'Nimbus Sans', 'Karumbi', 'Tlwg Typo', 'Nimbus Sans Narrow', 'Liberation Sans', 'Ubuntu Mono', 'Mukti', 'WenQuanYi Zen Hei', 'D050000L', 'Liberation Sans Narrow', 'Liberation Sans', 'Uroob', 'DejaVu Sans', 'AnjaliOldLipi', 'DejaVu Sans', 'Gidugu', 'FreeSans', 'Kalimati', 'URW Gothic', 'Kinnari', 'FreeSans', 'Nimbus Sans', 'Ubuntu', 'Umpush', 'Loma', 'FreeSerif', 'C059', 'P052', 'Lohit Telugu', 'Umpush', 'FreeMono', 'Norasi', 'Norasi', 'Droid Sans Fallback', 'Nimbus Roman', 'Nimbus Roman', 'DejaVu Serif', 'Sawasdee', 'Liberation Sans', 'Liberation Sans', 'Purisa', 'DejaVu Sans Mono', 'Sawasdee', 'Umpush', 'Ubuntu Mono', 'KacstArt', 'Tlwg Mono', 'Mallanna', 'Nimbus Sans Narrow', 'Tlwg Typo', 'KacstLetter', 'Garuda', 'Laksaman', 'Manjari', 'KacstQurn', 'DejaVu Sans', 'Samanata', 'Dyuthi', 'Manjari', 'Liberation Sans', 'KacstTitle', 'Liberation Sans', 'Yrsa', 'Suravaram', 'RaviPrakash', 'Sree Krushnadevaraya', 'Chilanka', 'Kinnari', 'Padauk Book', 'Liberation Serif', 'Suruma', 'Chandas', 'Nimbus Mono PS', 'Liberation Serif', 'Nimbus Mono PS', 'URW Bookman', 'Tlwg Typist', 'Rasa', 'Ubuntu', 'Lohit Devanagari', 'Rachana', 'Navilu', 'FreeSans', 'Gurajada', 'Ramaraja', 'Liberation Mono', 'Garuda', 'Ubuntu Mono', 'DejaVu Serif', 'LakkiReddy', 'Ubuntu Condensed', 'Norasi', 'Nimbus Mono PS', 'Peddana', 'KacstFarsi', 'Lohit Tamil', 'KacstPen', 'Laksaman', 'Purisa', 'KacstBook', 'Dhurjati', 'DejaVu Sans', 'URW Gothic', 'KacstDecorative', 'P052', 'URW Gothic', 'DejaVu Sans Mono', 'Liberation Sans', 'Nakula', 'Ubuntu', 'DejaVu Sans', 'Tlwg Typewriter', 'Loma', 'Noto Serif CJK JP', 'Pagul', 'DejaVu Sans Mono', 'padmaa', 'Tlwg Typo', 'Liberation Mono', 'FreeMono', 'Potti Sreeramulu', 'Khmer OS', 'C059', 'Waree', 'Norasi', 'Yrsa', 'Waree', 'LKLUG', 'Nimbus Roman', 'DejaVu Serif', 'FreeMono', 'Nimbus Sans', 'P052', 'Liberation Serif', 'Ponnala', 'Nimbus Sans Narrow', 'DejaVu Sans Mono', 'Padauk', 'Noto Mono', 'Liberation Mono', 'Liberation Mono', 'Waree', 'Likhan', 'Tlwg Typist', 'Liberation Sans', 'FreeSerif', 'KacstOne', 'Tlwg Mono', 'Loma', 'Umpush', 'ori1Uni', 'Liberation Mono', 'Abyssinica SIL', 'Noto Sans Mono', 'Rachana', 'Ubuntu', 'C059', 'DejaVu Math TeX Gyre', 'Tibetan Machine Uni', 'Mitra ', 'Garuda', 'Yrsa', 'Tlwg Typo', 'Liberation Sans Narrow', 'Lohit Kannada', 'KacstScreen', 'Norasi', 'Yrsa', 'padmaa-Bold.1.1', 'Tlwg Mono', 'Noto Sans CJK JP', 'Liberation Serif', 'Rekha', 'KacstDigital', 'Yrsa', 'Gayathri', 'Samyak Devanagari', 'mry_KacstQurn', 'Kalapi', 'Mandali', 'Sawasdee', 'NATS', 'Ubuntu', 'RaghuMalayalamSans', 'DejaVu Serif', 'Rasa', 'Phetsarath OT', 'Yrsa', 'Liberation Mono', 'Samyak Tamil', 'Rasa', 'KacstNaskh', 'Padauk', 'Liberation Serif', 'Nimbus Sans', 'Yrsa', 'DejaVu Sans', 'Lohit Tamil Classical', 'Rasa', 'padmaa', 'Nimbus Mono PS', 'Padauk Book', 'Tlwg Typewriter', 'Syamala Ramana', 'Meera', 'Ubuntu Mono', 'Liberation Sans Narrow', 'URW Bookman', 'Tlwg Typist', 'KacstOffice', 'Lohit Gurmukhi', 'Kinnari', 'Liberation Mono', 'Noto Sans CJK JP', 'Kinnari', 'Purisa', 'Noto Serif CJK JP', 'URW Bookman', 'Purisa', 'DejaVu Serif', 'FreeSans', 'Laksaman', 'Kinnari', 'Liberation Sans Narrow', 'Kinnari', 'Ubuntu', 'Sahadeva', 'Liberation Serif', 'FreeMono', 'Standard Symbols PS', 'KacstPoster', 'Pothana2000', 'Ubuntu', 'Gayathri']\n"
     ]
    }
   ],
   "source": [
    "import matplotlib.font_manager\n",
    "print([f.name for f in matplotlib.font_manager.fontManager.ttflist])\n"
   ]
  },
  {
   "cell_type": "code",
   "execution_count": 26,
   "metadata": {},
   "outputs": [],
   "source": [
    "import matplotlib.pyplot as plt\n",
    "from matplotlib import font_manager, rcParams\n",
    "\n",
    "# 設定字型為 Noto Sans CJK TC\n",
    "rcParams['font.sans-serif'] = ['Noto Sans CJK JP']\n",
    "rcParams['axes.unicode_minus'] = False  # 避免負號顯示錯誤\n"
   ]
  },
  {
   "cell_type": "code",
   "execution_count": 27,
   "metadata": {},
   "outputs": [
    {
     "data": {
      "image/png": "[encoded data removed]",
      "text/plain": [
       "<Figure size 1400x1000 with 4 Axes>"
      ]
     },
     "metadata": {},
     "output_type": "display_data"
    }
   ],
   "source": [
    "# 創建對比圖表\n",
    "fig, axes = plt.subplots(2, 2, figsize=(14, 10))\n",
    "fig.suptitle(\"混合精度訓練性能對比\", fontsize=16, fontweight=\"bold\")\n",
    "\n",
    "precisions = comparison_data[\"Precision\"]\n",
    "colors = [\"#3498db\", \"#e74c3c\", \"#2ecc71\"][:len(precisions)]\n",
    "\n",
    "# 1. 訓練時間對比\n",
    "axes[0, 0].bar(precisions, comparison_data[\"Training Time (s)\"], color=colors)\n",
    "axes[0, 0].set_title(\"訓練時間對比\", fontsize=12, fontweight=\"bold\")\n",
    "axes[0, 0].set_ylabel(\"時間 (秒)\")\n",
    "axes[0, 0].grid(axis=\"y\", alpha=0.3)\n",
    "\n",
    "# 2. 訓練速度對比\n",
    "axes[0, 1].bar(precisions, comparison_data[\"Speed (steps/s)\"], color=colors)\n",
    "axes[0, 1].set_title(\"訓練速度對比\", fontsize=12, fontweight=\"bold\")\n",
    "axes[0, 1].set_ylabel(\"速度 (steps/sec)\")\n",
    "axes[0, 1].grid(axis=\"y\", alpha=0.3)\n",
    "\n",
    "# 3. 記憶體使用對比\n",
    "axes[1, 0].bar(precisions, comparison_data[\"Peak Memory (GB)\"], color=colors)\n",
    "axes[1, 0].set_title(\"峰值記憶體使用\", fontsize=12, fontweight=\"bold\")\n",
    "axes[1, 0].set_ylabel(\"記憶體 (GB)\")\n",
    "axes[1, 0].grid(axis=\"y\", alpha=0.3)\n",
    "\n",
    "# 4. Loss 曲線對比\n",
    "axes[1, 1].plot(results_fp32[\"losses\"], label=\"FP32\", linewidth=2, color=colors[0])\n",
    "axes[1, 1].plot(results_fp16[\"losses\"], label=\"FP16\", linewidth=2, color=colors[1])\n",
    "if results_bf16:\n",
    "    axes[1, 1].plot(results_bf16[\"losses\"], label=\"BF16\", linewidth=2, color=colors[2])\n",
    "axes[1, 1].set_title(\"訓練 Loss 曲線\", fontsize=12, fontweight=\"bold\")\n",
    "axes[1, 1].set_xlabel(\"Step\")\n",
    "axes[1, 1].set_ylabel(\"Loss\")\n",
    "axes[1, 1].legend()\n",
    "axes[1, 1].grid(alpha=0.3)\n",
    "\n",
    "plt.tight_layout()\n",
    "plt.show()"
   ]
  },
  {
   "cell_type": "markdown",
   "metadata": {},
   "source": [
    "## 10. 動態損失縮放演示"
   ]
  },
  {
   "cell_type": "code",
   "execution_count": null,
   "metadata": {},
   "outputs": [
    {
     "name": "stdout",
     "output_type": "stream",
     "text": [
      "============================================================\n",
      "動態損失縮放 (GradScaler) 演示\n",
      "============================================================\n",
      "\n",
      "初始損失縮放因子: 65536\n",
      "Step  0: 損失縮放因子 = 65536\n",
      "Step 10: 損失縮放因子 = 32768\n",
      "Step 11: 損失縮放因子 = 16384\n",
      "Step 19: 損失縮放因子 = 64\n"
     ]
    },
    {
     "data": {
      "image/png": "[encoded data removed]",
      "text/plain": [
       "<Figure size 1000x500 with 1 Axes>"
      ]
     },
     "metadata": {},
     "output_type": "display_data"
    },
    {
     "name": "stdout",
     "output_type": "stream",
     "text": [
      "\n",
      "說明: 在 Step 10 模擬梯度異常, GradScaler 自動降低縮放因子\n"
     ]
    }
   ],
   "source": [
    "print(\"=\" * 60)\n",
    "print(\"動態損失縮放 (GradScaler) 演示\")\n",
    "print(\"=\" * 60)\n",
    "\n",
    "# 創建一個簡單的模型和優化器\n",
    "simple_model = nn.Linear(10, 1).to(device)\n",
    "optimizer = torch.optim.SGD(simple_model.parameters(), lr=0.1)\n",
    "scaler = GradScaler()\n",
    "\n",
    "print(f\"\\n初始損失縮放因子: {scaler.get_scale():.0f}\")\n",
    "\n",
    "# 模擬訓練過程\n",
    "scales = []\n",
    "for step in range(20):\n",
    "    # 生成隨機輸入\n",
    "    x = torch.randn(32, 10, device=device)\n",
    "    y = torch.randn(32, 1, device=device)\n",
    "    \n",
    "    optimizer.zero_grad()\n",
    "    \n",
    "    with autocast(dtype=torch.float16, device_type=device.type):\n",
    "        output = simple_model(x)\n",
    "        loss = ((output - y) ** 2).mean()\n",
    "    \n",
    "    # autocast 用於自動將模型運算轉為指定的精度（如 float16），加速運算並節省記憶體，常搭配 GradScaler 使用以確保數值穩定。\n",
    "    # 用法：\n",
    "    # with autocast(dtype=目標精度, device_type='cuda'):\n",
    "    #     ... # 前向運算與 loss 計算自動轉型\n",
    "    # 例如本範例將 device 型態傳入，確保在 CUDA 裝置上自動生效。\n",
    "\n",
    "    scaler.scale(loss).backward()\n",
    "    \n",
    "    # 模擬梯度異常 (在第10步)\n",
    "    if step == 10:\n",
    "        # 製造 inf/nan\n",
    "        for param in simple_model.parameters():\n",
    "            if param.grad is not None:\n",
    "                param.grad.data = param.grad.data * 1e10\n",
    "    \n",
    "    # 模擬梯度異常 (在第10步) 說明用意:\n",
    "    # 在混合精度訓練中，梯度計算過程可能因數值溢出而產生無窮大（inf）或非數字（nan），\n",
    "    # 這會導致參數更新異常甚至訓練崩潰。PyTorch 的 GradScaler 能夠自動偵測這類異常，\n",
    "    # 並在發現時動態減小損失縮放因子，以重獲數值穩定。\n",
    "    # 這裡我們在第 10 步手動將梯度擴大，刻意導致梯度出現 inf/nan，\n",
    "    # 以觀察 GradScaler 如何響應這一異常情況並調整 scale。\n",
    "\n",
    "    scaler.step(optimizer)\n",
    "    scaler.update()\n",
    "    \n",
    "    current_scale = scaler.get_scale()\n",
    "    scales.append(current_scale)\n",
    "    \n",
    "    if step in [0, 10, 11, 19]:\n",
    "        print(f\"Step {step:2d}: 損失縮放因子 = {current_scale:.0f}\")\n",
    "\n",
    "# 繪製損失縮放變化\n",
    "plt.figure(figsize=(10, 5))\n",
    "plt.plot(scales, marker=\"o\", linewidth=2)\n",
    "plt.axvline(x=10, color=\"r\", linestyle=\"--\", label=\"梯度異常點\")\n",
    "plt.title(\"動態損失縮放因子變化\", fontsize=14, fontweight=\"bold\")\n",
    "plt.xlabel(\"Training Step\")\n",
    "plt.ylabel(\"Loss Scale\")\n",
    "plt.yscale(\"log\")\n",
    "plt.legend()\n",
    "plt.grid(alpha=0.3)\n",
    "plt.tight_layout()\n",
    "plt.show()\n",
    "\n",
    "print(\"\\n說明: 在 Step 10 模擬梯度異常, GradScaler 自動降低縮放因子\")\n",
    "\n",
    "# 清理\n",
    "del simple_model, optimizer, scaler\n"
   ]
  },
  {
   "cell_type": "markdown",
   "metadata": {},
   "source": [
    "## 11. 實驗總結與最佳實踐\n",
    "\n",
    "### 實驗結論\n",
    "\n",
    "1. **記憶體節省**: FP16/BF16 可節省約 **50%** 記憶體\n",
    "2. **速度提升**: FP16/BF16 可提升 **2-3x** 訓練速度\n",
    "3. **精度影響**: 正確使用 AMP 時, 訓練效果與 FP32 基本相同\n",
    "4. **BF16 優勢**: BF16 數值範圍更大, 更穩定, 但需要 GPU 支持\n",
    "\n",
    "### 最佳實踐\n",
    "\n",
    "#### 何時使用混合精度?\n",
    "✅ **推薦場景**:\n",
    "- 所有現代 GPU 訓練 (Volta 架構以上)\n",
    "- 記憶體不足的情況\n",
    "- 需要加速訓練的場景\n",
    "\n",
    "❌ **不推薦場景**:\n",
    "- CPU 訓練\n",
    "- 老舊 GPU (GTX 10系列以下)\n",
    "- 對數值精度極度敏感的任務\n",
    "\n",
    "#### FP16 vs BF16 選擇\n",
    "\n",
    "**FP16**:\n",
    "- ✅ 更廣泛的 GPU 支持\n",
    "- ✅ 速度略快\n",
    "- ❌ 需要損失縮放\n",
    "- ❌ 數值範圍較小\n",
    "\n",
    "**BF16**:\n",
    "- ✅ 數值範圍與 FP32 相同\n",
    "- ✅ 訓練更穩定, 不需要損失縮放\n",
    "- ❌ 需要 Ampere 架構以上 (RTX 30系列+, A100等)\n",
    "\n",
    "### 常見問題處理\n",
    "\n",
    "#### 1. Loss 出現 NaN/Inf\n",
    "```python\n",
    "# 解決方案 1: 檢查損失縮放\n",
    "scaler = GradScaler(init_scale=2**10)  # 降低初始縮放\n",
    "\n",
    "# 解決方案 2: 添加梯度裁剪\n",
    "scaler.unscale_(optimizer)\n",
    "torch.nn.utils.clip_grad_norm_(model.parameters(), max_norm=1.0)\n",
    "scaler.step(optimizer)\n",
    "\n",
    "# 解決方案 3: 使用 BF16 替代 FP16\n",
    "with autocast(dtype=torch.bfloat16):\n",
    "    loss = model(**batch).loss\n",
    "```\n",
    "\n",
    "#### 2. 速度沒有提升\n",
    "```python\n",
    "# 檢查是否正確使用 GPU\n",
    "print(next(model.parameters()).device)  # 應該是 cuda\n",
    "\n",
    "# 檢查 AMP 是否正確啟用\n",
    "print(torch.is_autocast_enabled())  # autocast 內部應該是 True\n",
    "\n",
    "# 確保批次大小足夠大 (至少 8-16)\n",
    "```\n",
    "\n",
    "### 生產環境建議\n",
    "\n",
    "```python\n",
    "# 推薦的生產配置\n",
    "from torch.cuda.amp import autocast, GradScaler\n",
    "\n",
    "# 選擇合適的精度\n",
    "if torch.cuda.is_bf16_supported():\n",
    "    amp_dtype = torch.bfloat16\n",
    "    use_scaler = False  # BF16 不需要 scaler\n",
    "else:\n",
    "    amp_dtype = torch.float16\n",
    "    use_scaler = True\n",
    "    scaler = GradScaler()\n",
    "\n",
    "# 訓練循環\n",
    "for batch in dataloader:\n",
    "    optimizer.zero_grad()\n",
    "    \n",
    "    with autocast(dtype=amp_dtype):\n",
    "        loss = model(**batch).loss\n",
    "    \n",
    "    if use_scaler:\n",
    "        scaler.scale(loss).backward()\n",
    "        scaler.unscale_(optimizer)\n",
    "        torch.nn.utils.clip_grad_norm_(model.parameters(), max_norm=1.0)\n",
    "        scaler.step(optimizer)\n",
    "        scaler.update()\n",
    "    else:\n",
    "        loss.backward()\n",
    "        torch.nn.utils.clip_grad_norm_(model.parameters(), max_norm=1.0)\n",
    "        optimizer.step()\n",
    "```"
   ]
  },
  {
   "cell_type": "markdown",
   "metadata": {},
   "source": [
    "## 12. 下一步學習\n",
    "\n",
    "完成本 Notebook 後, 建議繼續學習:\n",
    "\n",
    "1. **02-Gradient_Accumulation.ipynb** - 梯度累積技術\n",
    "2. **03-Gradient_Checkpointing.ipynb** - 梯度檢查點\n",
    "3. **04-Memory_Profiling.ipynb** - 記憶體分析工具\n",
    "\n",
    "將混合精度訓練與其他優化技術組合使用, 可以達到最佳的訓練效率!"
   ]
  }
 ],
 "metadata": {
  "kernelspec": {
   "display_name": "LLM Engineering Course (Poetry)",
   "language": "python",
   "name": "llm-engineering-course"
  },
  "language_info": {
   "codemirror_mode": {
    "name": "ipython",
    "version": 3
   },
   "file_extension": ".py",
   "mimetype": "text/x-python",
   "name": "python",
   "nbconvert_exporter": "python",
   "pygments_lexer": "ipython3",
   "version": "3.10.12"
  }
 },
 "nbformat": 4,
 "nbformat_minor": 4
}
