{
  "cells": [
    {
      "cell_type": "markdown",
      "metadata": {},
      "source": [
        "# Lab 3: Prompt Tuning - Fine-Tuning a T5 Model for Summarization\n",
        "\n",
        "**Goal:** This lab explores **Prompt Tuning**, a PEFT method that keeps the entire pre-trained model frozen and only tunes a small number of \"soft prompt\" tokens that are prepended to the input. We will fine-tune a **T5 (Text-to-Text Transfer Transformer)** model for a text summarization task.\n",
        "\n",
        "**You will learn to:**\n",
        "-   Load a pre-trained T5 model and a summarization dataset (billsum).\n",
        "-   Understand and configure `PromptTuningConfig` from the `peft` library.\n",
        "-   Apply soft prompts to the base model using `peft`.\n",
        "-   Fine-tune the model by training *only* the soft prompt tokens.\n",
        "-   Perform inference using the fine-tuned model to generate summaries.\n",
        "\n",
        "---\n",
        "## Notebook 1: Environment Setup\n",
        "\n",
        "This notebook will prepare your environment for the Prompt Tuning lab. The required libraries are the same as the previous labs.\n"
      ]
    },
    {
      "cell_type": "markdown",
      "metadata": {},
      "source": [
        "### Step 1: Check for GPU\n",
        "\n",
        "A GPU is highly recommended for this lab to ensure the training process is efficient.\n"
      ]
    },
    {
      "cell_type": "code",
      "execution_count": null,
      "metadata": {},
      "outputs": [],
      "source": [
        "!nvidia-smi\n"
      ]
    },
    {
      "cell_type": "markdown",
      "metadata": {},
      "source": [
        "### Step 2: Install Core Libraries\n"
      ]
    },
    {
      "cell_type": "code",
      "execution_count": null,
      "metadata": {},
      "outputs": [],
      "source": [
        "%pip install -q transformers peft datasets accelerate\n"
      ]
    },
    {
      "cell_type": "markdown",
      "metadata": {},
      "source": [
        "### Step 3: Verify Installation\n"
      ]
    },
    {
      "cell_type": "code",
      "execution_count": null,
      "metadata": {},
      "outputs": [],
      "source": [
        "import torch\n",
        "import transformers\n",
        "import peft\n",
        "import datasets\n",
        "\n",
        "print(f\"PyTorch version: {torch.__version__}\")\n",
        "print(f\"Transformers version: {transformers.__version__}\")\n",
        "print(f\"PEFT version: {peft.__version__}\")\n",
        "print(f\"Datasets version: {datasets.__version__}\")\n",
        "\n",
        "print(\"\\n✅ Environment is set up correctly!\")\n"
      ]
    }
  ],
  "metadata": {
    "language_info": {
      "name": "python"
    }
  },
  "nbformat": 4,
  "nbformat_minor": 2
}
