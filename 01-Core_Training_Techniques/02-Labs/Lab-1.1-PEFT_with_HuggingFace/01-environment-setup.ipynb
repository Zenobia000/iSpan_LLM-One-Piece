{
  "cells": [
    {
      "cell_type": "markdown",
      "metadata": {},
      "source": [
        "# 1. 環境設定與函式庫安裝\n",
        "\n",
        "本筆記本旨在引導您完成 `Lab-1.1-PEFT_with_HuggingFace` 實驗所需的所有環境設定與 Python 函式庫安裝。\n",
        "\n",
        "## 步驟 1: 檢查硬體環境 (GPU)\n",
        "\n",
        "參數高效微調 (PEFT) 雖然能大幅降低資源需求，但對於大型語言模型 (LLM) 的微調，使用 GPU 仍然是必要的。以下指令將幫助您檢查系統中 NVIDIA GPU 的狀態。\n",
        "\n",
        "**如果您沒有 GPU，後續的訓練步驟將會非常緩慢甚至無法執行。**\n"
      ]
    },
    {
      "cell_type": "code",
      "execution_count": 2,
      "metadata": {},
      "outputs": [
        {
          "name": "stdout",
          "output_type": "stream",
          "text": [
            "Wed Oct  8 10:41:04 2025       \n",
            "+-----------------------------------------------------------------------------------------+\n",
            "| NVIDIA-SMI 575.64.03              Driver Version: 575.64.03      CUDA Version: 12.9     |\n",
            "|-----------------------------------------+------------------------+----------------------+\n",
            "| GPU  Name                 Persistence-M | Bus-Id          Disp.A | Volatile Uncorr. ECC |\n",
            "| Fan  Temp   Perf          Pwr:Usage/Cap |           Memory-Usage | GPU-Util  Compute M. |\n",
            "|                                         |                        |               MIG M. |\n",
            "|=========================================+========================+======================|\n",
            "|   0  NVIDIA RTX 2000 Ada Gene...    Off |   00000000:01:00.0 Off |                  Off |\n",
            "| 30%   34C    P0              8W /   70W |     256MiB /  16380MiB |      0%      Default |\n",
            "|                                         |                        |                  N/A |\n",
            "+-----------------------------------------+------------------------+----------------------+\n",
            "                                                                                         \n",
            "+-----------------------------------------------------------------------------------------+\n",
            "| Processes:                                                                              |\n",
            "|  GPU   GI   CI              PID   Type   Process name                        GPU Memory |\n",
            "|        ID   ID                                                               Usage      |\n",
            "|=========================================================================================|\n",
            "|    0   N/A  N/A            3180      G   /usr/lib/xorg/Xorg                       59MiB |\n",
            "|    0   N/A  N/A            3383      G   /usr/bin/gnome-shell                    144MiB |\n",
            "+-----------------------------------------------------------------------------------------+\n"
          ]
        }
      ],
      "source": [
        "!nvidia-smi\n"
      ]
    },
    {
      "cell_type": "markdown",
      "metadata": {},
      "source": [
        "## 步驟 2: 安裝核心函式庫\n",
        "\n",
        "接下來，我們將安裝本次實驗所需的核心函式庫。\n",
        "\n",
        "- `transformers`: Hugging Face 提供的模型庫，用於載入預訓練模型和 Tokenizer。\n",
        "- `peft`: Hugging Face 提供的參數高效微調函式庫，是本次實驗的主角。\n",
        "- `datasets`: 用於載入和處理 Hugging Face Hub 上的資料集。\n",
        "- `accelerate`: 簡化在不同硬體（CPU, GPU, TPU, 多 GPU）上運行 PyTorch 程式碼的工具。\n",
        "- `bitsandbytes`: 用於模型量化，是實現 QLoRA 的關鍵。\n",
        "- `sentencepiece` & `protobuf`: `transformers` 可能需要的依賴項。\n",
        "\n",
        "我們使用 `pip` 來進行安裝。`-q` 參數表示以靜默模式安裝，減少不必要的輸出。\n"
      ]
    },
    {
      "cell_type": "code",
      "execution_count": 3,
      "metadata": {},
      "outputs": [
        {
          "name": "stdout",
          "output_type": "stream",
          "text": [
            "Note: you may need to restart the kernel to use updated packages.\n"
          ]
        }
      ],
      "source": [
        "%pip install -q transformers peft datasets accelerate bitsandbytes sentencepiece protobuf\n"
      ]
    },
    {
      "cell_type": "code",
      "execution_count": 2,
      "metadata": {},
      "outputs": [
        {
          "name": "stdout",
          "output_type": "stream",
          "text": [
            "Defaulting to user installation because normal site-packages is not writeable\n",
            "Collecting ipywidgets\n",
            "  Downloading ipywidgets-8.1.7-py3-none-any.whl (139 kB)\n",
            "\u001b[2K     \u001b[90m━━━━━━━━━━━━━━━━━━━━━━━━━━━━━━━━━━━━━\u001b[0m \u001b[32m139.8/139.8 KB\u001b[0m \u001b[31m692.1 kB/s\u001b[0m eta \u001b[36m0:00:00\u001b[0ma \u001b[36m0:00:01\u001b[0m\n",
            "\u001b[?25hCollecting widgetsnbextension~=4.0.14\n",
            "  Downloading widgetsnbextension-4.0.14-py3-none-any.whl (2.2 MB)\n",
            "\u001b[2K     \u001b[90m━━━━━━━━━━━━━━━━━━━━━━━━━━━━━━━━━━━━━━━━\u001b[0m \u001b[32m2.2/2.2 MB\u001b[0m \u001b[31m5.4 MB/s\u001b[0m eta \u001b[36m0:00:00\u001b[0m00:01\u001b[0m00:01\u001b[0m\n",
            "\u001b[?25hCollecting jupyterlab_widgets~=3.0.15\n",
            "  Downloading jupyterlab_widgets-3.0.15-py3-none-any.whl (216 kB)\n",
            "\u001b[2K     \u001b[90m━━━━━━━━━━━━━━━━━━━━━━━━━━━━━━━━━━━━━━\u001b[0m \u001b[32m216.6/216.6 KB\u001b[0m \u001b[31m24.5 MB/s\u001b[0m eta \u001b[36m0:00:00\u001b[0m\n",
            "\u001b[?25hRequirement already satisfied: traitlets>=4.3.1 in /home/os-sunnie.gd.weng/.local/lib/python3.10/site-packages (from ipywidgets) (5.14.3)\n",
            "Requirement already satisfied: comm>=0.1.3 in /home/os-sunnie.gd.weng/.local/lib/python3.10/site-packages (from ipywidgets) (0.2.3)\n",
            "Requirement already satisfied: ipython>=6.1.0 in /home/os-sunnie.gd.weng/.local/lib/python3.10/site-packages (from ipywidgets) (8.37.0)\n",
            "Requirement already satisfied: exceptiongroup in /home/os-sunnie.gd.weng/.local/lib/python3.10/site-packages (from ipython>=6.1.0->ipywidgets) (1.3.0)\n",
            "Requirement already satisfied: jedi>=0.16 in /home/os-sunnie.gd.weng/.local/lib/python3.10/site-packages (from ipython>=6.1.0->ipywidgets) (0.19.2)\n",
            "Requirement already satisfied: decorator in /usr/lib/python3/dist-packages (from ipython>=6.1.0->ipywidgets) (4.4.2)\n",
            "Requirement already satisfied: pexpect>4.3 in /usr/lib/python3/dist-packages (from ipython>=6.1.0->ipywidgets) (4.8.0)\n",
            "Requirement already satisfied: matplotlib-inline in /home/os-sunnie.gd.weng/.local/lib/python3.10/site-packages (from ipython>=6.1.0->ipywidgets) (0.1.7)\n",
            "Requirement already satisfied: pygments>=2.4.0 in /home/os-sunnie.gd.weng/.local/lib/python3.10/site-packages (from ipython>=6.1.0->ipywidgets) (2.19.2)\n",
            "Requirement already satisfied: typing_extensions>=4.6 in /home/os-sunnie.gd.weng/.local/lib/python3.10/site-packages (from ipython>=6.1.0->ipywidgets) (4.15.0)\n",
            "Requirement already satisfied: stack_data in /home/os-sunnie.gd.weng/.local/lib/python3.10/site-packages (from ipython>=6.1.0->ipywidgets) (0.6.3)\n",
            "Requirement already satisfied: prompt_toolkit<3.1.0,>=3.0.41 in /home/os-sunnie.gd.weng/.local/lib/python3.10/site-packages (from ipython>=6.1.0->ipywidgets) (3.0.52)\n",
            "Requirement already satisfied: parso<0.9.0,>=0.8.4 in /home/os-sunnie.gd.weng/.local/lib/python3.10/site-packages (from jedi>=0.16->ipython>=6.1.0->ipywidgets) (0.8.5)\n",
            "Requirement already satisfied: wcwidth in /home/os-sunnie.gd.weng/.local/lib/python3.10/site-packages (from prompt_toolkit<3.1.0,>=3.0.41->ipython>=6.1.0->ipywidgets) (0.2.13)\n",
            "Requirement already satisfied: asttokens>=2.1.0 in /home/os-sunnie.gd.weng/.local/lib/python3.10/site-packages (from stack_data->ipython>=6.1.0->ipywidgets) (3.0.0)\n",
            "Requirement already satisfied: executing>=1.2.0 in /home/os-sunnie.gd.weng/.local/lib/python3.10/site-packages (from stack_data->ipython>=6.1.0->ipywidgets) (2.2.1)\n",
            "Requirement already satisfied: pure-eval in /home/os-sunnie.gd.weng/.local/lib/python3.10/site-packages (from stack_data->ipython>=6.1.0->ipywidgets) (0.2.3)\n",
            "Installing collected packages: widgetsnbextension, jupyterlab_widgets, ipywidgets\n",
            "Successfully installed ipywidgets-8.1.7 jupyterlab_widgets-3.0.15 widgetsnbextension-4.0.14\n",
            "Note: you may need to restart the kernel to use updated packages.\n"
          ]
        }
      ],
      "source": [
        "%pip install ipywidgets"
      ]
    },
    {
      "cell_type": "markdown",
      "metadata": {},
      "source": [
        "## 步驟 3: 驗證安裝\n",
        "\n",
        "安裝完成後，我們可以透過 `import` 指令來驗證核心函式庫是否安裝成功。如果以下程式碼區塊執行時沒有報錯，則表示您的環境已準備就緒。\n"
      ]
    },
    {
      "cell_type": "code",
      "execution_count": 3,
      "metadata": {},
      "outputs": [
        {
          "name": "stdout",
          "output_type": "stream",
          "text": [
            "PyTorch version: 2.5.1+cu121\n",
            "Transformers version: 4.57.0\n",
            "PEFT version: 0.17.1\n",
            "Datasets version: 4.1.1\n",
            "環境設定完成！您可以繼續下一個筆記本 `02-load-model-and-dataset.ipynb`。\n",
            "成功匯入 PreTrainedModel。\n"
          ]
        }
      ],
      "source": [
        "import torch\n",
        "import transformers\n",
        "import peft\n",
        "import datasets\n",
        "\n",
        "print(\"PyTorch version:\", torch.__version__)\n",
        "print(\"Transformers version:\", transformers.__version__)\n",
        "print(\"PEFT version:\", peft.__version__)\n",
        "print(\"Datasets version:\", datasets.__version__)\n",
        "\n",
        "print(\"環境設定完成！您可以繼續下一個筆記本 `02-load-model-and-dataset.ipynb`。\")\n",
        "\n",
        "# Debug: 檢查 transformers 版本與 PreTrainedModel 匯入問題\n",
        "\n",
        "try:\n",
        "    from transformers import PreTrainedModel\n",
        "    print(\"成功匯入 PreTrainedModel。\")\n",
        "except ImportError as e:\n",
        "    print(\"ImportError:\", e)\n",
        "    print(\"請檢查 transformers 版本，建議使用 4.28.0 以上版本。\")\n",
        "    print(\"目前 transformers 版本:\", transformers.__version__)\n",
        "    print(\"嘗試升級 transformers：\")\n",
        "    print(\"!pip install -U transformers\")\n",
        "\n"
      ]
    },
    {
      "cell_type": "code",
      "execution_count": null,
      "metadata": {},
      "outputs": [],
      "source": []
    }
  ],
  "metadata": {
    "kernelspec": {
      "display_name": "Python 3",
      "language": "python",
      "name": "python3"
    },
    "language_info": {
      "codemirror_mode": {
        "name": "ipython",
        "version": 3
      },
      "file_extension": ".py",
      "mimetype": "text/x-python",
      "name": "python",
      "nbconvert_exporter": "python",
      "pygments_lexer": "ipython3",
      "version": "3.11.9"
    }
  },
  "nbformat": 4,
  "nbformat_minor": 2
}
