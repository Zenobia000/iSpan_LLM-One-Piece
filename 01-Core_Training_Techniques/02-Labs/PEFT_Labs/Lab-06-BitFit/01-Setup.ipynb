{
  "cells": [
    {
      "cell_type": "markdown",
      "metadata": {},
      "source": [
        "# Lab 6: BitFit - Fine-Tuning a BERT Model by Only Training Bias Terms\n",
        "\n",
        "**Goal:** This lab explores **BitFit (Bias-term Fine-tuning)**, a highly parameter-efficient method that involves fine-tuning only the bias terms and the task-specific classification head of a model. This lab will demonstrate how to implement BitFit manually, without relying on a specific `peft` configuration. We will fine-tune a **BERT** model for text classification.\n",
        "\n",
        "**You will learn to:**\n",
        "-   Understand the core concept of BitFit.\n",
        "-   Manually iterate through model parameters to freeze and unfreeze specific components.\n",
        "-   Fine-tune a model where only the bias terms are trainable.\n",
        "-   Observe the extreme parameter efficiency of this method.\n",
        "\n",
        "---\n",
        "## Notebook 1: Environment Setup\n",
        "\n",
        "This notebook will prepare your environment for the BitFit lab. The required libraries are standard for `transformers`-based fine-tuning.\n"
      ]
    },
    {
      "cell_type": "markdown",
      "metadata": {},
      "source": [
        "### Step 1: Check for GPU\n"
      ]
    },
    {
      "cell_type": "code",
      "execution_count": null,
      "metadata": {},
      "outputs": [],
      "source": [
        "!nvidia-smi\n"
      ]
    },
    {
      "cell_type": "markdown",
      "metadata": {},
      "source": [
        "### Step 2: Install Core Libraries\n"
      ]
    },
    {
      "cell_type": "code",
      "execution_count": null,
      "metadata": {},
      "outputs": [],
      "source": [
        "%pip install -q transformers datasets accelerate\n"
      ]
    },
    {
      "cell_type": "markdown",
      "metadata": {},
      "source": [
        "### Step 3: Verify Installation\n"
      ]
    },
    {
      "cell_type": "code",
      "execution_count": null,
      "metadata": {},
      "outputs": [],
      "source": [
        "import torch\n",
        "import transformers\n",
        "import datasets\n",
        "\n",
        "print(f\"PyTorch version: {torch.__version__}\")\n",
        "print(f\"Transformers version: {transformers.__version__}\")\n",
        "print(f\"Datasets version: {datasets.__version__}\")\n",
        "\n",
        "print(\"\\n✅ Environment is set up correctly!\")\n"
      ]
    }
  ],
  "metadata": {
    "language_info": {
      "name": "python"
    }
  },
  "nbformat": 4,
  "nbformat_minor": 2
}
