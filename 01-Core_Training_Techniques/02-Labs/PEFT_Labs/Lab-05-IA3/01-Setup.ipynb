{
  "cells": [
    {
      "cell_type": "markdown",
      "metadata": {},
      "source": [
        "# Lab 5: (IA)³ - Fine-Tuning a GPT-2 Model with Extreme Parameter Efficiency\n",
        "\n",
        "**Goal:** This lab explores **(IA)³ (Infused Adapter by Inhibiting and Amplifying Inner Activations)**, one of the most parameter-efficient PEFT methods available. Instead of adding or reparameterizing large weight matrices, (IA)³ learns simple scaling vectors that are applied to the internal activations of the model. We will fine-tune the same **GPT-2** model on the same text generation task as the Prefix Tuning lab to directly compare the efficiency and effectiveness.\n",
        "\n",
        "**You will learn to:**\n",
        "-   Understand the core concept of (IA)³.\n",
        "-   Configure `IA3Config` from the `peft` library.\n",
        "-   Apply (IA)³ scaling vectors to a GPT-2 model.\n",
        "-   Observe the dramatic reduction in trainable parameters compared to other methods.\n",
        "-   Fine-tune the model by training *only* these scaling vectors.\n",
        "-   Perform inference with the (IA)³ fine-tuned model.\n",
        "\n",
        "---\n",
        "## Notebook 1: Environment Setup\n",
        "\n",
        "This notebook will prepare your environment for the (IA)³ lab. The setup is identical to the previous GPT-2 lab.\n"
      ]
    },
    {
      "cell_type": "markdown",
      "metadata": {},
      "source": [
        "### Step 1: Check for GPU\n"
      ]
    },
    {
      "cell_type": "code",
      "execution_count": null,
      "metadata": {},
      "outputs": [],
      "source": [
        "!nvidia-smi\n"
      ]
    },
    {
      "cell_type": "markdown",
      "metadata": {},
      "source": [
        "### Step 2: Install Core Libraries\n"
      ]
    },
    {
      "cell_type": "code",
      "execution_count": null,
      "metadata": {},
      "outputs": [],
      "source": [
        "%pip install -q transformers peft datasets accelerate\n"
      ]
    },
    {
      "cell_type": "markdown",
      "metadata": {},
      "source": [
        "### Step 3: Verify Installation\n"
      ]
    },
    {
      "cell_type": "code",
      "execution_count": null,
      "metadata": {},
      "outputs": [],
      "source": [
        "import torch\n",
        "import transformers\n",
        "import peft\n",
        "import datasets\n",
        "\n",
        "print(f\"PyTorch version: {torch.__version__}\")\n",
        "print(f\"Transformers version: {transformers.__version__}\")\n",
        "print(f\"PEFT version: {peft.__version__}\")\n",
        "print(f\"Datasets version: {datasets.__version__}\")\n",
        "\n",
        "print(\"\\n✅ Environment is set up correctly!\")\n"
      ]
    }
  ],
  "metadata": {
    "language_info": {
      "name": "python"
    }
  },
  "nbformat": 4,
  "nbformat_minor": 2
}
