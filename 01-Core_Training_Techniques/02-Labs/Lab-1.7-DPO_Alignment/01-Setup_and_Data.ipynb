{
 "cells": [
  {"cell_type": "markdown", "id": "0", "metadata": {}, "source": ["# Lab-1.7: DPO 環境與數據準備\n\n**目標**: 準備 DPO 訓練環境與偏好數據集"]},
  {"cell_type": "code", "execution_count": null, "id": "1", "metadata": {}, "outputs": [], "source": ["import torch\nfrom datasets import load_dataset\nfrom transformers import AutoTokenizer\n\nprint('✅ 環境準備完成')\n\n# 載入偏好數據集\ntry:\n    dataset = load_dataset('Anthropic/hh-rlhf', split='train[:1000]')\n    print(f'數據集大小: {len(dataset)}')\n    print(f'樣本: {dataset[0]}')\nexcept:\n    print('⚠️  數據集載入失敗, 使用模擬數據')"]}
 ]
}
