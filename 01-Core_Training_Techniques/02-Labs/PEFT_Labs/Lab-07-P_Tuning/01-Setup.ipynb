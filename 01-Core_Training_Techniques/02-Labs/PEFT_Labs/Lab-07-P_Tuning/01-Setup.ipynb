{
  "cells": [
    {
      "cell_type": "markdown",
      "metadata": {},
      "source": [
        "# Lab 7: P-Tuning - Fine-Tuning a BERT Model for NLU Tasks\n",
        "\n",
        "**Goal:** This lab explores **P-Tuning**, a PEFT method that uses trainable virtual tokens with a prompt encoder to adapt models for natural language understanding tasks. Unlike Prompt Tuning which only adds soft prompts, P-Tuning uses an MLP-based encoder to generate better prompt representations.\n",
        "\n",
        "**You will learn to:**\n",
        "-   Load a pre-trained BERT model and a classification dataset.\n",
        "-   Understand the differences between P-Tuning and Prompt Tuning.\n",
        "-   Configure virtual tokens with a prompt encoder using the `peft` library.\n",
        "-   Fine-tune the model by training only the prompt encoder parameters.\n",
        "-   Perform inference on classification tasks.\n",
        "\n",
        "---\n",
        "## Notebook 1: Environment Setup\n",
        "\n",
        "This notebook will prepare your environment for the P-Tuning lab.\n"
      ]
    },
    {
      "cell_type": "markdown",
      "metadata": {},
      "source": [
        "### Step 1: Check for GPU\n"
      ]
    },
    {
      "cell_type": "code",
      "execution_count": null,
      "metadata": {},
      "outputs": [],
      "source": [
        "!nvidia-smi\n"
      ]
    },
    {
      "cell_type": "markdown",
      "metadata": {},
      "source": [
        "### Step 2: Install Core Libraries\n"
      ]
    },
    {
      "cell_type": "code",
      "execution_count": null,
      "metadata": {},
      "outputs": [],
      "source": [
        "%pip install -q transformers peft datasets accelerate\n"
      ]
    },
    {
      "cell_type": "markdown",
      "metadata": {},
      "source": [
        "### Step 3: Verify Installation\n"
      ]
    },
    {
      "cell_type": "code",
      "execution_count": null,
      "metadata": {},
      "outputs": [],
      "source": [
        "import torch\n",
        "import transformers\n",
        "import peft\n",
        "import datasets\n",
        "\n",
        "print(f\"PyTorch version: {torch.__version__}\")\n",
        "print(f\"Transformers version: {transformers.__version__}\")\n",
        "print(f\"PEFT version: {peft.__version__}\")\n",
        "print(f\"Datasets version: {datasets.__version__}\")\n",
        "\n",
        "print(\"\\n✅ Environment is set up correctly!\")\n"
      ]
    }
  ],
  "metadata": {
    "language_info": {
      "name": "python"
    }
  },
  "nbformat": 4,
  "nbformat_minor": 2
}
