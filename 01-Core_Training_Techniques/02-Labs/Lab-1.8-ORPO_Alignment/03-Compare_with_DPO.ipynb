{
 "cells": [
  {"cell_type": "markdown", "id": "0", "metadata": {}, "source": ["# Lab-1.8: ORPO vs DPO 對比\n\n**目標**: 對比單階段 ORPO 與雙階段 SFT+DPO"]},
  {"cell_type": "code", "execution_count": null, "id": "1", "metadata": {}, "outputs": [], "source": ["print('對比實驗: ORPO (1階段) vs SFT+DPO (2階段)')\nprint('指標: 訓練時間, 記憶體, 對齊效果')"]}
 ]
}
