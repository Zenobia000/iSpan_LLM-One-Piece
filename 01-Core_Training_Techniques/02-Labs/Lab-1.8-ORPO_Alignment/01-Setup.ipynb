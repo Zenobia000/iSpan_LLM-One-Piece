{
 "cells": [
  {"cell_type": "markdown", "id": "0", "metadata": {}, "source": ["# Lab-1.8: ORPO 環境設置\n\n**目標**: 準備 ORPO 訓練環境"]},
  {"cell_type": "code", "execution_count": null, "id": "1", "metadata": {}, "outputs": [], "source": ["import torch\nfrom transformers import AutoModelForCausalLM\n\nprint('✅ ORPO 環境準備完成')"]}
 ]
}
