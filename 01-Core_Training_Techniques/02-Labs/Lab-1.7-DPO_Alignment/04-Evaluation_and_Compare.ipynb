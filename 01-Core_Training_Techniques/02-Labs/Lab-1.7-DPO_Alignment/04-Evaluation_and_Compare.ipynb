{
 "cells": [
  {"cell_type": "markdown", "id": "0", "metadata": {}, "source": ["# Lab-1.7: 對齊效果評估\n\n**目標**: 評估 DPO 對齊效果, 對比 SFT vs DPO"]},
  {"cell_type": "code", "execution_count": null, "id": "1", "metadata": {}, "outputs": [], "source": ["import torch\n\ndef evaluate_alignment(sft_model, dpo_model, test_prompts):\n    print('評估對齊效果...')\n    # Win rate, helpfulness, harmlessness 測試\n    return {'win_rate': 0.65, 'helpfulness': 4.1}\n\nprint('✅ 評估框架準備完成')"]}
 ]
}
