{
 "cells": [
  {"cell_type": "markdown", "id": "0", "metadata": {}, "source": ["# Lab-1.7: SFT 基準模型\n\n**目標**: 訓練 SFT 基準, 作為 DPO 的參考模型"]},
  {"cell_type": "code", "execution_count": null, "id": "1", "metadata": {}, "outputs": [], "source": ["import torch\nfrom transformers import AutoModelForCausalLM, AutoTokenizer, Trainer\n\nprint('SFT 訓練...')\nmodel = AutoModelForCausalLM.from_pretrained('gpt2')\nprint(f'模型參數: {sum(p.numel() for p in model.parameters())/1e6:.1f}M')"]}
 ]
}
