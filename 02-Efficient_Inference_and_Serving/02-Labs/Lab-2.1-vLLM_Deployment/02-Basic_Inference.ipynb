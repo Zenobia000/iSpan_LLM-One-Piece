{
 "cells": [
  {
   "cell_type": "markdown",
   "metadata": {},
   "source": [
    "# Lab-2.1 Part 2: Basic Inference with vLLM\n",
    "\n",
    "## Objectives\n",
    "- Master vLLM API usage\n",
    "- Implement batch inference\n",
    "- Measure performance metrics\n",
    "- Analyze memory usage\n",
    "\n",
    "## Estimated Time: 60-90 minutes"
   ]
  },
  {
   "cell_type": "markdown",
   "metadata": {},
   "source": [
    "---\n",
    "## 1. Setup and Model Loading"
   ]
  },
  {
   "cell_type": "code",
   "execution_count": 3,
   "metadata": {},
   "outputs": [
    {
     "name": "stdout",
     "output_type": "stream",
     "text": [
      "PyTorch: 2.8.0+cu128\n"
     ]
    },
    {
     "ename": "NameError",
     "evalue": "name 'vllm' is not defined",
     "output_type": "error",
     "traceback": [
      "\u001b[0;31m---------------------------------------------------------------------------\u001b[0m",
      "\u001b[0;31mNameError\u001b[0m                                 Traceback (most recent call last)",
      "Cell \u001b[0;32mIn[3], line 10\u001b[0m\n\u001b[1;32m      7\u001b[0m \u001b[38;5;28;01mfrom\u001b[39;00m\u001b[38;5;250m \u001b[39m\u001b[38;5;21;01mtyping\u001b[39;00m\u001b[38;5;250m \u001b[39m\u001b[38;5;28;01mimport\u001b[39;00m List\n\u001b[1;32m      9\u001b[0m \u001b[38;5;28mprint\u001b[39m(\u001b[38;5;124mf\u001b[39m\u001b[38;5;124m\"\u001b[39m\u001b[38;5;124mPyTorch: \u001b[39m\u001b[38;5;132;01m{\u001b[39;00mtorch\u001b[38;5;241m.\u001b[39m__version__\u001b[38;5;132;01m}\u001b[39;00m\u001b[38;5;124m\"\u001b[39m)\n\u001b[0;32m---> 10\u001b[0m \u001b[38;5;28mprint\u001b[39m(\u001b[38;5;124mf\u001b[39m\u001b[38;5;124m\"\u001b[39m\u001b[38;5;124mvLLM: \u001b[39m\u001b[38;5;132;01m{\u001b[39;00m\u001b[43mvllm\u001b[49m\u001b[38;5;241m.\u001b[39m__version__\u001b[38;5;132;01m}\u001b[39;00m\u001b[38;5;124m\"\u001b[39m)\n\u001b[1;32m     11\u001b[0m \u001b[38;5;28mprint\u001b[39m(\u001b[38;5;124mf\u001b[39m\u001b[38;5;124m\"\u001b[39m\u001b[38;5;124mCUDA available: \u001b[39m\u001b[38;5;132;01m{\u001b[39;00mtorch\u001b[38;5;241m.\u001b[39mcuda\u001b[38;5;241m.\u001b[39mis_available()\u001b[38;5;132;01m}\u001b[39;00m\u001b[38;5;124m\"\u001b[39m)\n",
      "\u001b[0;31mNameError\u001b[0m: name 'vllm' is not defined"
     ]
    }
   ],
   "source": [
    "# Imports\n",
    "from vllm import LLM, SamplingParams\n",
    "import torch\n",
    "import time\n",
    "import numpy as np\n",
    "import matplotlib.pyplot as plt\n",
    "from typing import List\n",
    "\n",
    "print(f\"PyTorch: {torch.__version__}\")\n",
    "print(f\"vLLM: {vllm.__version__}\")\n",
    "print(f\"CUDA available: {torch.cuda.is_available()}\")"
   ]
  },
  {
   "cell_type": "markdown",
   "metadata": {},
   "source": [
    "### Load Llama-2-7B Model\n",
    "\n",
    "We'll use a 7B model for more realistic benchmarks.\n",
    "\n",
    "**Note**: This requires ~16GB GPU memory. If you don't have enough, use a smaller model like `facebook/opt-1.3b`."
   ]
  },
  {
   "cell_type": "code",
   "execution_count": null,
   "metadata": {},
   "outputs": [],
   "source": [
    "# Configuration\n",
    "MODEL_NAME = \"meta-llama/Llama-2-7b-hf\"  # Change if needed\n",
    "# MODEL_NAME = \"facebook/opt-1.3b\"  # Alternative for smaller GPUs\n",
    "\n",
    "print(f\"Loading {MODEL_NAME}...\")\n",
    "start_time = time.time()\n",
    "\n",
    "llm = LLM(\n",
    "    model=MODEL_NAME,\n",
    "    tensor_parallel_size=1,      # Single GPU\n",
    "    gpu_memory_utilization=0.9,  # Use 90% of GPU memory\n",
    "    max_model_len=2048,          # Context length\n",
    "    trust_remote_code=True,\n",
    ")\n",
    "\n",
    "load_time = time.time() - start_time\n",
    "print(f\"✅ Model loaded in {load_time:.2f} seconds\")"
   ]
  },
  {
   "cell_type": "code",
   "execution_count": null,
   "metadata": {},
   "outputs": [],
   "source": [
    "# Check GPU memory after loading\n",
    "if torch.cuda.is_available():\n",
    "    allocated = torch.cuda.memory_allocated(0) / 1e9\n",
    "    reserved = torch.cuda.memory_reserved(0) / 1e9\n",
    "    total = torch.cuda.get_device_properties(0).total_memory / 1e9\n",
    "    \n",
    "    print(f\"\\nGPU Memory Usage:\")\n",
    "    print(f\"  Model size:  {allocated:.2f} GB\")\n",
    "    print(f\"  Reserved:    {reserved:.2f} GB\")\n",
    "    print(f\"  Available:   {total - reserved:.2f} GB\")\n",
    "    print(f\"  Total:       {total:.2f} GB\")\n",
    "    print(f\"  Utilization: {reserved/total*100:.1f}%\")"
   ]
  },
  {
   "cell_type": "markdown",
   "metadata": {},
   "source": [
    "---\n",
    "## 2. Single Request Inference"
   ]
  },
  {
   "cell_type": "code",
   "execution_count": null,
   "metadata": {},
   "outputs": [],
   "source": [
    "# Define sampling parameters\n",
    "sampling_params = SamplingParams(\n",
    "    temperature=0.8,\n",
    "    top_p=0.95,\n",
    "    max_tokens=100,\n",
    "    stop=[\"\\n\\n\"],  # Stop at double newline\n",
    ")\n",
    "\n",
    "# Single prompt\n",
    "prompt = \"Explain the concept of machine learning in simple terms:\"\n",
    "\n",
    "print(\"Generating...\")\n",
    "start_time = time.time()\n",
    "\n",
    "outputs = llm.generate([prompt], sampling_params)\n",
    "\n",
    "inference_time = time.time() - start_time\n",
    "\n",
    "# Display result\n",
    "generated_text = outputs[0].outputs[0].text\n",
    "num_tokens = len(outputs[0].outputs[0].token_ids)\n",
    "\n",
    "print(f\"\\nPrompt: {prompt}\")\n",
    "print(f\"Generated: {generated_text}\")\n",
    "print(f\"\\n⏱️  Time: {inference_time:.2f}s\")\n",
    "print(f\"📊 Tokens: {num_tokens}\")\n",
    "print(f\"⚡ Throughput: {num_tokens/inference_time:.1f} tokens/s\")"
   ]
  },
  {
   "cell_type": "markdown",
   "metadata": {},
   "source": [
    "---\n",
    "## 3. Batch Inference\n",
    "\n",
    "vLLM excels at batch processing with dynamic batching."
   ]
  },
  {
   "cell_type": "code",
   "execution_count": null,
   "metadata": {},
   "outputs": [],
   "source": [
    "# Create multiple prompts\n",
    "prompts = [\n",
    "    \"What is Python programming language?\",\n",
    "    \"Explain quantum computing in simple terms:\",\n",
    "    \"What are the benefits of electric vehicles?\",\n",
    "    \"How does blockchain technology work?\",\n",
    "    \"What is the difference between AI and machine learning?\",\n",
    "    \"Explain the concept of cloud computing:\",\n",
    "    \"What is the purpose of cryptocurrency?\",\n",
    "    \"How do neural networks learn?\",\n",
    "]\n",
    "\n",
    "print(f\"Processing {len(prompts)} prompts...\")\n",
    "start_time = time.time()\n",
    "\n",
    "outputs = llm.generate(prompts, sampling_params)\n",
    "\n",
    "batch_time = time.time() - start_time\n",
    "\n",
    "# Analyze results\n",
    "total_tokens = sum(len(o.outputs[0].token_ids) for o in outputs)\n",
    "avg_tokens = total_tokens / len(outputs)\n",
    "\n",
    "print(f\"\\n✅ Batch processing complete!\")\n",
    "print(f\"⏱️  Total time: {batch_time:.2f}s\")\n",
    "print(f\"⏱️  Time per prompt: {batch_time/len(prompts):.2f}s\")\n",
    "print(f\"📊 Total tokens: {total_tokens}\")\n",
    "print(f\"📊 Avg tokens/prompt: {avg_tokens:.1f}\")\n",
    "print(f\"⚡ Throughput: {total_tokens/batch_time:.1f} tokens/s\")"
   ]
  },
  {
   "cell_type": "code",
   "execution_count": null,
   "metadata": {},
   "outputs": [],
   "source": [
    "# Display sample outputs\n",
    "print(\"\\n\" + \"=\"*80)\n",
    "print(\"SAMPLE OUTPUTS\")\n",
    "print(\"=\"*80)\n",
    "\n",
    "for i, output in enumerate(outputs[:3]):  # Show first 3\n",
    "    print(f\"\\n[{i+1}] Prompt: {output.prompt}\")\n",
    "    print(f\"    Output: {output.outputs[0].text[:150]}...\")\n",
    "    print(f\"    Tokens: {len(output.outputs[0].token_ids)}\")"
   ]
  },
  {
   "cell_type": "markdown",
   "metadata": {},
   "source": [
    "---\n",
    "## 4. Performance Comparison: Batch vs Sequential"
   ]
  },
  {
   "cell_type": "code",
   "execution_count": null,
   "metadata": {},
   "outputs": [],
   "source": [
    "# Sequential processing (for comparison)\n",
    "print(\"Testing sequential processing...\")\n",
    "sequential_times = []\n",
    "\n",
    "for prompt in prompts[:4]:  # Test with 4 prompts\n",
    "    start = time.time()\n",
    "    _ = llm.generate([prompt], sampling_params)\n",
    "    sequential_times.append(time.time() - start)\n",
    "\n",
    "sequential_total = sum(sequential_times)\n",
    "print(f\"Sequential total time: {sequential_total:.2f}s\")"
   ]
  },
  {
   "cell_type": "code",
   "execution_count": null,
   "metadata": {},
   "outputs": [],
   "source": [
    "# Batch processing (same prompts)\n",
    "print(\"\\nTesting batch processing...\")\n",
    "start = time.time()\n",
    "_ = llm.generate(prompts[:4], sampling_params)\n",
    "batch_total = time.time() - start\n",
    "print(f\"Batch total time: {batch_total:.2f}s\")"
   ]
  },
  {
   "cell_type": "code",
   "execution_count": null,
   "metadata": {},
   "outputs": [],
   "source": [
    "# Comparison\n",
    "speedup = sequential_total / batch_total\n",
    "\n",
    "print(\"\\n\" + \"=\"*80)\n",
    "print(\"BATCH vs SEQUENTIAL COMPARISON\")\n",
    "print(\"=\"*80)\n",
    "print(f\"Sequential:  {sequential_total:.2f}s\")\n",
    "print(f\"Batch:       {batch_total:.2f}s\")\n",
    "print(f\"Speedup:     {speedup:.2f}x faster ⚡\")\n",
    "print(\"=\"*80)\n",
    "\n",
    "# Visualize\n",
    "fig, ax = plt.subplots(figsize=(8, 5))\n",
    "methods = ['Sequential', 'Batch']\n",
    "times = [sequential_total, batch_total]\n",
    "colors = ['#ff6b6b', '#51cf66']\n",
    "\n",
    "bars = ax.bar(methods, times, color=colors)\n",
    "ax.set_ylabel('Time (seconds)')\n",
    "ax.set_title('Sequential vs Batch Processing (4 prompts)')\n",
    "ax.set_ylim(0, max(times) * 1.2)\n",
    "\n",
    "for i, (bar, t) in enumerate(zip(bars, times)):\n",
    "    ax.text(bar.get_x() + bar.get_width()/2, bar.get_height() + 0.1,\n",
    "            f'{t:.2f}s', ha='center', fontweight='bold')\n",
    "\n",
    "plt.tight_layout()\n",
    "plt.show()"
   ]
  },
  {
   "cell_type": "markdown",
   "metadata": {},
   "source": [
    "---\n",
    "## 5. Throughput Scaling Test\n",
    "\n",
    "Test how throughput scales with batch size."
   ]
  },
  {
   "cell_type": "code",
   "execution_count": null,
   "metadata": {},
   "outputs": [],
   "source": [
    "# Generate test prompts\n",
    "test_prompts = [\n",
    "    f\"Write a short story about topic {i}: \"\n",
    "    for i in range(32)\n",
    "]\n",
    "\n",
    "# Shorter generation for faster testing\n",
    "test_params = SamplingParams(\n",
    "    temperature=0.8,\n",
    "    max_tokens=50,\n",
    ")\n",
    "\n",
    "# Test different batch sizes\n",
    "batch_sizes = [1, 2, 4, 8, 16, 32]\n",
    "throughputs = []\n",
    "\n",
    "print(\"Testing throughput scaling...\\n\")\n",
    "\n",
    "for batch_size in batch_sizes:\n",
    "    prompts_subset = test_prompts[:batch_size]\n",
    "    \n",
    "    start = time.time()\n",
    "    outputs = llm.generate(prompts_subset, test_params)\n",
    "    elapsed = time.time() - start\n",
    "    \n",
    "    total_tokens = sum(len(o.outputs[0].token_ids) for o in outputs)\n",
    "    throughput = total_tokens / elapsed\n",
    "    throughputs.append(throughput)\n",
    "    \n",
    "    print(f\"Batch {batch_size:2d}: {throughput:6.1f} tokens/s\")\n",
    "\n",
    "print(\"\\n✅ Throughput scaling test complete!\")"
   ]
  },
  {
   "cell_type": "code",
   "execution_count": null,
   "metadata": {},
   "outputs": [],
   "source": [
    "# Visualize throughput scaling\n",
    "fig, ax = plt.subplots(figsize=(10, 6))\n",
    "\n",
    "ax.plot(batch_sizes, throughputs, marker='o', linewidth=2, markersize=8)\n",
    "ax.set_xlabel('Batch Size')\n",
    "ax.set_ylabel('Throughput (tokens/s)')\n",
    "ax.set_title('vLLM Throughput Scaling')\n",
    "ax.grid(True, alpha=0.3)\n",
    "ax.set_xscale('log', base=2)\n",
    "\n",
    "# Annotate points\n",
    "for bs, tp in zip(batch_sizes, throughputs):\n",
    "    ax.annotate(f'{tp:.0f}', xy=(bs, tp), \n",
    "                textcoords=\"offset points\", xytext=(0,10), ha='center')\n",
    "\n",
    "plt.tight_layout()\n",
    "plt.show()\n",
    "\n",
    "print(f\"\\n📊 Throughput increased from {throughputs[0]:.0f} to {throughputs[-1]:.0f} tokens/s\")\n",
    "print(f\"📊 Scaling factor: {throughputs[-1]/throughputs[0]:.1f}x\")"
   ]
  },
  {
   "cell_type": "markdown",
   "metadata": {},
   "source": [
    "---\n",
    "## 6. Memory Profiling\n",
    "\n",
    "Analyze KV cache memory usage."
   ]
  },
  {
   "cell_type": "code",
   "execution_count": null,
   "metadata": {},
   "outputs": [],
   "source": [
    "# Calculate theoretical KV cache size\n",
    "def estimate_kv_cache_size(\n",
    "    num_layers=32,\n",
    "    num_heads=32,\n",
    "    head_dim=128,\n",
    "    batch_size=1,\n",
    "    seq_len=2048,\n",
    "    precision=2,  # FP16 = 2 bytes\n",
    "):\n",
    "    \"\"\"\n",
    "    KV Cache size = 2 (K+V) * batch * layers * heads * seq_len * head_dim * precision\n",
    "    \"\"\"\n",
    "    size_bytes = (\n",
    "        2 * batch_size * num_layers * num_heads * seq_len * head_dim * precision\n",
    "    )\n",
    "    size_gb = size_bytes / (1024 ** 3)\n",
    "    return size_gb\n",
    "\n",
    "# For Llama-2-7B\n",
    "print(\"KV Cache Size Estimation (Llama-2-7B):\")\n",
    "print()\n",
    "\n",
    "for batch_size in [1, 4, 8, 16, 32]:\n",
    "    cache_size = estimate_kv_cache_size(\n",
    "        num_layers=32,\n",
    "        num_heads=32,\n",
    "        head_dim=128,\n",
    "        batch_size=batch_size,\n",
    "        seq_len=2048,\n",
    "    )\n",
    "    print(f\"  Batch {batch_size:2d}: {cache_size:5.2f} GB\")"
   ]
  },
  {
   "cell_type": "code",
   "execution_count": null,
   "metadata": {},
   "outputs": [],
   "source": [
    "# Monitor actual GPU memory during inference\n",
    "import gc\n",
    "\n",
    "def measure_memory_usage(batch_size):\n",
    "    \"\"\"Measure GPU memory before and after inference\"\"\"\n",
    "    torch.cuda.reset_peak_memory_stats()\n",
    "    \n",
    "    # Before inference\n",
    "    torch.cuda.synchronize()\n",
    "    mem_before = torch.cuda.memory_allocated(0) / 1e9\n",
    "    \n",
    "    # Inference\n",
    "    test_prompts = [f\"Test prompt {i}\" for i in range(batch_size)]\n",
    "    outputs = llm.generate(test_prompts, test_params)\n",
    "    \n",
    "    # After inference\n",
    "    torch.cuda.synchronize()\n",
    "    mem_after = torch.cuda.memory_allocated(0) / 1e9\n",
    "    mem_peak = torch.cuda.max_memory_allocated(0) / 1e9\n",
    "    \n",
    "    return {\n",
    "        'before': mem_before,\n",
    "        'after': mem_after,\n",
    "        'peak': mem_peak,\n",
    "        'used': mem_after - mem_before,\n",
    "    }\n",
    "\n",
    "print(\"Measuring GPU memory usage...\\n\")\n",
    "\n",
    "memory_stats = []\n",
    "test_batch_sizes = [1, 4, 8, 16]\n",
    "\n",
    "for bs in test_batch_sizes:\n",
    "    stats = measure_memory_usage(bs)\n",
    "    memory_stats.append(stats)\n",
    "    print(f\"Batch {bs:2d}: Peak memory = {stats['peak']:.2f} GB\")\n",
    "\n",
    "print(\"\\n✅ Memory profiling complete!\")"
   ]
  },
  {
   "cell_type": "code",
   "execution_count": null,
   "metadata": {},
   "outputs": [],
   "source": [
    "# Visualize memory usage\n",
    "fig, ax = plt.subplots(figsize=(10, 6))\n",
    "\n",
    "peak_mems = [s['peak'] for s in memory_stats]\n",
    "\n",
    "ax.plot(test_batch_sizes, peak_mems, marker='o', linewidth=2, markersize=8, color='#ff6b6b')\n",
    "ax.set_xlabel('Batch Size')\n",
    "ax.set_ylabel('Peak GPU Memory (GB)')\n",
    "ax.set_title('GPU Memory Usage vs Batch Size')\n",
    "ax.grid(True, alpha=0.3)\n",
    "\n",
    "for bs, mem in zip(test_batch_sizes, peak_mems):\n",
    "    ax.annotate(f'{mem:.2f} GB', xy=(bs, mem), \n",
    "                textcoords=\"offset points\", xytext=(0,10), ha='center')\n",
    "\n",
    "plt.tight_layout()\n",
    "plt.show()"
   ]
  },
  {
   "cell_type": "markdown",
   "metadata": {},
   "source": [
    "---\n",
    "## 7. Compare with HuggingFace (Batch)\n",
    "\n",
    "Let's compare batch inference performance with HuggingFace."
   ]
  },
  {
   "cell_type": "code",
   "execution_count": null,
   "metadata": {},
   "outputs": [],
   "source": [
    "# Load HuggingFace model (use smaller model for memory)\n",
    "from transformers import AutoModelForCausalLM, AutoTokenizer\n",
    "\n",
    "HF_MODEL = \"facebook/opt-1.3b\"  # Smaller model for fair comparison\n",
    "\n",
    "print(f\"Loading HuggingFace {HF_MODEL}...\")\n",
    "hf_model = AutoModelForCausalLM.from_pretrained(HF_MODEL).to(\"cuda\")\n",
    "hf_tokenizer = AutoTokenizer.from_pretrained(HF_MODEL)\n",
    "hf_tokenizer.pad_token = hf_tokenizer.eos_token\n",
    "print(\"✅ HuggingFace model loaded\")"
   ]
  },
  {
   "cell_type": "code",
   "execution_count": null,
   "metadata": {},
   "outputs": [],
   "source": [
    "# Load vLLM with same model\n",
    "print(f\"\\nLoading vLLM {HF_MODEL}...\")\n",
    "vllm_model = LLM(\n",
    "    model=HF_MODEL,\n",
    "    gpu_memory_utilization=0.5,\n",
    "    max_model_len=512,\n",
    ")\n",
    "print(\"✅ vLLM model loaded\")"
   ]
  },
  {
   "cell_type": "code",
   "execution_count": null,
   "metadata": {},
   "outputs": [],
   "source": [
    "# Test prompts\n",
    "comparison_prompts = [\n",
    "    \"The future of AI is\",\n",
    "    \"Machine learning enables\",\n",
    "    \"Deep learning networks\",\n",
    "    \"Natural language processing\",\n",
    "]\n",
    "\n",
    "comparison_params = SamplingParams(\n",
    "    temperature=0.8,\n",
    "    max_tokens=30,\n",
    ")\n",
    "\n",
    "print(f\"Testing with {len(comparison_prompts)} prompts...\\n\")"
   ]
  },
  {
   "cell_type": "code",
   "execution_count": null,
   "metadata": {},
   "outputs": [],
   "source": [
    "# HuggingFace batch inference\n",
    "print(\"Testing HuggingFace...\")\n",
    "hf_inputs = hf_tokenizer(comparison_prompts, return_tensors=\"pt\", padding=True).to(\"cuda\")\n",
    "\n",
    "hf_start = time.time()\n",
    "with torch.no_grad():\n",
    "    hf_outputs = hf_model.generate(\n",
    "        **hf_inputs,\n",
    "        max_new_tokens=30,\n",
    "        temperature=0.8,\n",
    "        do_sample=True,\n",
    "        pad_token_id=hf_tokenizer.eos_token_id,\n",
    "    )\n",
    "hf_time = time.time() - hf_start\n",
    "\n",
    "hf_total_tokens = sum(len(ids) for ids in hf_outputs)\n",
    "print(f\"  Time: {hf_time:.3f}s\")\n",
    "print(f\"  Throughput: {hf_total_tokens/hf_time:.1f} tokens/s\")"
   ]
  },
  {
   "cell_type": "code",
   "execution_count": null,
   "metadata": {},
   "outputs": [],
   "source": [
    "# vLLM batch inference\n",
    "print(\"\\nTesting vLLM...\")\n",
    "vllm_start = time.time()\n",
    "vllm_outputs = vllm_model.generate(comparison_prompts, comparison_params)\n",
    "vllm_time = time.time() - vllm_start\n",
    "\n",
    "vllm_total_tokens = sum(len(o.outputs[0].token_ids) for o in vllm_outputs)\n",
    "print(f\"  Time: {vllm_time:.3f}s\")\n",
    "print(f\"  Throughput: {vllm_total_tokens/vllm_time:.1f} tokens/s\")"
   ]
  },
  {
   "cell_type": "code",
   "execution_count": null,
   "metadata": {},
   "outputs": [],
   "source": [
    "# Final comparison\n",
    "speedup = hf_time / vllm_time\n",
    "throughput_gain = (vllm_total_tokens/vllm_time) / (hf_total_tokens/hf_time)\n",
    "\n",
    "print(\"\\n\" + \"=\"*80)\n",
    "print(\"HUGGINGFACE vs vLLM COMPARISON\")\n",
    "print(\"=\"*80)\n",
    "print(f\"HuggingFace:\")\n",
    "print(f\"  Time:       {hf_time:.3f}s\")\n",
    "print(f\"  Throughput: {hf_total_tokens/hf_time:.1f} tokens/s\")\n",
    "print()\n",
    "print(f\"vLLM:\")\n",
    "print(f\"  Time:       {vllm_time:.3f}s\")\n",
    "print(f\"  Throughput: {vllm_total_tokens/vllm_time:.1f} tokens/s\")\n",
    "print()\n",
    "print(f\"Speedup:           {speedup:.2f}x faster ⚡\")\n",
    "print(f\"Throughput gain:   {throughput_gain:.2f}x higher 📊\")\n",
    "print(\"=\"*80)"
   ]
  },
  {
   "cell_type": "markdown",
   "metadata": {},
   "source": [
    "---\n",
    "## Summary\n",
    "\n",
    "✅ **Completed**:\n",
    "1. Loaded and tested Llama-2-7B with vLLM\n",
    "2. Implemented batch inference\n",
    "3. Measured throughput scaling\n",
    "4. Profiled GPU memory usage\n",
    "5. Compared with HuggingFace baseline\n",
    "\n",
    "📊 **Key Findings**:\n",
    "- Batch processing provides 2-3x speedup vs sequential\n",
    "- Throughput scales well with batch size\n",
    "- vLLM is 5-15x faster than HuggingFace\n",
    "- Memory usage grows linearly with batch size\n",
    "\n",
    "➡️ **Next**: In `03-Advanced_Features.ipynb`, we'll explore:\n",
    "- Continuous Batching\n",
    "- Advanced sampling strategies\n",
    "- Long context handling\n",
    "- Multi-model management"
   ]
  },
  {
   "cell_type": "code",
   "execution_count": null,
   "metadata": {},
   "outputs": [],
   "source": [
    "# Cleanup\n",
    "del llm, vllm_model, hf_model\n",
    "torch.cuda.empty_cache()\n",
    "gc.collect()\n",
    "print(\"✅ Memory cleaned up\")"
   ]
  }
 ],
 "metadata": {
  "kernelspec": {
   "display_name": "LLM Course",
   "language": "python",
   "name": "llm-course"
  },
  "language_info": {
   "codemirror_mode": {
    "name": "ipython",
    "version": 3
   },
   "file_extension": ".py",
   "mimetype": "text/x-python",
   "name": "python",
   "nbconvert_exporter": "python",
   "pygments_lexer": "ipython3",
   "version": "3.10.12"
  }
 },
 "nbformat": 4,
 "nbformat_minor": 4
}
